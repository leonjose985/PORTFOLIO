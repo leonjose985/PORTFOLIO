{
 "cells": [
  {
   "cell_type": "code",
   "execution_count": 2,
   "id": "e4d4b51e-5a59-42d6-96cf-121f3fc5a308",
   "metadata": {},
   "outputs": [
    {
     "name": "stderr",
     "output_type": "stream",
     "text": [
      "C:\\Users\\phd\\anaconda3\\envs\\gpu_env\\lib\\site-packages\\torch_geometric\\data\\dataset.py:238: FutureWarning: You are using `torch.load` with `weights_only=False` (the current default value), which uses the default pickle module implicitly. It is possible to construct malicious pickle data which will execute arbitrary code during unpickling (See https://github.com/pytorch/pytorch/blob/main/SECURITY.md#untrusted-models for more details). In a future release, the default value for `weights_only` will be flipped to `True`. This limits the functions that could be executed during unpickling. Arbitrary objects will no longer be allowed to be loaded via this mode unless they are explicitly allowlisted by the user via `torch.serialization.add_safe_globals`. We recommend you start setting `weights_only=True` for any use case where you don't have full control of the loaded file. Please open an issue on GitHub for any issues related to this experimental feature.\n",
      "  if osp.exists(f) and torch.load(f) != _repr(self.pre_transform):\n",
      "C:\\Users\\phd\\anaconda3\\envs\\gpu_env\\lib\\site-packages\\torch_geometric\\data\\dataset.py:246: FutureWarning: You are using `torch.load` with `weights_only=False` (the current default value), which uses the default pickle module implicitly. It is possible to construct malicious pickle data which will execute arbitrary code during unpickling (See https://github.com/pytorch/pytorch/blob/main/SECURITY.md#untrusted-models for more details). In a future release, the default value for `weights_only` will be flipped to `True`. This limits the functions that could be executed during unpickling. Arbitrary objects will no longer be allowed to be loaded via this mode unless they are explicitly allowlisted by the user via `torch.serialization.add_safe_globals`. We recommend you start setting `weights_only=True` for any use case where you don't have full control of the loaded file. Please open an issue on GitHub for any issues related to this experimental feature.\n",
      "  if osp.exists(f) and torch.load(f) != _repr(self.pre_filter):\n",
      "C:\\Users\\phd\\anaconda3\\envs\\gpu_env\\lib\\site-packages\\ogb\\lsc\\pcqm4mv2_pyg.py:43: FutureWarning: You are using `torch.load` with `weights_only=False` (the current default value), which uses the default pickle module implicitly. It is possible to construct malicious pickle data which will execute arbitrary code during unpickling (See https://github.com/pytorch/pytorch/blob/main/SECURITY.md#untrusted-models for more details). In a future release, the default value for `weights_only` will be flipped to `True`. This limits the functions that could be executed during unpickling. Arbitrary objects will no longer be allowed to be loaded via this mode unless they are explicitly allowlisted by the user via `torch.serialization.add_safe_globals`. We recommend you start setting `weights_only=True` for any use case where you don't have full control of the loaded file. Please open an issue on GitHub for any issues related to this experimental feature.\n",
      "  self.data, self.slices = torch.load(self.processed_paths[0])\n"
     ]
    }
   ],
   "source": [
    "from ogb.lsc.pcqm4mv2_pyg import PygPCQM4Mv2Dataset\n",
    "from ogb.utils import smiles2graph\n",
    "\n",
    "pyg_dataset = PygPCQM4Mv2Dataset(root=\"C://Users//phd//Fernando//ОИЯИ//Model\", smiles2graph=smiles2graph)"
   ]
  },
  {
   "cell_type": "code",
   "execution_count": 4,
   "id": "18e5e4e2-feb1-4259-8524-01fe4cc554ec",
   "metadata": {},
   "outputs": [
    {
     "name": "stderr",
     "output_type": "stream",
     "text": [
      "C:\\Users\\phd\\anaconda3\\envs\\gpu_env\\lib\\site-packages\\ogb\\lsc\\pcqm4mv2_pyg.py:103: FutureWarning: You are using `torch.load` with `weights_only=False` (the current default value), which uses the default pickle module implicitly. It is possible to construct malicious pickle data which will execute arbitrary code during unpickling (See https://github.com/pytorch/pytorch/blob/main/SECURITY.md#untrusted-models for more details). In a future release, the default value for `weights_only` will be flipped to `True`. This limits the functions that could be executed during unpickling. Arbitrary objects will no longer be allowed to be loaded via this mode unless they are explicitly allowlisted by the user via `torch.serialization.add_safe_globals`. We recommend you start setting `weights_only=True` for any use case where you don't have full control of the loaded file. Please open an issue on GitHub for any issues related to this experimental feature.\n",
      "  split_dict = replace_numpy_with_torchtensor(torch.load(osp.join(self.root, 'split_dict.pt')))\n"
     ]
    }
   ],
   "source": [
    "from torch_geometric.loader import DataLoader\n",
    "\n",
    "split_dict = pyg_dataset.get_idx_split()\n",
    "train_idx = split_dict['train']\n",
    "valid_idx = split_dict['valid']\n",
    "#test_idx = split_dict['test-dev']\n",
    "\n",
    "train_loader = DataLoader(pyg_dataset[train_idx], batch_size=128, shuffle=True, num_workers=4, pin_memory=True)\n",
    "valid_loader = DataLoader(pyg_dataset[valid_idx], batch_size=128, shuffle=False, num_workers=4, pin_memory=True)\n",
    "#test_loader = DataLoader(pyg_dataset[test_idx], batch_size=64, shuffle=False, num_workers=4, pin_memory=True)"
   ]
  },
  {
   "cell_type": "code",
   "execution_count": null,
   "id": "232535df-f943-488d-b561-7db9280798a8",
   "metadata": {},
   "outputs": [],
   "source": [
    "import torch\n",
    "import matplotlib.pyplot as plt\n",
    "import seaborn as sns\n",
    "import numpy as np\n",
    "\n",
    "# Función para extraer valores de HOMO-LUMO gap de un DataLoader\n",
    "def extract_homo_lumo(loader):\n",
    "    homo_lumo_values = []\n",
    "    for batch in loader:\n",
    "        y = batch.y  # 'y' contiene la propiedad HOMO-LUMO gap\n",
    "        homo_lumo_values.append(y.cpu().numpy())  # Convertimos a numpy y almacenamos\n",
    "    return np.concatenate(homo_lumo_values)  # Concatenamos todos los lotes\n",
    "\n",
    "# Extraer valores de HOMO-LUMO gap para train y valid\n",
    "train_homo_lumo = extract_homo_lumo(train_loader)\n",
    "valid_homo_lumo = extract_homo_lumo(valid_loader)\n",
    "\n",
    "# Función para imprimir estadísticas\n",
    "def print_stats(values, name):\n",
    "    print(f\"Estadísticas de {name}:\")\n",
    "    print(f\"Media: {np.mean(values):.4f}\")\n",
    "    print(f\"Mediana: {np.median(values):.4f}\")\n",
    "    print(f\"Desviación estándar: {np.std(values):.4f}\")\n",
    "    print(f\"Mínimo: {np.min(values):.4f}\")\n",
    "    print(f\"Máximo: {np.max(values):.4f}\")\n",
    "    print(\"-\" * 50)\n",
    "\n",
    "print_stats(train_homo_lumo, \"Train\")\n",
    "print_stats(valid_homo_lumo, \"Valid\")\n",
    "\n",
    "# Graficar histogramas\n",
    "plt.figure(figsize=(12, 5))\n",
    "sns.histplot(train_homo_lumo, bins=50, kde=True, color='blue', label='Train', alpha=0.6)\n",
    "sns.histplot(valid_homo_lumo, bins=50, kde=True, color='red', label='Valid', alpha=0.6)\n",
    "\n",
    "plt.xlabel('HOMO-LUMO gap')\n",
    "plt.ylabel('Frecuencia')\n",
    "plt.title('Distribución de HOMO-LUMO gap en Train vs Valid')\n",
    "plt.legend()\n",
    "plt.show()\n"
   ]
  },
  {
   "cell_type": "code",
   "execution_count": null,
   "id": "ebdf9dd5-6731-4c6b-bc1b-f469a59a651f",
   "metadata": {},
   "outputs": [],
   "source": []
  }
 ],
 "metadata": {
  "kernelspec": {
   "display_name": "Python [conda env:gpu_env]",
   "language": "python",
   "name": "conda-env-gpu_env-py"
  },
  "language_info": {
   "codemirror_mode": {
    "name": "ipython",
    "version": 3
   },
   "file_extension": ".py",
   "mimetype": "text/x-python",
   "name": "python",
   "nbconvert_exporter": "python",
   "pygments_lexer": "ipython3",
   "version": "3.10.16"
  }
 },
 "nbformat": 4,
 "nbformat_minor": 5
}
