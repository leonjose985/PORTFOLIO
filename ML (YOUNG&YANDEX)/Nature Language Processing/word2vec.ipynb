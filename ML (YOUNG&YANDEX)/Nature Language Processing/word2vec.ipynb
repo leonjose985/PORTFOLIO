{
  "cells": [
    {
      "cell_type": "markdown",
      "metadata": {
        "id": "nTSf4ro-qU0d"
      },
      "source": [
        "## Бонусное задание: word2vec на PyTorch\n",
        "\n",
        "Как вы уже могли заметить, идея, лежащая в основе [word2vec](https://arxiv.org/pdf/1310.4546), достаточно общая. В данном задании вы реализуете его самостоятельно.\n",
        "\n",
        "Дисклеймер: не стоит удивляться тому, что реализация от `gensim` (или аналоги) обучается быстрее и работает точнее. Она использует множество доработок и ускорений, а также достаточно эффективный код. Ваша задача добиться промежуточных результатов за разумное время.\n",
        "\n",
        "P.s. Как ни странно, GPU в этом задании нам не потребуется."
      ]
    },
    {
      "cell_type": "markdown",
      "metadata": {
        "id": "BnaAt9xNKewK"
      },
      "source": [
        "__Requirements:__ if you're running locally, in the selected environment run the following command:\n",
        "\n",
        "```pip install --upgrade nltk bokeh umap-learn```\n"
      ]
    },
    {
      "cell_type": "code",
      "execution_count": 1,
      "metadata": {
        "id": "Oipe2DU8qfm7"
      },
      "outputs": [],
      "source": [
        "#!pip install --upgrade nltk bokeh umap-learn"
      ]
    },
    {
      "cell_type": "code",
      "execution_count": 2,
      "metadata": {
        "id": "pqPU4Lu2qU0h"
      },
      "outputs": [],
      "source": [
        "import itertools\n",
        "import random\n",
        "import string\n",
        "from collections import Counter\n",
        "from itertools import chain\n",
        "\n",
        "import matplotlib.pyplot as plt\n",
        "import numpy as np\n",
        "import torch\n",
        "import torch.autograd as autograd\n",
        "import torch.nn as nn\n",
        "import torch.nn.functional as F\n",
        "import torch.optim as optim\n",
        "import umap\n",
        "from IPython.display import clear_output\n",
        "from matplotlib import pyplot as plt\n",
        "from nltk.tokenize import WordPunctTokenizer\n",
        "from torch.optim.lr_scheduler import ReduceLROnPlateau, StepLR\n",
        "from tqdm.auto import tqdm as tqdma"
      ]
    },
    {
      "cell_type": "code",
      "execution_count": 3,
      "metadata": {
        "colab": {
          "base_uri": "https://localhost:8080/"
        },
        "id": "8Fbx57z3qU0i",
        "outputId": "fe82bc9b-bf92-46ea-f7e0-290f84a595f1"
      },
      "outputs": [
        {
          "output_type": "stream",
          "name": "stdout",
          "text": [
            "--2025-04-29 15:30:51--  https://www.dropbox.com/s/obaitrix9jyu84r/quora.txt?dl=1\n",
            "Resolving www.dropbox.com (www.dropbox.com)... 162.125.3.18, 2620:100:6018:18::a27d:312\n",
            "Connecting to www.dropbox.com (www.dropbox.com)|162.125.3.18|:443... connected.\n",
            "HTTP request sent, awaiting response... 302 Found\n",
            "Location: https://www.dropbox.com/scl/fi/p0t2dw6oqs6oxpd6zz534/quora.txt?rlkey=bjupppwua4zmd4elz8octecy9&dl=1 [following]\n",
            "--2025-04-29 15:30:51--  https://www.dropbox.com/scl/fi/p0t2dw6oqs6oxpd6zz534/quora.txt?rlkey=bjupppwua4zmd4elz8octecy9&dl=1\n",
            "Reusing existing connection to www.dropbox.com:443.\n",
            "HTTP request sent, awaiting response... 302 Found\n",
            "Location: https://uc0e5d64450f7f73be1d21e430bb.dl.dropboxusercontent.com/cd/0/inline/Covq1JZ4CTJssJsRMd77oD2lEjDDRlA6-ync4NayL_PWZcAeJu9VsxQbF-qqcS-l6JHGLdtth4Sn_FNyRTonal0eyOpi11UucpOl9MiU2gkKcp8DkaxOhaUOSCgawQ2BLWs/file?dl=1# [following]\n",
            "--2025-04-29 15:30:52--  https://uc0e5d64450f7f73be1d21e430bb.dl.dropboxusercontent.com/cd/0/inline/Covq1JZ4CTJssJsRMd77oD2lEjDDRlA6-ync4NayL_PWZcAeJu9VsxQbF-qqcS-l6JHGLdtth4Sn_FNyRTonal0eyOpi11UucpOl9MiU2gkKcp8DkaxOhaUOSCgawQ2BLWs/file?dl=1\n",
            "Resolving uc0e5d64450f7f73be1d21e430bb.dl.dropboxusercontent.com (uc0e5d64450f7f73be1d21e430bb.dl.dropboxusercontent.com)... 162.125.3.15, 2620:100:6030:15::a27d:500f\n",
            "Connecting to uc0e5d64450f7f73be1d21e430bb.dl.dropboxusercontent.com (uc0e5d64450f7f73be1d21e430bb.dl.dropboxusercontent.com)|162.125.3.15|:443... connected.\n",
            "HTTP request sent, awaiting response... 200 OK\n",
            "Length: 33813903 (32M) [application/binary]\n",
            "Saving to: ‘./quora.txt’\n",
            "\n",
            "./quora.txt         100%[===================>]  32.25M   106MB/s    in 0.3s    \n",
            "\n",
            "2025-04-29 15:30:53 (106 MB/s) - ‘./quora.txt’ saved [33813903/33813903]\n",
            "\n"
          ]
        }
      ],
      "source": [
        "# download the data:\n",
        "!wget https://www.dropbox.com/s/obaitrix9jyu84r/quora.txt?dl=1 -O ./quora.txt -nc\n",
        "# alternative download link: https://yadi.sk/i/BPQrUu1NaTduEw"
      ]
    },
    {
      "cell_type": "code",
      "execution_count": 4,
      "metadata": {
        "colab": {
          "base_uri": "https://localhost:8080/",
          "height": 35
        },
        "id": "8EYy5dQpqU0i",
        "outputId": "33ebe836-336d-4022-b162-cb07abbd058c",
        "scrolled": false
      },
      "outputs": [
        {
          "output_type": "execute_result",
          "data": {
            "text/plain": [
              "\"What TV shows or books help you read people's body language?\\n\""
            ],
            "application/vnd.google.colaboratory.intrinsic+json": {
              "type": "string"
            }
          },
          "metadata": {},
          "execution_count": 4
        }
      ],
      "source": [
        "data = list(open(\"./quora.txt\", encoding=\"utf-8\"))\n",
        "data[50]"
      ]
    },
    {
      "cell_type": "markdown",
      "metadata": {
        "id": "feBEGI2eqU0j"
      },
      "source": [
        "Токенизация – первый шаг.\n",
        "Тексты, с которыми мы работаем, включают в себя пунктуацию, смайлики и прочие нестандартные токены, так что простой `str.split` не подойдет.\n",
        "\n",
        "Обратимся к `nltk` - библиотеку, нашла широкое применеие в области NLP."
      ]
    },
    {
      "cell_type": "code",
      "execution_count": 5,
      "metadata": {
        "colab": {
          "base_uri": "https://localhost:8080/"
        },
        "id": "7mWTvm50qU0j",
        "outputId": "c9793b31-eae6-4828-943a-6e2dbee86a6c"
      },
      "outputs": [
        {
          "output_type": "stream",
          "name": "stdout",
          "text": [
            "['What', 'TV', 'shows', 'or', 'books', 'help', 'you', 'read', 'people', \"'\", 's', 'body', 'language', '?']\n"
          ]
        }
      ],
      "source": [
        "tokenizer = WordPunctTokenizer()\n",
        "\n",
        "print(tokenizer.tokenize(data[50]))"
      ]
    },
    {
      "cell_type": "code",
      "execution_count": 6,
      "metadata": {
        "id": "HzC05EHWqU0j"
      },
      "outputs": [],
      "source": [
        "data_tok = [\n",
        "    tokenizer.tokenize(\n",
        "        line.translate(str.maketrans(\"\", \"\", string.punctuation)).lower()\n",
        "    )\n",
        "    for line in data\n",
        "]\n",
        "data_tok = [x for x in data_tok if len(x) >= 3]"
      ]
    },
    {
      "cell_type": "markdown",
      "metadata": {
        "id": "6azRAgHIqU0k"
      },
      "source": [
        "Несколько проверок:"
      ]
    },
    {
      "cell_type": "code",
      "execution_count": 8,
      "metadata": {
        "id": "Cp8UpxdWqU0k"
      },
      "outputs": [],
      "source": [
        "assert all(\n",
        "    isinstance(row, (list, tuple)) for row in data_tok\n",
        "), \"please convert each line into a list of tokens (strings)\"\n",
        "assert all(\n",
        "    all(isinstance(tok, str) for tok in row) for row in data_tok\n",
        "), \"please convert each line into a list of tokens (strings)\"\n",
        "is_latin = lambda tok: all(\"a\" <= x.lower() <= \"z\" for x in tok)\n",
        "assert all(\n",
        "    map(lambda l: not is_latin(l) or l.islower(), map(\" \".join, data_tok))\n",
        "), \"please make sure to lowercase the data\""
      ]
    },
    {
      "cell_type": "markdown",
      "metadata": {
        "id": "37e7-MIhqU0x"
      },
      "source": [
        "Ниже заданы константы ширины окна контекста и проведена предобработка для построения skip-gram модели."
      ]
    },
    {
      "cell_type": "code",
      "execution_count": 9,
      "metadata": {
        "id": "fugc1IomqU0x"
      },
      "outputs": [],
      "source": [
        "min_count = 5\n",
        "window_radius = 5"
      ]
    },
    {
      "cell_type": "code",
      "execution_count": 10,
      "metadata": {
        "id": "uIBAIDJKKewV"
      },
      "outputs": [],
      "source": [
        "vocabulary_with_counter = Counter(chain.from_iterable(data_tok))\n",
        "\n",
        "word_count_dict = dict()\n",
        "for word, counter in vocabulary_with_counter.items():\n",
        "    if counter >= min_count:\n",
        "        word_count_dict[word] = counter\n",
        "\n",
        "vocabulary = set(word_count_dict.keys())\n",
        "del vocabulary_with_counter"
      ]
    },
    {
      "cell_type": "code",
      "execution_count": 11,
      "metadata": {
        "id": "uf4xAmrWKewV"
      },
      "outputs": [],
      "source": [
        "word_to_index = {word: index for index, word in enumerate(vocabulary)}\n",
        "index_to_word = {index: word for word, index in word_to_index.items()}"
      ]
    },
    {
      "cell_type": "markdown",
      "metadata": {
        "id": "4Y8rlBfqqU0x"
      },
      "source": [
        "Пары `(слово, контекст)` на основе доступного датасета сгенерированы ниже."
      ]
    },
    {
      "cell_type": "code",
      "execution_count": 12,
      "metadata": {
        "id": "h2-aqyyaqU0x",
        "outputId": "51b7d4c7-1f80-4c39-dd49-86063266847c",
        "colab": {
          "base_uri": "https://localhost:8080/"
        }
      },
      "outputs": [
        {
          "output_type": "stream",
          "name": "stdout",
          "text": [
            "Generated 40220313 pairs of target and context words.\n"
          ]
        }
      ],
      "source": [
        "context_pairs = []\n",
        "\n",
        "for text in data_tok:\n",
        "    for i, central_word in enumerate(text):\n",
        "        context_indices = range(\n",
        "            max(0, i - window_radius), min(i + window_radius, len(text))\n",
        "        )\n",
        "        for j in context_indices:\n",
        "            if j == i:\n",
        "                continue\n",
        "            context_word = text[j]\n",
        "            if central_word in vocabulary and context_word in vocabulary:\n",
        "                context_pairs.append(\n",
        "                    (word_to_index[central_word], word_to_index[context_word])\n",
        "                )\n",
        "\n",
        "print(f\"Generated {len(context_pairs)} pairs of target and context words.\")"
      ]
    },
    {
      "cell_type": "markdown",
      "metadata": {
        "id": "nV6pMc3_KewW"
      },
      "source": [
        "#### Подзадача №1: subsampling\n",
        "Для того, чтобы сгладить разницу в частоте встречаемсости слов, необходимо реализовать механизм subsampling'а.\n",
        "Для этого вам необходимо реализовать функцию ниже.\n",
        "\n",
        "Вероятность **исключить** слово из обучения (на фиксированном шаге) вычисляется как\n",
        "$$\n",
        "P_\\text{drop}(w_i)=1 - \\sqrt{\\frac{t}{f(w_i)}},\n",
        "$$\n",
        "где $f(w_i)$ – нормированная частота встречаемости слова, а $t$ – заданный порог (threshold)."
      ]
    },
    {
      "cell_type": "code",
      "execution_count": 13,
      "metadata": {
        "id": "3i6QkuG1KewW"
      },
      "outputs": [],
      "source": [
        "def subsample_frequent_words(word_count_dict, threshold=1e-5):\n",
        "    \"\"\"\n",
        "    Calculates the subsampling probabilities for words based on their frequencies.\n",
        "\n",
        "    This function is used to determine the probability of keeping a word in the dataset\n",
        "    when subsampling frequent words. The method used is inspired by the subsampling approach\n",
        "    in Word2Vec, where each word's frequency affects its probability of being kept.\n",
        "\n",
        "    Parameters:\n",
        "    - word_count_dict (dict): A dictionary where keys are words and values are the counts of those words.\n",
        "    - threshold (float, optional): A threshold parameter used to adjust the frequency of word subsampling.\n",
        "                                   Defaults to 1e-5.\n",
        "\n",
        "    Returns:\n",
        "    - dict: A dictionary where keys are words and values are the probabilities of keeping each word.\n",
        "\n",
        "    Example:\n",
        "    >>> word_counts = {'the': 5000, 'is': 1000, 'apple': 50}\n",
        "    >>> subsample_frequent_words(word_counts)\n",
        "    {'the': 0.028, 'is': 0.223, 'apple': 1.0}\n",
        "    \"\"\"\n",
        "\n",
        "    ### YOUR CODE HERE\n",
        "    total_words = sum(word_count_dict.values())\n",
        "    keep_prob_dict = {}\n",
        "\n",
        "    for word, count in word_count_dict.items():\n",
        "      freq = count / total_words\n",
        "      keep_prob = 1 - (1 - (threshold / freq)**0.5)\n",
        "      keep_prob = (threshold / freq)**0.5\n",
        "\n",
        "      keep_prob = max(0, min(1, keep_prob))\n",
        "      keep_prob_dict[word] = keep_prob\n",
        "    return keep_prob_dict"
      ]
    },
    {
      "cell_type": "markdown",
      "metadata": {
        "id": "bfJLwy8bKewX"
      },
      "source": [
        "#### Подзадача №2: negative sampling\n",
        "Для более эффективного обучения необходимо не только предсказывать высокие вероятности для слов из контекста, но и предсказывать низкие для слов, не встреченных в контексте. Для этого вам необходимо вычислить вероятност использовать слово в качестве negative sample, реализовав функцию ниже.\n",
        "\n",
        "В оригинальной статье предлагается оценивать вероятность слов выступать в качестве negative sample согласно распределению $P_n(w)$\n",
        "$$\n",
        "P_n(w) = \\frac{U(w)^{3/4}}{Z},\n",
        "$$\n",
        "\n",
        "где $U(w)$ распределение слов по частоте (или, как его еще называют, по униграммам), а $Z$ – нормировочная константа, чтобы общая мера была равна $1$."
      ]
    },
    {
      "cell_type": "code",
      "execution_count": 18,
      "metadata": {
        "id": "Yul4bH8rKewX"
      },
      "outputs": [],
      "source": [
        "def get_negative_sampling_prob(word_count_dict):\n",
        "    \"\"\"\n",
        "    Calculates the negative sampling probabilities for words based on their frequencies.\n",
        "\n",
        "    This function adjusts the frequency of each word raised to the power of 0.75, which is\n",
        "    commonly used in algorithms like Word2Vec to moderate the influence of very frequent words.\n",
        "    It then normalizes these adjusted frequencies to ensure they sum to 1, forming a probability\n",
        "    distribution used for negative sampling.\n",
        "\n",
        "    Parameters:\n",
        "    - word_count_dict (dict): A dictionary where keys are words and values are the counts of those words.\n",
        "\n",
        "    Returns:\n",
        "    - dict: A dictionary where keys are words and values are the probabilities of selecting each word\n",
        "            for negative sampling.\n",
        "\n",
        "    Example:\n",
        "    >>> word_counts = {'the': 5000, 'is': 1000, 'apple': 50}\n",
        "    >>> get_negative_sampling_prob(word_counts)\n",
        "    {'the': 0.298, 'is': 0.160, 'apple': 0.042}\n",
        "    \"\"\"\n",
        "\n",
        "    ### YOUR CODE HERE\n",
        "    total_words = sum(word_count_dict.values())\n",
        "    unigram_dist = {word: count/total_words for word, count in word_count_dict.items()}\n",
        "\n",
        "    adjusted_freq = {word: freq**(0.75) for word,freq in unigram_dist.items()}\n",
        "\n",
        "    Z = sum(adjusted_freq.values())\n",
        "\n",
        "    negative_sampling_prob_dict = {word: freq/Z for word, freq in adjusted_freq.items()}\n",
        "    return negative_sampling_prob_dict"
      ]
    },
    {
      "cell_type": "markdown",
      "metadata": {
        "id": "I5F09PxkKewX"
      },
      "source": [
        "Для удобства, преобразуем полученные словари в массивы (т.к. все слова все равно уже пронумерованы)."
      ]
    },
    {
      "cell_type": "code",
      "execution_count": 19,
      "metadata": {
        "id": "EjzYhu8jKewX"
      },
      "outputs": [],
      "source": [
        "keep_prob_dict = subsample_frequent_words(word_count_dict)\n",
        "assert keep_prob_dict.keys() == word_count_dict.keys()"
      ]
    },
    {
      "cell_type": "code",
      "execution_count": 20,
      "metadata": {
        "id": "d_rRGyXxKewY"
      },
      "outputs": [],
      "source": [
        "negative_sampling_prob_dict = get_negative_sampling_prob(word_count_dict)\n",
        "assert negative_sampling_prob_dict.keys() == negative_sampling_prob_dict.keys()\n",
        "assert np.allclose(sum(negative_sampling_prob_dict.values()), 1)"
      ]
    },
    {
      "cell_type": "code",
      "execution_count": 21,
      "metadata": {
        "id": "-wPJjXpWKewY"
      },
      "outputs": [],
      "source": [
        "keep_prob_array = np.array(\n",
        "    [keep_prob_dict[index_to_word[idx]] for idx in range(len(word_to_index))]\n",
        ")\n",
        "negative_sampling_prob_array = np.array(\n",
        "    [\n",
        "        negative_sampling_prob_dict[index_to_word[idx]]\n",
        "        for idx in range(len(word_to_index))\n",
        "    ]\n",
        ")"
      ]
    },
    {
      "cell_type": "markdown",
      "metadata": {
        "id": "VEZ2b6nmKewY"
      },
      "source": [
        "Если все прошло успешно, функция ниже поможет вам с генерацией подвыборок (батчей)."
      ]
    },
    {
      "cell_type": "code",
      "execution_count": 22,
      "metadata": {
        "id": "Fb2_8pOhKewY"
      },
      "outputs": [],
      "source": [
        "def generate_batch_with_neg_samples(\n",
        "    context_pairs,\n",
        "    batch_size,\n",
        "    keep_prob_array,\n",
        "    word_to_index,\n",
        "    num_negatives,\n",
        "    negative_sampling_prob_array,\n",
        "):\n",
        "    batch = []\n",
        "    neg_samples = []\n",
        "\n",
        "    while len(batch) < batch_size:\n",
        "        center, context = random.choice(context_pairs)\n",
        "        if random.random() < keep_prob_array[center]:\n",
        "            batch.append((center, context))\n",
        "            neg_sample = np.random.choice(\n",
        "                range(len(negative_sampling_prob_array)),\n",
        "                size=num_negatives,\n",
        "                p=negative_sampling_prob_array,\n",
        "            )\n",
        "            neg_samples.append(neg_sample)\n",
        "    batch = np.array(batch)\n",
        "    neg_samples = np.vstack(neg_samples)\n",
        "    return batch, neg_samples"
      ]
    },
    {
      "cell_type": "code",
      "execution_count": 23,
      "metadata": {
        "id": "1MXviqkMKewZ"
      },
      "outputs": [],
      "source": [
        "batch_size = 4\n",
        "num_negatives = 15\n",
        "batch, neg_samples = generate_batch_with_neg_samples(\n",
        "    context_pairs,\n",
        "    batch_size,\n",
        "    keep_prob_array,\n",
        "    word_to_index,\n",
        "    num_negatives,\n",
        "    negative_sampling_prob_array,\n",
        ")"
      ]
    },
    {
      "cell_type": "markdown",
      "metadata": {
        "id": "WzYyKKJiKewZ"
      },
      "source": [
        "Наконец, время реализовать модель. Обращаем ваше внимание, использование линейных слоев (`nn.Linear`) далеко не всегда оправданно!\n",
        "\n",
        "Напомним, что в случае negative sampling решается задача максимизации следующего функционала:\n",
        "\n",
        "$$\n",
        "\\mathcal{L} = \\log \\sigma({\\mathbf{v}'_{w_O}}^\\top \\mathbf{v}_{w_I}) + \\sum_{i=1}^{k} \\mathbb{E}_{w_i \\sim P_n(w)} \\left[ \\log \\sigma({-\\mathbf{v}'_{w_i}}^\\top \\mathbf{v}_{w_I}) \\right],\n",
        "$$\n",
        "\n",
        "где:\n",
        "- $\\mathbf{v}_{w_I}$ – вектор центрального слова $w_I$,\n",
        "- $\\mathbf{v}'_{w_O}$ – вектор слова из контекста $w_O$,\n",
        "- $k$ – число negative samplesЮ,\n",
        "- $P_n(w)$ – распределение negative samples, заданное выше,\n",
        "- $\\sigma$ – сигмоида."
      ]
    },
    {
      "cell_type": "code",
      "execution_count": 25,
      "metadata": {
        "id": "1243ALOhKewa"
      },
      "outputs": [],
      "source": [
        "class SkipGramModelWithNegSampling(nn.Module):\n",
        "    def __init__(self, vocab_size, embedding_dim):\n",
        "        super().__init__()\n",
        "        self.center_embeddings = vocab_size  # YOUR CODE HERE\n",
        "        self.context_embeddings = embedding_dim  # YOUR CODE HERE\n",
        "\n",
        "        self.center_embeddings = nn.Embedding(vocab_size, embedding_dim)\n",
        "        self.context_embeddings = nn.Embedding(vocab_size, embedding_dim)\n",
        "\n",
        "        self.center_embeddings.weight.data.uniform_(-0.5/embedding_dim, 0.5/embedding_dim)\n",
        "        self.context_embeddings.weight.data.uniform_(-0.5/embedding_dim, 0.5/embedding_dim)\n",
        "\n",
        "    def forward(self, center_words, pos_context_words, neg_context_words):\n",
        "        # YOUR CODE HERE\n",
        "        center_embeds = self.center_embeddings(center_words)\n",
        "        pos_embeds = self.context_embeddings(pos_context_words)\n",
        "\n",
        "        pos_scores = torch.sum(center_embeds * pos_embeds, dim=1)  # THIS IS A PLACEHOLDER\n",
        "        neg_scores = F.logsigmoid(pos_scores)  # THIS IS A PLACEHOLDER\n",
        "\n",
        "        neg_embeds = self.context_embeddings(neg_context_words)\n",
        "\n",
        "        center_embeds_expanded = center_embeds.unsqueeze(2)\n",
        "        neg_scores = torch.bmm(neg_embeds, center_embeds_expanded)\n",
        "        neg_scores = neg_scores.squeeze(2)\n",
        "        neg_scores = F.logsigmoid(-neg_scores)\n",
        "\n",
        "        return pos_scores, neg_scores"
      ]
    },
    {
      "cell_type": "code",
      "execution_count": 26,
      "metadata": {
        "id": "XSR_mNdoKewa"
      },
      "outputs": [],
      "source": [
        "device = torch.device(\"cpu\")"
      ]
    },
    {
      "cell_type": "code",
      "execution_count": 27,
      "metadata": {
        "id": "C1RlOy3wKewb"
      },
      "outputs": [],
      "source": [
        "vocab_size = len(word_to_index)\n",
        "embedding_dim = 32\n",
        "num_negatives = 15\n",
        "\n",
        "model = SkipGramModelWithNegSampling(vocab_size, embedding_dim).to(device)\n",
        "optimizer = optim.Adam(model.parameters(), lr=0.05)\n",
        "lr_scheduler = ReduceLROnPlateau(optimizer, factor=0.5, patience=150)\n",
        "criterion = nn.BCEWithLogitsLoss()"
      ]
    },
    {
      "cell_type": "code",
      "execution_count": 28,
      "metadata": {
        "id": "mAm7v3knKewb"
      },
      "outputs": [],
      "source": [
        "params_counter = 0\n",
        "for weights in model.parameters():\n",
        "    params_counter += weights.shape.numel()\n",
        "assert params_counter == len(word_to_index) * embedding_dim * 2"
      ]
    },
    {
      "cell_type": "code",
      "execution_count": 29,
      "metadata": {
        "id": "weegEVPSKewc"
      },
      "outputs": [],
      "source": [
        "def train_skipgram_with_neg_sampling(\n",
        "    model,\n",
        "    context_pairs,\n",
        "    keep_prob_array,\n",
        "    word_to_index,\n",
        "    batch_size,\n",
        "    num_negatives,\n",
        "    negative_sampling_prob_array,\n",
        "    steps,\n",
        "    optimizer=optimizer,\n",
        "    lr_scheduler=lr_scheduler,\n",
        "    device=device,\n",
        "):\n",
        "    pos_labels = torch.ones(batch_size).to(device)\n",
        "    neg_labels = torch.zeros(batch_size, num_negatives).to(device)\n",
        "    loss_history = []\n",
        "    for step in tqdma(range(steps)):\n",
        "        batch, neg_samples = generate_batch_with_neg_samples(\n",
        "            context_pairs,\n",
        "            batch_size,\n",
        "            keep_prob_array,\n",
        "            word_to_index,\n",
        "            num_negatives,\n",
        "            negative_sampling_prob_array,\n",
        "        )\n",
        "        center_words = torch.tensor([pair[0] for pair in batch], dtype=torch.long).to(\n",
        "            device\n",
        "        )\n",
        "        pos_context_words = torch.tensor(\n",
        "            [pair[1] for pair in batch], dtype=torch.long\n",
        "        ).to(device)\n",
        "        neg_context_words = torch.tensor(neg_samples, dtype=torch.long).to(device)\n",
        "\n",
        "        optimizer.zero_grad()\n",
        "        pos_scores, neg_scores = model(\n",
        "            center_words, pos_context_words, neg_context_words\n",
        "        )\n",
        "\n",
        "        loss_pos = criterion(pos_scores, pos_labels)\n",
        "        loss_neg = criterion(neg_scores, neg_labels)\n",
        "\n",
        "        loss = loss_pos + loss_neg\n",
        "        loss.backward()\n",
        "        optimizer.step()\n",
        "\n",
        "        loss_history.append(loss.item())\n",
        "        lr_scheduler.step(loss_history[-1])\n",
        "\n",
        "        if step % 100 == 0:\n",
        "            print(\n",
        "                f\"Step {step}, Loss: {np.mean(loss_history[-100:])}, learning rate: {lr_scheduler._last_lr}\"\n",
        "            )"
      ]
    },
    {
      "cell_type": "code",
      "execution_count": 30,
      "metadata": {
        "id": "MZSvn89AKewc",
        "outputId": "f56715b7-f59b-44eb-d179-11e7aee284ed",
        "colab": {
          "base_uri": "https://localhost:8080/",
          "height": 483,
          "referenced_widgets": [
            "ded7189151264b67a182c258ea96e605",
            "34577c763e5b455e894757aaf4bede45",
            "5dffb5d69cd04e4f93aab235a621e4a3",
            "a5816b15a3924fad877d9ac182858aa5",
            "ade7105e96bf4d9ead1e15aed7a1008b",
            "b248dcbb29fc4e318faa0aab26011f24",
            "f2382d9999804cc78033fcf52e95cdc8",
            "14ad936886a146ef9ea05e7b7f7fbe9a",
            "09af54b9959a461590ada7ee1000e74f",
            "70569c00ce7b4c5bac6f606dfb34a531",
            "1abc44622d3d443983edff849274d652"
          ]
        }
      },
      "outputs": [
        {
          "output_type": "display_data",
          "data": {
            "text/plain": [
              "  0%|          | 0/2500 [00:00<?, ?it/s]"
            ],
            "application/vnd.jupyter.widget-view+json": {
              "version_major": 2,
              "version_minor": 0,
              "model_id": "ded7189151264b67a182c258ea96e605"
            }
          },
          "metadata": {}
        },
        {
          "output_type": "stream",
          "name": "stdout",
          "text": [
            "Step 0, Loss: 1.0986130237579346, learning rate: [0.05]\n",
            "Step 100, Loss: 0.5493534779548646, learning rate: [0.05]\n",
            "Step 200, Loss: 0.11156768850982189, learning rate: [0.05]\n",
            "Step 300, Loss: 0.059363340996205806, learning rate: [0.05]\n",
            "Step 400, Loss: 0.03665624925866723, learning rate: [0.05]\n",
            "Step 500, Loss: 0.024631744427606465, learning rate: [0.05]\n",
            "Step 600, Loss: 0.019057342680171133, learning rate: [0.05]\n",
            "Step 700, Loss: 0.013430016170896125, learning rate: [0.05]\n",
            "Step 800, Loss: 0.010053642212733393, learning rate: [0.05]\n",
            "Step 900, Loss: 0.0074503828785964284, learning rate: [0.05]\n",
            "Step 1000, Loss: 0.005817748377376119, learning rate: [0.05]\n",
            "Step 1100, Loss: 0.004706789357442176, learning rate: [0.05]\n",
            "Step 1200, Loss: 0.0037199571152450516, learning rate: [0.05]\n",
            "Step 1300, Loss: 0.002815329000659403, learning rate: [0.05]\n",
            "Step 1400, Loss: 0.0020262796428141884, learning rate: [0.05]\n",
            "Step 1500, Loss: 0.0018787555940798484, learning rate: [0.05]\n",
            "Step 1600, Loss: 0.0012594084566444508, learning rate: [0.05]\n",
            "Step 1700, Loss: 0.0010007269341804203, learning rate: [0.05]\n",
            "Step 1800, Loss: 0.0007422828376184042, learning rate: [0.05]\n",
            "Step 1900, Loss: 0.0006163317810569424, learning rate: [0.05]\n",
            "Step 2000, Loss: 0.0005211615969346894, learning rate: [0.05]\n",
            "Step 2100, Loss: 0.0006385765073537186, learning rate: [0.05]\n",
            "Step 2200, Loss: 0.0004939564132109809, learning rate: [0.05]\n",
            "Step 2300, Loss: 0.0003254355021636002, learning rate: [0.05]\n",
            "Step 2400, Loss: 0.00024208458427892764, learning rate: [0.05]\n"
          ]
        }
      ],
      "source": [
        "steps = 2500\n",
        "batch_size = 512\n",
        "train_skipgram_with_neg_sampling(\n",
        "    model,\n",
        "    context_pairs,\n",
        "    keep_prob_array,\n",
        "    word_to_index,\n",
        "    batch_size,\n",
        "    num_negatives,\n",
        "    negative_sampling_prob_array,\n",
        "    steps,\n",
        ")"
      ]
    },
    {
      "cell_type": "markdown",
      "metadata": {
        "id": "i5hIX0GBKewc"
      },
      "source": [
        "Наконец, используйте полученную матрицу весов в качестве матрицы в векторными представлениями слов. Рекомендуем использовать для сдачи матрицу, которая отвечала за слова из контекста (т.е. декодера)."
      ]
    },
    {
      "cell_type": "code",
      "execution_count": 31,
      "metadata": {
        "id": "KkPfCxw2Kewc"
      },
      "outputs": [],
      "source": [
        "_model_parameters = model.parameters()\n",
        "embedding_matrix_center = next(\n",
        "    _model_parameters\n",
        ").detach()  # Assuming that first matrix was for central word\n",
        "embedding_matrix_context = next(\n",
        "    _model_parameters\n",
        ").detach()  # Assuming that second matrix was for context word"
      ]
    },
    {
      "cell_type": "code",
      "execution_count": 32,
      "metadata": {
        "id": "GnXv4gtzKewd"
      },
      "outputs": [],
      "source": [
        "def get_word_vector(word, embedding_matrix, word_to_index=word_to_index):\n",
        "    return embedding_matrix[word_to_index[word]]"
      ]
    },
    {
      "cell_type": "markdown",
      "metadata": {
        "id": "TojrKLyZKewe"
      },
      "source": [
        "Простые проверки:"
      ]
    },
    {
      "cell_type": "code",
      "execution_count": 33,
      "metadata": {
        "id": "InXeMffmKewl"
      },
      "outputs": [],
      "source": [
        "similarity_1 = F.cosine_similarity(\n",
        "    get_word_vector(\"iphone\", embedding_matrix_context)[None, :],\n",
        "    get_word_vector(\"apple\", embedding_matrix_context)[None, :],\n",
        ")\n",
        "similarity_2 = F.cosine_similarity(\n",
        "    get_word_vector(\"iphone\", embedding_matrix_context)[None, :],\n",
        "    get_word_vector(\"dell\", embedding_matrix_context)[None, :],\n",
        ")\n",
        "assert similarity_1 > similarity_2"
      ]
    },
    {
      "cell_type": "code",
      "execution_count": 34,
      "metadata": {
        "id": "yozxlSrTKewl"
      },
      "outputs": [],
      "source": [
        "similarity_1 = F.cosine_similarity(\n",
        "    get_word_vector(\"windows\", embedding_matrix_context)[None, :],\n",
        "    get_word_vector(\"laptop\", embedding_matrix_context)[None, :],\n",
        ")\n",
        "similarity_2 = F.cosine_similarity(\n",
        "    get_word_vector(\"windows\", embedding_matrix_context)[None, :],\n",
        "    get_word_vector(\"macbook\", embedding_matrix_context)[None, :],\n",
        ")\n",
        "assert similarity_1 > similarity_2"
      ]
    },
    {
      "cell_type": "markdown",
      "metadata": {
        "id": "tTrhH9DPKewm"
      },
      "source": [
        "Наконец, взглянем на ближайшие по косинусной мере слова. Функция реализована ниже."
      ]
    },
    {
      "cell_type": "code",
      "execution_count": 35,
      "metadata": {
        "id": "dA0V6rOYtsLk"
      },
      "outputs": [],
      "source": [
        "def find_nearest(word, embedding_matrix, word_to_index=word_to_index, k=10):\n",
        "    word_vector = get_word_vector(word, embedding_matrix)[None, :]\n",
        "    dists = F.cosine_similarity(embedding_matrix, word_vector)\n",
        "    index_sorted = torch.argsort(dists)\n",
        "    top_k = index_sorted[-k:]\n",
        "    return [(index_to_word[x], dists[x].item()) for x in top_k.numpy()]"
      ]
    },
    {
      "cell_type": "code",
      "execution_count": 36,
      "metadata": {
        "id": "PS70TDK9Kewm",
        "outputId": "ce890c12-aef0-4159-a019-bc09fa0aa51f",
        "colab": {
          "base_uri": "https://localhost:8080/"
        }
      },
      "outputs": [
        {
          "output_type": "execute_result",
          "data": {
            "text/plain": [
              "[('sleep', 0.8574695587158203),\n",
              " ('dissolving', 0.8575575947761536),\n",
              " ('1966', 0.857956051826477),\n",
              " ('k12', 0.8591278791427612),\n",
              " ('pio', 0.8598220348358154),\n",
              " ('458', 0.8605333566665649),\n",
              " ('reduced', 0.8628640174865723),\n",
              " ('ar15', 0.8668423295021057),\n",
              " ('partitions', 0.8735300898551941),\n",
              " ('python', 0.9999999403953552)]"
            ]
          },
          "metadata": {},
          "execution_count": 36
        }
      ],
      "source": [
        "find_nearest(\"python\", embedding_matrix_context, k=10)"
      ]
    },
    {
      "cell_type": "markdown",
      "metadata": {
        "id": "3uMM9uIdKewm"
      },
      "source": [
        "Также вы можете визуально проверить, как представлены в латентном пространстве часто встречающиеся слова."
      ]
    },
    {
      "cell_type": "code",
      "execution_count": 37,
      "metadata": {
        "id": "-ORqHNk5Kewm"
      },
      "outputs": [],
      "source": [
        "top_k = 5000\n",
        "_top_words = sorted([x for x in word_count_dict.items()], key=lambda x: x[1])[\n",
        "    -top_k - 100 : -100\n",
        "]  # ignoring 100 most frequent words\n",
        "top_words = [x[0] for x in _top_words]\n",
        "del _top_words"
      ]
    },
    {
      "cell_type": "code",
      "execution_count": 38,
      "metadata": {
        "id": "fdazISqVKewn"
      },
      "outputs": [],
      "source": [
        "word_embeddings = torch.cat(\n",
        "    [embedding_matrix_context[word_to_index[x]][None, :] for x in top_words], dim=0\n",
        ").numpy()"
      ]
    },
    {
      "cell_type": "code",
      "execution_count": 39,
      "metadata": {
        "id": "x7soCieoKewn"
      },
      "outputs": [],
      "source": [
        "import bokeh.models as bm\n",
        "import bokeh.plotting as pl\n",
        "from bokeh.io import output_notebook\n",
        "\n",
        "output_notebook()\n",
        "\n",
        "\n",
        "def draw_vectors(\n",
        "    x,\n",
        "    y,\n",
        "    radius=10,\n",
        "    alpha=0.25,\n",
        "    color=\"blue\",\n",
        "    width=600,\n",
        "    height=400,\n",
        "    show=True,\n",
        "    **kwargs,\n",
        "):\n",
        "    \"\"\"draws an interactive plot for data points with auxilirary info on hover\"\"\"\n",
        "    if isinstance(color, str):\n",
        "        color = [color] * len(x)\n",
        "    data_source = bm.ColumnDataSource({\"x\": x, \"y\": y, \"color\": color, **kwargs})\n",
        "\n",
        "    fig = pl.figure(active_scroll=\"wheel_zoom\", width=width, height=height)\n",
        "    fig.scatter(\"x\", \"y\", size=radius, color=\"color\", alpha=alpha, source=data_source)\n",
        "\n",
        "    fig.add_tools(bm.HoverTool(tooltips=[(key, \"@\" + key) for key in kwargs.keys()]))\n",
        "    if show:\n",
        "        pl.show(fig)\n",
        "    return fig"
      ]
    },
    {
      "cell_type": "code",
      "execution_count": 40,
      "metadata": {
        "id": "1kBxWfIYKewn",
        "outputId": "fa488d37-10a3-4775-acad-e63a4911907f",
        "colab": {
          "base_uri": "https://localhost:8080/"
        }
      },
      "outputs": [
        {
          "output_type": "stream",
          "name": "stderr",
          "text": [
            "/usr/local/lib/python3.11/dist-packages/sklearn/utils/deprecation.py:151: FutureWarning: 'force_all_finite' was renamed to 'ensure_all_finite' in 1.6 and will be removed in 1.8.\n",
            "  warnings.warn(\n"
          ]
        }
      ],
      "source": [
        "embedding = umap.UMAP(n_neighbors=5).fit_transform(word_embeddings)"
      ]
    },
    {
      "cell_type": "code",
      "execution_count": 41,
      "metadata": {
        "id": "H1nMxB6QKewn",
        "outputId": "adf27aa6-d72c-43d1-d7bf-7dd134d67d02",
        "colab": {
          "base_uri": "https://localhost:8080/",
          "height": 34
        }
      },
      "outputs": [
        {
          "output_type": "display_data",
          "data": {
            "application/javascript": [
              "'use strict';\n",
              "(function(root) {\n",
              "  function now() {\n",
              "    return new Date();\n",
              "  }\n",
              "\n",
              "  const force = true;\n",
              "\n",
              "  if (typeof root._bokeh_onload_callbacks === \"undefined\" || force === true) {\n",
              "    root._bokeh_onload_callbacks = [];\n",
              "    root._bokeh_is_loading = undefined;\n",
              "  }\n",
              "\n",
              "const JS_MIME_TYPE = 'application/javascript';\n",
              "  const HTML_MIME_TYPE = 'text/html';\n",
              "  const EXEC_MIME_TYPE = 'application/vnd.bokehjs_exec.v0+json';\n",
              "  const CLASS_NAME = 'output_bokeh rendered_html';\n",
              "\n",
              "  /**\n",
              "   * Render data to the DOM node\n",
              "   */\n",
              "  function render(props, node) {\n",
              "    const script = document.createElement(\"script\");\n",
              "    node.appendChild(script);\n",
              "  }\n",
              "\n",
              "  /**\n",
              "   * Handle when an output is cleared or removed\n",
              "   */\n",
              "  function handleClearOutput(event, handle) {\n",
              "    function drop(id) {\n",
              "      const view = Bokeh.index.get_by_id(id)\n",
              "      if (view != null) {\n",
              "        view.model.document.clear()\n",
              "        Bokeh.index.delete(view)\n",
              "      }\n",
              "    }\n",
              "\n",
              "    const cell = handle.cell;\n",
              "\n",
              "    const id = cell.output_area._bokeh_element_id;\n",
              "    const server_id = cell.output_area._bokeh_server_id;\n",
              "\n",
              "    // Clean up Bokeh references\n",
              "    if (id != null) {\n",
              "      drop(id)\n",
              "    }\n",
              "\n",
              "    if (server_id !== undefined) {\n",
              "      // Clean up Bokeh references\n",
              "      const cmd_clean = \"from bokeh.io.state import curstate; print(curstate().uuid_to_server['\" + server_id + \"'].get_sessions()[0].document.roots[0]._id)\";\n",
              "      cell.notebook.kernel.execute(cmd_clean, {\n",
              "        iopub: {\n",
              "          output: function(msg) {\n",
              "            const id = msg.content.text.trim()\n",
              "            drop(id)\n",
              "          }\n",
              "        }\n",
              "      });\n",
              "      // Destroy server and session\n",
              "      const cmd_destroy = \"import bokeh.io.notebook as ion; ion.destroy_server('\" + server_id + \"')\";\n",
              "      cell.notebook.kernel.execute(cmd_destroy);\n",
              "    }\n",
              "  }\n",
              "\n",
              "  /**\n",
              "   * Handle when a new output is added\n",
              "   */\n",
              "  function handleAddOutput(event, handle) {\n",
              "    const output_area = handle.output_area;\n",
              "    const output = handle.output;\n",
              "\n",
              "    // limit handleAddOutput to display_data with EXEC_MIME_TYPE content only\n",
              "    if ((output.output_type != \"display_data\") || (!Object.prototype.hasOwnProperty.call(output.data, EXEC_MIME_TYPE))) {\n",
              "      return\n",
              "    }\n",
              "\n",
              "    const toinsert = output_area.element.find(\".\" + CLASS_NAME.split(' ')[0]);\n",
              "\n",
              "    if (output.metadata[EXEC_MIME_TYPE][\"id\"] !== undefined) {\n",
              "      toinsert[toinsert.length - 1].firstChild.textContent = output.data[JS_MIME_TYPE];\n",
              "      // store reference to embed id on output_area\n",
              "      output_area._bokeh_element_id = output.metadata[EXEC_MIME_TYPE][\"id\"];\n",
              "    }\n",
              "    if (output.metadata[EXEC_MIME_TYPE][\"server_id\"] !== undefined) {\n",
              "      const bk_div = document.createElement(\"div\");\n",
              "      bk_div.innerHTML = output.data[HTML_MIME_TYPE];\n",
              "      const script_attrs = bk_div.children[0].attributes;\n",
              "      for (let i = 0; i < script_attrs.length; i++) {\n",
              "        toinsert[toinsert.length - 1].firstChild.setAttribute(script_attrs[i].name, script_attrs[i].value);\n",
              "        toinsert[toinsert.length - 1].firstChild.textContent = bk_div.children[0].textContent\n",
              "      }\n",
              "      // store reference to server id on output_area\n",
              "      output_area._bokeh_server_id = output.metadata[EXEC_MIME_TYPE][\"server_id\"];\n",
              "    }\n",
              "  }\n",
              "\n",
              "  function register_renderer(events, OutputArea) {\n",
              "\n",
              "    function append_mime(data, metadata, element) {\n",
              "      // create a DOM node to render to\n",
              "      const toinsert = this.create_output_subarea(\n",
              "        metadata,\n",
              "        CLASS_NAME,\n",
              "        EXEC_MIME_TYPE\n",
              "      );\n",
              "      this.keyboard_manager.register_events(toinsert);\n",
              "      // Render to node\n",
              "      const props = {data: data, metadata: metadata[EXEC_MIME_TYPE]};\n",
              "      render(props, toinsert[toinsert.length - 1]);\n",
              "      element.append(toinsert);\n",
              "      return toinsert\n",
              "    }\n",
              "\n",
              "    /* Handle when an output is cleared or removed */\n",
              "    events.on('clear_output.CodeCell', handleClearOutput);\n",
              "    events.on('delete.Cell', handleClearOutput);\n",
              "\n",
              "    /* Handle when a new output is added */\n",
              "    events.on('output_added.OutputArea', handleAddOutput);\n",
              "\n",
              "    /**\n",
              "     * Register the mime type and append_mime function with output_area\n",
              "     */\n",
              "    OutputArea.prototype.register_mime_type(EXEC_MIME_TYPE, append_mime, {\n",
              "      /* Is output safe? */\n",
              "      safe: true,\n",
              "      /* Index of renderer in `output_area.display_order` */\n",
              "      index: 0\n",
              "    });\n",
              "  }\n",
              "\n",
              "  // register the mime type if in Jupyter Notebook environment and previously unregistered\n",
              "  if (root.Jupyter !== undefined) {\n",
              "    const events = require('base/js/events');\n",
              "    const OutputArea = require('notebook/js/outputarea').OutputArea;\n",
              "\n",
              "    if (OutputArea.prototype.mime_types().indexOf(EXEC_MIME_TYPE) == -1) {\n",
              "      register_renderer(events, OutputArea);\n",
              "    }\n",
              "  }\n",
              "  if (typeof (root._bokeh_timeout) === \"undefined\" || force === true) {\n",
              "    root._bokeh_timeout = Date.now() + 5000;\n",
              "    root._bokeh_failed_load = false;\n",
              "  }\n",
              "\n",
              "  const NB_LOAD_WARNING = {'data': {'text/html':\n",
              "     \"<div style='background-color: #fdd'>\\n\"+\n",
              "     \"<p>\\n\"+\n",
              "     \"BokehJS does not appear to have successfully loaded. If loading BokehJS from CDN, this \\n\"+\n",
              "     \"may be due to a slow or bad network connection. Possible fixes:\\n\"+\n",
              "     \"</p>\\n\"+\n",
              "     \"<ul>\\n\"+\n",
              "     \"<li>re-rerun `output_notebook()` to attempt to load from CDN again, or</li>\\n\"+\n",
              "     \"<li>use INLINE resources instead, as so:</li>\\n\"+\n",
              "     \"</ul>\\n\"+\n",
              "     \"<code>\\n\"+\n",
              "     \"from bokeh.resources import INLINE\\n\"+\n",
              "     \"output_notebook(resources=INLINE)\\n\"+\n",
              "     \"</code>\\n\"+\n",
              "     \"</div>\"}};\n",
              "\n",
              "  function display_loaded(error = null) {\n",
              "    const el = document.getElementById(null);\n",
              "    if (el != null) {\n",
              "      const html = (() => {\n",
              "        if (typeof root.Bokeh === \"undefined\") {\n",
              "          if (error == null) {\n",
              "            return \"BokehJS is loading ...\";\n",
              "          } else {\n",
              "            return \"BokehJS failed to load.\";\n",
              "          }\n",
              "        } else {\n",
              "          const prefix = `BokehJS ${root.Bokeh.version}`;\n",
              "          if (error == null) {\n",
              "            return `${prefix} successfully loaded.`;\n",
              "          } else {\n",
              "            return `${prefix} <b>encountered errors</b> while loading and may not function as expected.`;\n",
              "          }\n",
              "        }\n",
              "      })();\n",
              "      el.innerHTML = html;\n",
              "\n",
              "      if (error != null) {\n",
              "        const wrapper = document.createElement(\"div\");\n",
              "        wrapper.style.overflow = \"auto\";\n",
              "        wrapper.style.height = \"5em\";\n",
              "        wrapper.style.resize = \"vertical\";\n",
              "        const content = document.createElement(\"div\");\n",
              "        content.style.fontFamily = \"monospace\";\n",
              "        content.style.whiteSpace = \"pre-wrap\";\n",
              "        content.style.backgroundColor = \"rgb(255, 221, 221)\";\n",
              "        content.textContent = error.stack ?? error.toString();\n",
              "        wrapper.append(content);\n",
              "        el.append(wrapper);\n",
              "      }\n",
              "    } else if (Date.now() < root._bokeh_timeout) {\n",
              "      setTimeout(() => display_loaded(error), 100);\n",
              "    }\n",
              "  }\n",
              "\n",
              "  function run_callbacks() {\n",
              "    try {\n",
              "      root._bokeh_onload_callbacks.forEach(function(callback) {\n",
              "        if (callback != null)\n",
              "          callback();\n",
              "      });\n",
              "    } finally {\n",
              "      delete root._bokeh_onload_callbacks\n",
              "    }\n",
              "    console.debug(\"Bokeh: all callbacks have finished\");\n",
              "  }\n",
              "\n",
              "  function load_libs(css_urls, js_urls, callback) {\n",
              "    if (css_urls == null) css_urls = [];\n",
              "    if (js_urls == null) js_urls = [];\n",
              "\n",
              "    root._bokeh_onload_callbacks.push(callback);\n",
              "    if (root._bokeh_is_loading > 0) {\n",
              "      console.debug(\"Bokeh: BokehJS is being loaded, scheduling callback at\", now());\n",
              "      return null;\n",
              "    }\n",
              "    if (js_urls == null || js_urls.length === 0) {\n",
              "      run_callbacks();\n",
              "      return null;\n",
              "    }\n",
              "    console.debug(\"Bokeh: BokehJS not loaded, scheduling load and callback at\", now());\n",
              "    root._bokeh_is_loading = css_urls.length + js_urls.length;\n",
              "\n",
              "    function on_load() {\n",
              "      root._bokeh_is_loading--;\n",
              "      if (root._bokeh_is_loading === 0) {\n",
              "        console.debug(\"Bokeh: all BokehJS libraries/stylesheets loaded\");\n",
              "        run_callbacks()\n",
              "      }\n",
              "    }\n",
              "\n",
              "    function on_error(url) {\n",
              "      console.error(\"failed to load \" + url);\n",
              "    }\n",
              "\n",
              "    for (let i = 0; i < css_urls.length; i++) {\n",
              "      const url = css_urls[i];\n",
              "      const element = document.createElement(\"link\");\n",
              "      element.onload = on_load;\n",
              "      element.onerror = on_error.bind(null, url);\n",
              "      element.rel = \"stylesheet\";\n",
              "      element.type = \"text/css\";\n",
              "      element.href = url;\n",
              "      console.debug(\"Bokeh: injecting link tag for BokehJS stylesheet: \", url);\n",
              "      document.body.appendChild(element);\n",
              "    }\n",
              "\n",
              "    for (let i = 0; i < js_urls.length; i++) {\n",
              "      const url = js_urls[i];\n",
              "      const element = document.createElement('script');\n",
              "      element.onload = on_load;\n",
              "      element.onerror = on_error.bind(null, url);\n",
              "      element.async = false;\n",
              "      element.src = url;\n",
              "      console.debug(\"Bokeh: injecting script tag for BokehJS library: \", url);\n",
              "      document.head.appendChild(element);\n",
              "    }\n",
              "  };\n",
              "\n",
              "  function inject_raw_css(css) {\n",
              "    const element = document.createElement(\"style\");\n",
              "    element.appendChild(document.createTextNode(css));\n",
              "    document.body.appendChild(element);\n",
              "  }\n",
              "\n",
              "  const js_urls = [\"https://cdn.bokeh.org/bokeh/release/bokeh-3.7.2.min.js\", \"https://cdn.bokeh.org/bokeh/release/bokeh-gl-3.7.2.min.js\", \"https://cdn.bokeh.org/bokeh/release/bokeh-widgets-3.7.2.min.js\", \"https://cdn.bokeh.org/bokeh/release/bokeh-tables-3.7.2.min.js\", \"https://cdn.bokeh.org/bokeh/release/bokeh-mathjax-3.7.2.min.js\"];\n",
              "  const css_urls = [];\n",
              "\n",
              "  const inline_js = [    function(Bokeh) {\n",
              "      Bokeh.set_log_level(\"info\");\n",
              "    },\n",
              "function(Bokeh) {\n",
              "    }\n",
              "  ];\n",
              "\n",
              "  function run_inline_js() {\n",
              "    if (root.Bokeh !== undefined || force === true) {\n",
              "      try {\n",
              "            for (let i = 0; i < inline_js.length; i++) {\n",
              "      inline_js[i].call(root, root.Bokeh);\n",
              "    }\n",
              "\n",
              "      } catch (error) {throw error;\n",
              "      }} else if (Date.now() < root._bokeh_timeout) {\n",
              "      setTimeout(run_inline_js, 100);\n",
              "    } else if (!root._bokeh_failed_load) {\n",
              "      console.log(\"Bokeh: BokehJS failed to load within specified timeout.\");\n",
              "      root._bokeh_failed_load = true;\n",
              "    } else if (force !== true) {\n",
              "      const cell = $(document.getElementById(null)).parents('.cell').data().cell;\n",
              "      cell.output_area.append_execute_result(NB_LOAD_WARNING)\n",
              "    }\n",
              "  }\n",
              "\n",
              "  if (root._bokeh_is_loading === 0) {\n",
              "    console.debug(\"Bokeh: BokehJS loaded, going straight to plotting\");\n",
              "    run_inline_js();\n",
              "  } else {\n",
              "    load_libs(css_urls, js_urls, function() {\n",
              "      console.debug(\"Bokeh: BokehJS plotting callback run at\", now());\n",
              "      run_inline_js();\n",
              "    });\n",
              "  }\n",
              "}(window));"
            ],
            "application/vnd.bokehjs_load.v0+json": "'use strict';\n(function(root) {\n  function now() {\n    return new Date();\n  }\n\n  const force = true;\n\n  if (typeof root._bokeh_onload_callbacks === \"undefined\" || force === true) {\n    root._bokeh_onload_callbacks = [];\n    root._bokeh_is_loading = undefined;\n  }\n\n\n  if (typeof (root._bokeh_timeout) === \"undefined\" || force === true) {\n    root._bokeh_timeout = Date.now() + 5000;\n    root._bokeh_failed_load = false;\n  }\n\n  const NB_LOAD_WARNING = {'data': {'text/html':\n     \"<div style='background-color: #fdd'>\\n\"+\n     \"<p>\\n\"+\n     \"BokehJS does not appear to have successfully loaded. If loading BokehJS from CDN, this \\n\"+\n     \"may be due to a slow or bad network connection. Possible fixes:\\n\"+\n     \"</p>\\n\"+\n     \"<ul>\\n\"+\n     \"<li>re-rerun `output_notebook()` to attempt to load from CDN again, or</li>\\n\"+\n     \"<li>use INLINE resources instead, as so:</li>\\n\"+\n     \"</ul>\\n\"+\n     \"<code>\\n\"+\n     \"from bokeh.resources import INLINE\\n\"+\n     \"output_notebook(resources=INLINE)\\n\"+\n     \"</code>\\n\"+\n     \"</div>\"}};\n\n  function display_loaded(error = null) {\n    const el = document.getElementById(null);\n    if (el != null) {\n      const html = (() => {\n        if (typeof root.Bokeh === \"undefined\") {\n          if (error == null) {\n            return \"BokehJS is loading ...\";\n          } else {\n            return \"BokehJS failed to load.\";\n          }\n        } else {\n          const prefix = `BokehJS ${root.Bokeh.version}`;\n          if (error == null) {\n            return `${prefix} successfully loaded.`;\n          } else {\n            return `${prefix} <b>encountered errors</b> while loading and may not function as expected.`;\n          }\n        }\n      })();\n      el.innerHTML = html;\n\n      if (error != null) {\n        const wrapper = document.createElement(\"div\");\n        wrapper.style.overflow = \"auto\";\n        wrapper.style.height = \"5em\";\n        wrapper.style.resize = \"vertical\";\n        const content = document.createElement(\"div\");\n        content.style.fontFamily = \"monospace\";\n        content.style.whiteSpace = \"pre-wrap\";\n        content.style.backgroundColor = \"rgb(255, 221, 221)\";\n        content.textContent = error.stack ?? error.toString();\n        wrapper.append(content);\n        el.append(wrapper);\n      }\n    } else if (Date.now() < root._bokeh_timeout) {\n      setTimeout(() => display_loaded(error), 100);\n    }\n  }\n\n  function run_callbacks() {\n    try {\n      root._bokeh_onload_callbacks.forEach(function(callback) {\n        if (callback != null)\n          callback();\n      });\n    } finally {\n      delete root._bokeh_onload_callbacks\n    }\n    console.debug(\"Bokeh: all callbacks have finished\");\n  }\n\n  function load_libs(css_urls, js_urls, callback) {\n    if (css_urls == null) css_urls = [];\n    if (js_urls == null) js_urls = [];\n\n    root._bokeh_onload_callbacks.push(callback);\n    if (root._bokeh_is_loading > 0) {\n      console.debug(\"Bokeh: BokehJS is being loaded, scheduling callback at\", now());\n      return null;\n    }\n    if (js_urls == null || js_urls.length === 0) {\n      run_callbacks();\n      return null;\n    }\n    console.debug(\"Bokeh: BokehJS not loaded, scheduling load and callback at\", now());\n    root._bokeh_is_loading = css_urls.length + js_urls.length;\n\n    function on_load() {\n      root._bokeh_is_loading--;\n      if (root._bokeh_is_loading === 0) {\n        console.debug(\"Bokeh: all BokehJS libraries/stylesheets loaded\");\n        run_callbacks()\n      }\n    }\n\n    function on_error(url) {\n      console.error(\"failed to load \" + url);\n    }\n\n    for (let i = 0; i < css_urls.length; i++) {\n      const url = css_urls[i];\n      const element = document.createElement(\"link\");\n      element.onload = on_load;\n      element.onerror = on_error.bind(null, url);\n      element.rel = \"stylesheet\";\n      element.type = \"text/css\";\n      element.href = url;\n      console.debug(\"Bokeh: injecting link tag for BokehJS stylesheet: \", url);\n      document.body.appendChild(element);\n    }\n\n    for (let i = 0; i < js_urls.length; i++) {\n      const url = js_urls[i];\n      const element = document.createElement('script');\n      element.onload = on_load;\n      element.onerror = on_error.bind(null, url);\n      element.async = false;\n      element.src = url;\n      console.debug(\"Bokeh: injecting script tag for BokehJS library: \", url);\n      document.head.appendChild(element);\n    }\n  };\n\n  function inject_raw_css(css) {\n    const element = document.createElement(\"style\");\n    element.appendChild(document.createTextNode(css));\n    document.body.appendChild(element);\n  }\n\n  const js_urls = [\"https://cdn.bokeh.org/bokeh/release/bokeh-3.7.2.min.js\", \"https://cdn.bokeh.org/bokeh/release/bokeh-gl-3.7.2.min.js\", \"https://cdn.bokeh.org/bokeh/release/bokeh-widgets-3.7.2.min.js\", \"https://cdn.bokeh.org/bokeh/release/bokeh-tables-3.7.2.min.js\", \"https://cdn.bokeh.org/bokeh/release/bokeh-mathjax-3.7.2.min.js\"];\n  const css_urls = [];\n\n  const inline_js = [    function(Bokeh) {\n      Bokeh.set_log_level(\"info\");\n    },\nfunction(Bokeh) {\n    }\n  ];\n\n  function run_inline_js() {\n    if (root.Bokeh !== undefined || force === true) {\n      try {\n            for (let i = 0; i < inline_js.length; i++) {\n      inline_js[i].call(root, root.Bokeh);\n    }\n\n      } catch (error) {throw error;\n      }} else if (Date.now() < root._bokeh_timeout) {\n      setTimeout(run_inline_js, 100);\n    } else if (!root._bokeh_failed_load) {\n      console.log(\"Bokeh: BokehJS failed to load within specified timeout.\");\n      root._bokeh_failed_load = true;\n    } else if (force !== true) {\n      const cell = $(document.getElementById(null)).parents('.cell').data().cell;\n      cell.output_area.append_execute_result(NB_LOAD_WARNING)\n    }\n  }\n\n  if (root._bokeh_is_loading === 0) {\n    console.debug(\"Bokeh: BokehJS loaded, going straight to plotting\");\n    run_inline_js();\n  } else {\n    load_libs(css_urls, js_urls, function() {\n      console.debug(\"Bokeh: BokehJS plotting callback run at\", now());\n      run_inline_js();\n    });\n  }\n}(window));"
          },
          "metadata": {}
        },
        {
          "output_type": "display_data",
          "data": {
            "text/html": [
              "\n",
              "  <div id=\"f65a3282-a13d-4ec7-8146-dade2035387c\" data-root-id=\"p1004\" style=\"display: contents;\"></div>\n"
            ]
          },
          "metadata": {}
        },
        {
          "output_type": "display_data",
          "data": {
            "application/javascript": [
              "(function(root) {\n",
              "  function embed_document(root) {\n",
              "  const docs_json = {\"58076626-6564-431c-8583-20c5c4c1dafd\":{\"version\":\"3.7.2\",\"title\":\"Bokeh Application\",\"roots\":[{\"type\":\"object\",\"name\":\"Figure\",\"id\":\"p1004\",\"attributes\":{\"height\":400,\"x_range\":{\"type\":\"object\",\"name\":\"DataRange1d\",\"id\":\"p1005\"},\"y_range\":{\"type\":\"object\",\"name\":\"DataRange1d\",\"id\":\"p1006\"},\"x_scale\":{\"type\":\"object\",\"name\":\"LinearScale\",\"id\":\"p1013\"},\"y_scale\":{\"type\":\"object\",\"name\":\"LinearScale\",\"id\":\"p1014\"},\"title\":{\"type\":\"object\",\"name\":\"Title\",\"id\":\"p1011\"},\"renderers\":[{\"type\":\"object\",\"name\":\"GlyphRenderer\",\"id\":\"p1044\",\"attributes\":{\"data_source\":{\"type\":\"object\",\"name\":\"ColumnDataSource\",\"id\":\"p1001\",\"attributes\":{\"selected\":{\"type\":\"object\",\"name\":\"Selection\",\"id\":\"p1002\",\"attributes\":{\"indices\":[],\"line_indices\":[]}},\"selection_policy\":{\"type\":\"object\",\"name\":\"UnionRenderers\",\"id\":\"p1003\"},\"data\":{\"type\":\"map\",\"entries\":[[\"x\",{\"type\":\"ndarray\",\"array\":{\"type\":\"bytes\",\"data\":\"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\"},\"shape\":[5000],\"dtype\":\"float32\",\"order\":\"little\"}],[\"y\",{\"type\":\"ndarray\",\"array\":{\"type\":\"bytes\",\"data\":\"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\"},\"shape\":[5000],\"dtype\":\"float32\",\"order\":\"little\"}],[\"color\",[\"blue\",\"blue\",\"blue\",\"blue\",\"blue\",\"blue\",\"blue\",\"blue\",\"blue\",\"blue\",\"blue\",\"blue\",\"blue\",\"blue\",\"blue\",\"blue\",\"blue\",\"blue\",\"blue\",\"blue\",\"blue\",\"blue\",\"blue\",\"blue\",\"blue\",\"blue\",\"blue\",\"blue\",\"blue\",\"blue\",\"blue\",\"blue\",\"blue\",\"blue\",\"blue\",\"blue\",\"blue\",\"blue\",\"blue\",\"blue\",\"blue\",\"blue\",\"blue\",\"blue\",\"blue\",\"blue\",\"blue\",\"blue\",\"blue\",\"blue\",\"blue\",\"blue\",\"blue\",\"blue\",\"blue\",\"blue\",\"blue\",\"blue\",\"blue\",\"blue\",\"blue\",\"blue\",\"blue\",\"blue\",\"blue\",\"blue\",\"blue\",\"blue\",\"blue\",\"blue\",\"blue\",\"blue\",\"blue\",\"blue\",\"blue\",\"blue\",\"blue\",\"blue\",\"blue\",\"blue\",\"blue\",\"blue\",\"blue\",\"blue\",\"blue\",\"blue\",\"blue\",\"blue\",\"blue\",\"blue\",\"blue\",\"blue\",\"blue\",\"blue\",\"blue\",\"blue\",\"blue\",\"blue\",\"blue\",\"blue\",\"blue\",\"blue\",\"blue\",\"blue\",\"blue\",\"blue\",\"blue\",\"blue\",\"blue\",\"blue\",\"blue\",\"blue\",\"blue\",\"blue\",\"blue\",\"blue\",\"blue\",\"blue\",\"blue\",\"blue\",\"blue\",\"blue\",\"blue\",\"blue\",\"blue\",\"blue\",\"blue\",\"blue\",\"blue\",\"blue\",\"blue\",\"blue\",\"blue\",\"blue\",\"blue\",\"blue\",\"blue\",\"blue\",\"blue\",\"blue\",\"blue\",\"blue\",\"blue\",\"blue\",\"blue\",\"blue\",\"blue\",\"blue\",\"blue\",\"blue\",\"blue\",\"blue\",\"blue\",\"blue\",\"blue\",\"blue\",\"blue\",\"blue\",\"blue\",\"blue\",\"blue\",\"blue\",\"blue\",\"blue\",\"blue\",\"blue\",\"blue\",\"blue\",\"blue\",\"blue\",\"blue\",\"blue\",\"blue\",\"blue\",\"blue\",\"blue\",\"blue\",\"blue\",\"blue\",\"blue\",\"blue\",\"blue\",\"blue\",\"blue\",\"blue\",\"blue\",\"blue\",\"blue\",\"blue\",\"blue\",\"blue\",\"blue\",\"blue\",\"blue\",\"blue\",\"blue\",\"blue\",\"blue\",\"blue\",\"blue\",\"blue\",\"blue\",\"blue\",\"blue\",\"blue\",\"blue\",\"blue\",\"blue\",\"blue\",\"blue\",\"blue\",\"blue\",\"blue\",\"blue\",\"blue\",\"blue\",\"blue\",\"blue\",\"blue\",\"blue\",\"blue\",\"blue\",\"blue\",\"blue\",\"blue\",\"blue\",\"blue\",\"blue\",\"blue\",\"blue\",\"blue\",\"blue\",\"blue\",\"blue\",\"blue\",\"blue\",\"blue\",\"blue\",\"blue\",\"blue\",\"blue\",\"blue\",\"blue\",\"blue\",\"blue\",\"blue\",\"blue\",\"blue\",\"blue\",\"blue\",\"blue\",\"blue\",\"blue\",\"blue\",\"blue\",\"blue\",\"blue\",\"blue\",\"blue\",\"blue\",\"blue\",\"blue\",\"blue\",\"blue\",\"blue\",\"blue\",\"blue\",\"blue\",\"blue\",\"blue\",\"blue\",\"blue\",\"blue\",\"blue\",\"blue\",\"blue\",\"blue\",\"blue\",\"blue\",\"blue\",\"blue\",\"blue\",\"blue\",\"blue\",\"blue\",\"blue\",\"blue\",\"blue\",\"blue\",\"blue\",\"blue\",\"blue\",\"blue\",\"blue\",\"blue\",\"blue\",\"blue\",\"blue\",\"blue\",\"blue\",\"blue\",\"blue\",\"blue\",\"blue\",\"blue\",\"blue\",\"blue\",\"blue\",\"blue\",\"blue\",\"blue\",\"blue\",\"blue\",\"blue\",\"blue\",\"blue\",\"blue\",\"blue\",\"blue\",\"blue\",\"blue\",\"blue\",\"blue\",\"blue\",\"blue\",\"blue\",\"blue\",\"blue\",\"blue\",\"blue\",\"blue\",\"blue\",\"blue\",\"blue\",\"blue\",\"blue\",\"blue\",\"blue\",\"blue\",\"blue\",\"blue\",\"blue\",\"blue\",\"blue\",\"blue\",\"blue\",\"blue\",\"blue\",\"blue\",\"blue\",\"blue\",\"blue\",\"blue\",\"blue\",\"blue\",\"blue\",\"blue\",\"blue\",\"blue\",\"blue\",\"blue\",\"blue\",\"blue\",\"blue\",\"blue\",\"blue\",\"blue\",\"blue\",\"blue\",\"blue\",\"blue\",\"blue\",\"blue\",\"blue\",\"blue\",\"blue\",\"blue\",\"blue\",\"blue\",\"blue\",\"blue\",\"blue\",\"blue\",\"blue\",\"blue\",\"blue\",\"blue\",\"blue\",\"blue\",\"blue\",\"blue\",\"blue\",\"blue\",\"blue\",\"blue\",\"blue\",\"blue\",\"blue\",\"blue\",\"blue\",\"blue\",\"blue\",\"blue\",\"blue\",\"blue\",\"blue\",\"blue\",\"blue\",\"blue\",\"blue\",\"blue\",\"blue\",\"blue\",\"blue\",\"blue\",\"blue\",\"blue\",\"blue\",\"blue\",\"blue\",\"blue\",\"blue\",\"blue\",\"blue\",\"blue\",\"blue\",\"blue\",\"blue\",\"blue\",\"blue\",\"blue\",\"blue\",\"blue\",\"blue\",\"blue\",\"blue\",\"blue\",\"blue\",\"blue\",\"blue\",\"blue\",\"blue\",\"blue\",\"blue\",\"blue\",\"blue\",\"blue\",\"blue\",\"blue\",\"blue\",\"blue\",\"blue\",\"blue\",\"blue\",\"blue\",\"blue\",\"blue\",\"blue\",\"blue\",\"blue\",\"blue\",\"blue\",\"blue\",\"blue\",\"blue\",\"blue\",\"blue\",\"blue\",\"blue\",\"blue\",\"blue\",\"blue\",\"blue\",\"blue\",\"blue\",\"blue\",\"blue\",\"blue\",\"blue\",\"blue\",\"blue\",\"blue\",\"blue\",\"blue\",\"blue\",\"blue\",\"blue\",\"blue\",\"blue\",\"blue\",\"blue\",\"blue\",\"blue\",\"blue\",\"blue\",\"blue\",\"blue\",\"blue\",\"blue\",\"blue\",\"blue\",\"blue\",\"blue\",\"blue\",\"blue\",\"blue\",\"blue\",\"blue\",\"blue\",\"blue\",\"blue\",\"blue\",\"blue\",\"blue\",\"blue\",\"blue\",\"blue\",\"blue\",\"blue\",\"blue\",\"blue\",\"blue\",\"blue\",\"blue\",\"blue\",\"blue\",\"blue\",\"blue\",\"blue\",\"blue\",\"blue\",\"blue\",\"blue\",\"blue\",\"blue\",\"blue\",\"blue\",\"blue\",\"blue\",\"blue\",\"blue\",\"blue\",\"blue\",\"blue\",\"blue\",\"blue\",\"blue\",\"blue\",\"blue\",\"blue\",\"blue\",\"blue\",\"blue\",\"blue\",\"blue\",\"blue\",\"blue\",\"blue\",\"blue\",\"blue\",\"blue\",\"blue\",\"blue\",\"blue\",\"blue\",\"blue\",\"blue\",\"blue\",\"blue\",\"blue\",\"blue\",\"blue\",\"blue\",\"blue\",\"blue\",\"blue\",\"blue\",\"blue\",\"blue\",\"blue\",\"blue\",\"blue\",\"blue\",\"blue\",\"blue\",\"blue\",\"blue\",\"blue\",\"blue\",\"blue\",\"blue\",\"blue\",\"blue\",\"blue\",\"blue\",\"blue\",\"blue\",\"blue\",\"blue\",\"blue\",\"blue\",\"blue\",\"blue\",\"blue\",\"blue\",\"blue\",\"blue\",\"blue\",\"blue\",\"blue\",\"blue\",\"blue\",\"blue\",\"blue\",\"blue\",\"blue\",\"blue\",\"blue\",\"blue\",\"blue\",\"blue\",\"blue\",\"blue\",\"blue\",\"blue\",\"blue\",\"blue\",\"blue\",\"blue\",\"blue\",\"blue\",\"blue\",\"blue\",\"blue\",\"blue\",\"blue\",\"blue\",\"blue\",\"blue\",\"blue\",\"blue\",\"blue\",\"blue\",\"blue\",\"blue\",\"blue\",\"blue\",\"blue\",\"blue\",\"blue\",\"blue\",\"blue\",\"blue\",\"blue\",\"blue\",\"blue\",\"blue\",\"blue\",\"blue\",\"blue\",\"blue\",\"blue\",\"blue\",\"blue\",\"blue\",\"blue\",\"blue\",\"blue\",\"blue\",\"blue\",\"blue\",\"blue\",\"blue\",\"blue\",\"blue\",\"blue\",\"blue\",\"blue\",\"blue\",\"blue\",\"blue\",\"blue\",\"blue\",\"blue\",\"blue\",\"blue\",\"blue\",\"blue\",\"blue\",\"blue\",\"blue\",\"blue\",\"blue\",\"blue\",\"blue\",\"blue\",\"blue\",\"blue\",\"blue\",\"blue\",\"blue\",\"blue\",\"blue\",\"blue\",\"blue\",\"blue\",\"blue\",\"blue\",\"blue\",\"blue\",\"blue\",\"blue\",\"blue\",\"blue\",\"blue\",\"blue\",\"blue\",\"blue\",\"blue\",\"blue\",\"blue\",\"blue\",\"blue\",\"blue\",\"blue\",\"blue\",\"blue\",\"blue\",\"blue\",\"blue\",\"blue\",\"blue\",\"blue\",\"blue\",\"blue\",\"blue\",\"blue\",\"blue\",\"blue\",\"blue\",\"blue\",\"blue\",\"blue\",\"blue\",\"blue\",\"blue\",\"blue\",\"blue\",\"blue\",\"blue\",\"blue\",\"blue\",\"blue\",\"blue\",\"blue\",\"blue\",\"blue\",\"blue\",\"blue\",\"blue\",\"blue\",\"blue\",\"blue\",\"blue\",\"blue\",\"blue\",\"blue\",\"blue\",\"blue\",\"blue\",\"blue\",\"blue\",\"blue\",\"blue\",\"blue\",\"blue\",\"blue\",\"blue\",\"blue\",\"blue\",\"blue\",\"blue\",\"blue\",\"blue\",\"blue\",\"blue\",\"blue\",\"blue\",\"blue\",\"blue\",\"blue\",\"blue\",\"blue\",\"blue\",\"blue\",\"blue\",\"blue\",\"blue\",\"blue\",\"blue\",\"blue\",\"blue\",\"blue\",\"blue\",\"blue\",\"blue\",\"blue\",\"blue\",\"blue\",\"blue\",\"blue\",\"blue\",\"blue\",\"blue\",\"blue\",\"blue\",\"blue\",\"blue\",\"blue\",\"blue\",\"blue\",\"blue\",\"blue\",\"blue\",\"blue\",\"blue\",\"blue\",\"blue\",\"blue\",\"blue\",\"blue\",\"blue\",\"blue\",\"blue\",\"blue\",\"blue\",\"blue\",\"blue\",\"blue\",\"blue\",\"blue\",\"blue\",\"blue\",\"blue\",\"blue\",\"blue\",\"blue\",\"blue\",\"blue\",\"blue\",\"blue\",\"blue\",\"blue\",\"blue\",\"blue\",\"blue\",\"blue\",\"blue\",\"blue\",\"blue\",\"blue\",\"blue\",\"blue\",\"blue\",\"blue\",\"blue\",\"blue\",\"blue\",\"blue\",\"blue\",\"blue\",\"blue\",\"blue\",\"blue\",\"blue\",\"blue\",\"blue\",\"blue\",\"blue\",\"blue\",\"blue\",\"blue\",\"blue\",\"blue\",\"blue\",\"blue\",\"blue\",\"blue\",\"blue\",\"blue\",\"blue\",\"blue\",\"blue\",\"blue\",\"blue\",\"blue\",\"blue\",\"blue\",\"blue\",\"blue\",\"blue\",\"blue\",\"blue\",\"blue\",\"blue\",\"blue\",\"blue\",\"blue\",\"blue\",\"blue\",\"blue\",\"blue\",\"blue\",\"blue\",\"blue\",\"blue\",\"blue\",\"blue\",\"blue\",\"blue\",\"blue\",\"blue\",\"blue\",\"blue\",\"blue\",\"blue\",\"blue\",\"blue\",\"blue\",\"blue\",\"blue\",\"blue\",\"blue\",\"blue\",\"blue\",\"blue\",\"blue\",\"blue\",\"blue\",\"blue\",\"blue\",\"blue\",\"blue\",\"blue\",\"blue\",\"blue\",\"blue\",\"blue\",\"blue\",\"blue\",\"blue\",\"blue\",\"blue\",\"blue\",\"blue\",\"blue\",\"blue\",\"blue\",\"blue\",\"blue\",\"blue\",\"blue\",\"blue\",\"blue\",\"blue\",\"blue\",\"blue\",\"blue\",\"blue\",\"blue\",\"blue\",\"blue\",\"blue\",\"blue\",\"blue\",\"blue\",\"blue\",\"blue\",\"blue\",\"blue\",\"blue\",\"blue\",\"blue\",\"blue\",\"blue\",\"blue\",\"blue\",\"blue\",\"blue\",\"blue\",\"blue\",\"blue\",\"blue\",\"blue\",\"blue\",\"blue\",\"blue\",\"blue\",\"blue\",\"blue\",\"blue\",\"blue\",\"blue\",\"blue\",\"blue\",\"blue\",\"blue\",\"blue\",\"blue\",\"blue\",\"blue\",\"blue\",\"blue\",\"blue\",\"blue\",\"blue\",\"blue\",\"blue\",\"blue\",\"blue\",\"blue\",\"blue\",\"blue\",\"blue\",\"blue\",\"blue\",\"blue\",\"blue\",\"blue\",\"blue\",\"blue\",\"blue\",\"blue\",\"blue\",\"blue\",\"blue\",\"blue\",\"blue\",\"blue\",\"blue\",\"blue\",\"blue\",\"blue\",\"blue\",\"blue\",\"blue\",\"blue\",\"blue\",\"blue\",\"blue\",\"blue\",\"blue\",\"blue\",\"blue\",\"blue\",\"blue\",\"blue\",\"blue\",\"blue\",\"blue\",\"blue\",\"blue\",\"blue\",\"blue\",\"blue\",\"blue\",\"blue\",\"blue\",\"blue\",\"blue\",\"blue\",\"blue\",\"blue\",\"blue\",\"blue\",\"blue\",\"blue\",\"blue\",\"blue\",\"blue\",\"blue\",\"blue\",\"blue\",\"blue\",\"blue\",\"blue\",\"blue\",\"blue\",\"blue\",\"blue\",\"blue\",\"blue\",\"blue\",\"blue\",\"blue\",\"blue\",\"blue\",\"blue\",\"blue\",\"blue\",\"blue\",\"blue\",\"blue\",\"blue\",\"blue\",\"blue\",\"blue\",\"blue\",\"blue\",\"blue\",\"blue\",\"blue\",\"blue\",\"blue\",\"blue\",\"blue\",\"blue\",\"blue\",\"blue\",\"blue\",\"blue\",\"blue\",\"blue\",\"blue\",\"blue\",\"blue\",\"blue\",\"blue\",\"blue\",\"blue\",\"blue\",\"blue\",\"blue\",\"blue\",\"blue\",\"blue\",\"blue\",\"blue\",\"blue\",\"blue\",\"blue\",\"blue\",\"blue\",\"blue\",\"blue\",\"blue\",\"blue\",\"blue\",\"blue\",\"blue\",\"blue\",\"blue\",\"blue\",\"blue\",\"blue\",\"blue\",\"blue\",\"blue\",\"blue\",\"blue\",\"blue\",\"blue\",\"blue\",\"blue\",\"blue\",\"blue\",\"blue\",\"blue\",\"blue\",\"blue\",\"blue\",\"blue\",\"blue\",\"blue\",\"blue\",\"blue\",\"blue\",\"blue\",\"blue\",\"blue\",\"blue\",\"blue\",\"blue\",\"blue\",\"blue\",\"blue\",\"blue\",\"blue\",\"blue\",\"blue\",\"blue\",\"blue\",\"blue\",\"blue\",\"blue\",\"blue\",\"blue\",\"blue\",\"blue\",\"blue\",\"blue\",\"blue\",\"blue\",\"blue\",\"blue\",\"blue\",\"blue\",\"blue\",\"blue\",\"blue\",\"blue\",\"blue\",\"blue\",\"blue\",\"blue\",\"blue\",\"blue\",\"blue\",\"blue\",\"blue\",\"blue\",\"blue\",\"blue\",\"blue\",\"blue\",\"blue\",\"blue\",\"blue\",\"blue\",\"blue\",\"blue\",\"blue\",\"blue\",\"blue\",\"blue\",\"blue\",\"blue\",\"blue\",\"blue\",\"blue\",\"blue\",\"blue\",\"blue\",\"blue\",\"blue\",\"blue\",\"blue\",\"blue\",\"blue\",\"blue\",\"blue\",\"blue\",\"blue\",\"blue\",\"blue\",\"blue\",\"blue\",\"blue\",\"blue\",\"blue\",\"blue\",\"blue\",\"blue\",\"blue\",\"blue\",\"blue\",\"blue\",\"blue\",\"blue\",\"blue\",\"blue\",\"blue\",\"blue\",\"blue\",\"blue\",\"blue\",\"blue\",\"blue\",\"blue\",\"blue\",\"blue\",\"blue\",\"blue\",\"blue\",\"blue\",\"blue\",\"blue\",\"blue\",\"blue\",\"blue\",\"blue\",\"blue\",\"blue\",\"blue\",\"blue\",\"blue\",\"blue\",\"blue\",\"blue\",\"blue\",\"blue\",\"blue\",\"blue\",\"blue\",\"blue\",\"blue\",\"blue\",\"blue\",\"blue\",\"blue\",\"blue\",\"blue\",\"blue\",\"blue\",\"blue\",\"blue\",\"blue\",\"blue\",\"blue\",\"blue\",\"blue\",\"blue\",\"blue\",\"blue\",\"blue\",\"blue\",\"blue\",\"blue\",\"blue\",\"blue\",\"blue\",\"blue\",\"blue\",\"blue\",\"blue\",\"blue\",\"blue\",\"blue\",\"blue\",\"blue\",\"blue\",\"blue\",\"blue\",\"blue\",\"blue\",\"blue\",\"blue\",\"blue\",\"blue\",\"blue\",\"blue\",\"blue\",\"blue\",\"blue\",\"blue\",\"blue\",\"blue\",\"blue\",\"blue\",\"blue\",\"blue\",\"blue\",\"blue\",\"blue\",\"blue\",\"blue\",\"blue\",\"blue\",\"blue\",\"blue\",\"blue\",\"blue\",\"blue\",\"blue\",\"blue\",\"blue\",\"blue\",\"blue\",\"blue\",\"blue\",\"blue\",\"blue\",\"blue\",\"blue\",\"blue\",\"blue\",\"blue\",\"blue\",\"blue\",\"blue\",\"blue\",\"blue\",\"blue\",\"blue\",\"blue\",\"blue\",\"blue\",\"blue\",\"blue\",\"blue\",\"blue\",\"blue\",\"blue\",\"blue\",\"blue\",\"blue\",\"blue\",\"blue\",\"blue\",\"blue\",\"blue\",\"blue\",\"blue\",\"blue\",\"blue\",\"blue\",\"blue\",\"blue\",\"blue\",\"blue\",\"blue\",\"blue\",\"blue\",\"blue\",\"blue\",\"blue\",\"blue\",\"blue\",\"blue\",\"blue\",\"blue\",\"blue\",\"blue\",\"blue\",\"blue\",\"blue\",\"blue\",\"blue\",\"blue\",\"blue\",\"blue\",\"blue\",\"blue\",\"blue\",\"blue\",\"blue\",\"blue\",\"blue\",\"blue\",\"blue\",\"blue\",\"blue\",\"blue\",\"blue\",\"blue\",\"blue\",\"blue\",\"blue\",\"blue\",\"blue\",\"blue\",\"blue\",\"blue\",\"blue\",\"blue\",\"blue\",\"blue\",\"blue\",\"blue\",\"blue\",\"blue\",\"blue\",\"blue\",\"blue\",\"blue\",\"blue\",\"blue\",\"blue\",\"blue\",\"blue\",\"blue\",\"blue\",\"blue\",\"blue\",\"blue\",\"blue\",\"blue\",\"blue\",\"blue\",\"blue\",\"blue\",\"blue\",\"blue\",\"blue\",\"blue\",\"blue\",\"blue\",\"blue\",\"blue\",\"blue\",\"blue\",\"blue\",\"blue\",\"blue\",\"blue\",\"blue\",\"blue\",\"blue\",\"blue\",\"blue\",\"blue\",\"blue\",\"blue\",\"blue\",\"blue\",\"blue\",\"blue\",\"blue\",\"blue\",\"blue\",\"blue\",\"blue\",\"blue\",\"blue\",\"blue\",\"blue\",\"blue\",\"blue\",\"blue\",\"blue\",\"blue\",\"blue\",\"blue\",\"blue\",\"blue\",\"blue\",\"blue\",\"blue\",\"blue\",\"blue\",\"blue\",\"blue\",\"blue\",\"blue\",\"blue\",\"blue\",\"blue\",\"blue\",\"blue\",\"blue\",\"blue\",\"blue\",\"blue\",\"blue\",\"blue\",\"blue\",\"blue\",\"blue\",\"blue\",\"blue\",\"blue\",\"blue\",\"blue\",\"blue\",\"blue\",\"blue\",\"blue\",\"blue\",\"blue\",\"blue\",\"blue\",\"blue\",\"blue\",\"blue\",\"blue\",\"blue\",\"blue\",\"blue\",\"blue\",\"blue\",\"blue\",\"blue\",\"blue\",\"blue\",\"blue\",\"blue\",\"blue\",\"blue\",\"blue\",\"blue\",\"blue\",\"blue\",\"blue\",\"blue\",\"blue\",\"blue\",\"blue\",\"blue\",\"blue\",\"blue\",\"blue\",\"blue\",\"blue\",\"blue\",\"blue\",\"blue\",\"blue\",\"blue\",\"blue\",\"blue\",\"blue\",\"blue\",\"blue\",\"blue\",\"blue\",\"blue\",\"blue\",\"blue\",\"blue\",\"blue\",\"blue\",\"blue\",\"blue\",\"blue\",\"blue\",\"blue\",\"blue\",\"blue\",\"blue\",\"blue\",\"blue\",\"blue\",\"blue\",\"blue\",\"blue\",\"blue\",\"blue\",\"blue\",\"blue\",\"blue\",\"blue\",\"blue\",\"blue\",\"blue\",\"blue\",\"blue\",\"blue\",\"blue\",\"blue\",\"blue\",\"blue\",\"blue\",\"blue\",\"blue\",\"blue\",\"blue\",\"blue\",\"blue\",\"blue\",\"blue\",\"blue\",\"blue\",\"blue\",\"blue\",\"blue\",\"blue\",\"blue\",\"blue\",\"blue\",\"blue\",\"blue\",\"blue\",\"blue\",\"blue\",\"blue\",\"blue\",\"blue\",\"blue\",\"blue\",\"blue\",\"blue\",\"blue\",\"blue\",\"blue\",\"blue\",\"blue\",\"blue\",\"blue\",\"blue\",\"blue\",\"blue\",\"blue\",\"blue\",\"blue\",\"blue\",\"blue\",\"blue\",\"blue\",\"blue\",\"blue\",\"blue\",\"blue\",\"blue\",\"blue\",\"blue\",\"blue\",\"blue\",\"blue\",\"blue\",\"blue\",\"blue\",\"blue\",\"blue\",\"blue\",\"blue\",\"blue\",\"blue\",\"blue\",\"blue\",\"blue\",\"blue\",\"blue\",\"blue\",\"blue\",\"blue\",\"blue\",\"blue\",\"blue\",\"blue\",\"blue\",\"blue\",\"blue\",\"blue\",\"blue\",\"blue\",\"blue\",\"blue\",\"blue\",\"blue\",\"blue\",\"blue\",\"blue\",\"blue\",\"blue\",\"blue\",\"blue\",\"blue\",\"blue\",\"blue\",\"blue\",\"blue\",\"blue\",\"blue\",\"blue\",\"blue\",\"blue\",\"blue\",\"blue\",\"blue\",\"blue\",\"blue\",\"blue\",\"blue\",\"blue\",\"blue\",\"blue\",\"blue\",\"blue\",\"blue\",\"blue\",\"blue\",\"blue\",\"blue\",\"blue\",\"blue\",\"blue\",\"blue\",\"blue\",\"blue\",\"blue\",\"blue\",\"blue\",\"blue\",\"blue\",\"blue\",\"blue\",\"blue\",\"blue\",\"blue\",\"blue\",\"blue\",\"blue\",\"blue\",\"blue\",\"blue\",\"blue\",\"blue\",\"blue\",\"blue\",\"blue\",\"blue\",\"blue\",\"blue\",\"blue\",\"blue\",\"blue\",\"blue\",\"blue\",\"blue\",\"blue\",\"blue\",\"blue\",\"blue\",\"blue\",\"blue\",\"blue\",\"blue\",\"blue\",\"blue\",\"blue\",\"blue\",\"blue\",\"blue\",\"blue\",\"blue\",\"blue\",\"blue\",\"blue\",\"blue\",\"blue\",\"blue\",\"blue\",\"blue\",\"blue\",\"blue\",\"blue\",\"blue\",\"blue\",\"blue\",\"blue\",\"blue\",\"blue\",\"blue\",\"blue\",\"blue\",\"blue\",\"blue\",\"blue\",\"blue\",\"blue\",\"blue\",\"blue\",\"blue\",\"blue\",\"blue\",\"blue\",\"blue\",\"blue\",\"blue\",\"blue\",\"blue\",\"blue\",\"blue\",\"blue\",\"blue\",\"blue\",\"blue\",\"blue\",\"blue\",\"blue\",\"blue\",\"blue\",\"blue\",\"blue\",\"blue\",\"blue\",\"blue\",\"blue\",\"blue\",\"blue\",\"blue\",\"blue\",\"blue\",\"blue\",\"blue\",\"blue\",\"blue\",\"blue\",\"blue\",\"blue\",\"blue\",\"blue\",\"blue\",\"blue\",\"blue\",\"blue\",\"blue\",\"blue\",\"blue\",\"blue\",\"blue\",\"blue\",\"blue\",\"blue\",\"blue\",\"blue\",\"blue\",\"blue\",\"blue\",\"blue\",\"blue\",\"blue\",\"blue\",\"blue\",\"blue\",\"blue\",\"blue\",\"blue\",\"blue\",\"blue\",\"blue\",\"blue\",\"blue\",\"blue\",\"blue\",\"blue\",\"blue\",\"blue\",\"blue\",\"blue\",\"blue\",\"blue\",\"blue\",\"blue\",\"blue\",\"blue\",\"blue\",\"blue\",\"blue\",\"blue\",\"blue\",\"blue\",\"blue\",\"blue\",\"blue\",\"blue\",\"blue\",\"blue\",\"blue\",\"blue\",\"blue\",\"blue\",\"blue\",\"blue\",\"blue\",\"blue\",\"blue\",\"blue\",\"blue\",\"blue\",\"blue\",\"blue\",\"blue\",\"blue\",\"blue\",\"blue\",\"blue\",\"blue\",\"blue\",\"blue\",\"blue\",\"blue\",\"blue\",\"blue\",\"blue\",\"blue\",\"blue\",\"blue\",\"blue\",\"blue\",\"blue\",\"blue\",\"blue\",\"blue\",\"blue\",\"blue\",\"blue\",\"blue\",\"blue\",\"blue\",\"blue\",\"blue\",\"blue\",\"blue\",\"blue\",\"blue\",\"blue\",\"blue\",\"blue\",\"blue\",\"blue\",\"blue\",\"blue\",\"blue\",\"blue\",\"blue\",\"blue\",\"blue\",\"blue\",\"blue\",\"blue\",\"blue\",\"blue\",\"blue\",\"blue\",\"blue\",\"blue\",\"blue\",\"blue\",\"blue\",\"blue\",\"blue\",\"blue\",\"blue\",\"blue\",\"blue\",\"blue\",\"blue\",\"blue\",\"blue\",\"blue\",\"blue\",\"blue\",\"blue\",\"blue\",\"blue\",\"blue\",\"blue\",\"blue\",\"blue\",\"blue\",\"blue\",\"blue\",\"blue\",\"blue\",\"blue\",\"blue\",\"blue\",\"blue\",\"blue\",\"blue\",\"blue\",\"blue\",\"blue\",\"blue\",\"blue\",\"blue\",\"blue\",\"blue\",\"blue\",\"blue\",\"blue\",\"blue\",\"blue\",\"blue\",\"blue\",\"blue\",\"blue\",\"blue\",\"blue\",\"blue\",\"blue\",\"blue\",\"blue\",\"blue\",\"blue\",\"blue\",\"blue\",\"blue\",\"blue\",\"blue\",\"blue\",\"blue\",\"blue\",\"blue\",\"blue\",\"blue\",\"blue\",\"blue\",\"blue\",\"blue\",\"blue\",\"blue\",\"blue\",\"blue\",\"blue\",\"blue\",\"blue\",\"blue\",\"blue\",\"blue\",\"blue\",\"blue\",\"blue\",\"blue\",\"blue\",\"blue\",\"blue\",\"blue\",\"blue\",\"blue\",\"blue\",\"blue\",\"blue\",\"blue\",\"blue\",\"blue\",\"blue\",\"blue\",\"blue\",\"blue\",\"blue\",\"blue\",\"blue\",\"blue\",\"blue\",\"blue\",\"blue\",\"blue\",\"blue\",\"blue\",\"blue\",\"blue\",\"blue\",\"blue\",\"blue\",\"blue\",\"blue\",\"blue\",\"blue\",\"blue\",\"blue\",\"blue\",\"blue\",\"blue\",\"blue\",\"blue\",\"blue\",\"blue\",\"blue\",\"blue\",\"blue\",\"blue\",\"blue\",\"blue\",\"blue\",\"blue\",\"blue\",\"blue\",\"blue\",\"blue\",\"blue\",\"blue\",\"blue\",\"blue\",\"blue\",\"blue\",\"blue\",\"blue\",\"blue\",\"blue\",\"blue\",\"blue\",\"blue\",\"blue\",\"blue\",\"blue\",\"blue\",\"blue\",\"blue\",\"blue\",\"blue\",\"blue\",\"blue\",\"blue\",\"blue\",\"blue\",\"blue\",\"blue\",\"blue\",\"blue\",\"blue\",\"blue\",\"blue\",\"blue\",\"blue\",\"blue\",\"blue\",\"blue\",\"blue\",\"blue\",\"blue\",\"blue\",\"blue\",\"blue\",\"blue\",\"blue\",\"blue\",\"blue\",\"blue\",\"blue\",\"blue\",\"blue\",\"blue\",\"blue\",\"blue\",\"blue\",\"blue\",\"blue\",\"blue\",\"blue\",\"blue\",\"blue\",\"blue\",\"blue\",\"blue\",\"blue\",\"blue\",\"blue\",\"blue\",\"blue\",\"blue\",\"blue\",\"blue\",\"blue\",\"blue\",\"blue\",\"blue\",\"blue\",\"blue\",\"blue\",\"blue\",\"blue\",\"blue\",\"blue\",\"blue\",\"blue\",\"blue\",\"blue\",\"blue\",\"blue\",\"blue\",\"blue\",\"blue\",\"blue\",\"blue\",\"blue\",\"blue\",\"blue\",\"blue\",\"blue\",\"blue\",\"blue\",\"blue\",\"blue\",\"blue\",\"blue\",\"blue\",\"blue\",\"blue\",\"blue\",\"blue\",\"blue\",\"blue\",\"blue\",\"blue\",\"blue\",\"blue\",\"blue\",\"blue\",\"blue\",\"blue\",\"blue\",\"blue\",\"blue\",\"blue\",\"blue\",\"blue\",\"blue\",\"blue\",\"blue\",\"blue\",\"blue\",\"blue\",\"blue\",\"blue\",\"blue\",\"blue\",\"blue\",\"blue\",\"blue\",\"blue\",\"blue\",\"blue\",\"blue\",\"blue\",\"blue\",\"blue\",\"blue\",\"blue\",\"blue\",\"blue\",\"blue\",\"blue\",\"blue\",\"blue\",\"blue\",\"blue\",\"blue\",\"blue\",\"blue\",\"blue\",\"blue\",\"blue\",\"blue\",\"blue\",\"blue\",\"blue\",\"blue\",\"blue\",\"blue\",\"blue\",\"blue\",\"blue\",\"blue\",\"blue\",\"blue\",\"blue\",\"blue\",\"blue\",\"blue\",\"blue\",\"blue\",\"blue\",\"blue\",\"blue\",\"blue\",\"blue\",\"blue\",\"blue\",\"blue\",\"blue\",\"blue\",\"blue\",\"blue\",\"blue\",\"blue\",\"blue\",\"blue\",\"blue\",\"blue\",\"blue\",\"blue\",\"blue\",\"blue\",\"blue\",\"blue\",\"blue\",\"blue\",\"blue\",\"blue\",\"blue\",\"blue\",\"blue\",\"blue\",\"blue\",\"blue\",\"blue\",\"blue\",\"blue\",\"blue\",\"blue\",\"blue\",\"blue\",\"blue\",\"blue\",\"blue\",\"blue\",\"blue\",\"blue\",\"blue\",\"blue\",\"blue\",\"blue\",\"blue\",\"blue\",\"blue\",\"blue\",\"blue\",\"blue\",\"blue\",\"blue\",\"blue\",\"blue\",\"blue\",\"blue\",\"blue\",\"blue\",\"blue\",\"blue\",\"blue\",\"blue\",\"blue\",\"blue\",\"blue\",\"blue\",\"blue\",\"blue\",\"blue\",\"blue\",\"blue\",\"blue\",\"blue\",\"blue\",\"blue\",\"blue\",\"blue\",\"blue\",\"blue\",\"blue\",\"blue\",\"blue\",\"blue\",\"blue\",\"blue\",\"blue\",\"blue\",\"blue\",\"blue\",\"blue\",\"blue\",\"blue\",\"blue\",\"blue\",\"blue\",\"blue\",\"blue\",\"blue\",\"blue\",\"blue\",\"blue\",\"blue\",\"blue\",\"blue\",\"blue\",\"blue\",\"blue\",\"blue\",\"blue\",\"blue\",\"blue\",\"blue\",\"blue\",\"blue\",\"blue\",\"blue\",\"blue\",\"blue\",\"blue\",\"blue\",\"blue\",\"blue\",\"blue\",\"blue\",\"blue\",\"blue\",\"blue\",\"blue\",\"blue\",\"blue\",\"blue\",\"blue\",\"blue\",\"blue\",\"blue\",\"blue\",\"blue\",\"blue\",\"blue\",\"blue\",\"blue\",\"blue\",\"blue\",\"blue\",\"blue\",\"blue\",\"blue\",\"blue\",\"blue\",\"blue\",\"blue\",\"blue\",\"blue\",\"blue\",\"blue\",\"blue\",\"blue\",\"blue\",\"blue\",\"blue\",\"blue\",\"blue\",\"blue\",\"blue\",\"blue\",\"blue\",\"blue\",\"blue\",\"blue\",\"blue\",\"blue\",\"blue\",\"blue\",\"blue\",\"blue\",\"blue\",\"blue\",\"blue\",\"blue\",\"blue\",\"blue\",\"blue\",\"blue\",\"blue\",\"blue\",\"blue\",\"blue\",\"blue\",\"blue\",\"blue\",\"blue\",\"blue\",\"blue\",\"blue\",\"blue\",\"blue\",\"blue\",\"blue\",\"blue\",\"blue\",\"blue\",\"blue\",\"blue\",\"blue\",\"blue\",\"blue\",\"blue\",\"blue\",\"blue\",\"blue\",\"blue\",\"blue\",\"blue\",\"blue\",\"blue\",\"blue\",\"blue\",\"blue\",\"blue\",\"blue\",\"blue\",\"blue\",\"blue\",\"blue\",\"blue\",\"blue\",\"blue\",\"blue\",\"blue\",\"blue\",\"blue\",\"blue\",\"blue\",\"blue\",\"blue\",\"blue\",\"blue\",\"blue\",\"blue\",\"blue\",\"blue\",\"blue\",\"blue\",\"blue\",\"blue\",\"blue\",\"blue\",\"blue\",\"blue\",\"blue\",\"blue\",\"blue\",\"blue\",\"blue\",\"blue\",\"blue\",\"blue\",\"blue\",\"blue\",\"blue\",\"blue\",\"blue\",\"blue\",\"blue\",\"blue\",\"blue\",\"blue\",\"blue\",\"blue\",\"blue\",\"blue\",\"blue\",\"blue\",\"blue\",\"blue\",\"blue\",\"blue\",\"blue\",\"blue\",\"blue\",\"blue\",\"blue\",\"blue\",\"blue\",\"blue\",\"blue\",\"blue\",\"blue\",\"blue\",\"blue\",\"blue\",\"blue\",\"blue\",\"blue\",\"blue\",\"blue\",\"blue\",\"blue\",\"blue\",\"blue\",\"blue\",\"blue\",\"blue\",\"blue\",\"blue\",\"blue\",\"blue\",\"blue\",\"blue\",\"blue\",\"blue\",\"blue\",\"blue\",\"blue\",\"blue\",\"blue\",\"blue\",\"blue\",\"blue\",\"blue\",\"blue\",\"blue\",\"blue\",\"blue\",\"blue\",\"blue\",\"blue\",\"blue\",\"blue\",\"blue\",\"blue\",\"blue\",\"blue\",\"blue\",\"blue\",\"blue\",\"blue\",\"blue\",\"blue\",\"blue\",\"blue\",\"blue\",\"blue\",\"blue\",\"blue\",\"blue\",\"blue\",\"blue\",\"blue\",\"blue\",\"blue\",\"blue\",\"blue\",\"blue\",\"blue\",\"blue\",\"blue\",\"blue\",\"blue\",\"blue\",\"blue\",\"blue\",\"blue\",\"blue\",\"blue\",\"blue\",\"blue\",\"blue\",\"blue\",\"blue\",\"blue\",\"blue\",\"blue\",\"blue\",\"blue\",\"blue\",\"blue\",\"blue\",\"blue\",\"blue\",\"blue\",\"blue\",\"blue\",\"blue\",\"blue\",\"blue\",\"blue\",\"blue\",\"blue\",\"blue\",\"blue\",\"blue\",\"blue\",\"blue\",\"blue\",\"blue\",\"blue\",\"blue\",\"blue\",\"blue\",\"blue\",\"blue\",\"blue\",\"blue\",\"blue\",\"blue\",\"blue\",\"blue\",\"blue\",\"blue\",\"blue\",\"blue\",\"blue\",\"blue\",\"blue\",\"blue\",\"blue\",\"blue\",\"blue\",\"blue\",\"blue\",\"blue\",\"blue\",\"blue\",\"blue\",\"blue\",\"blue\",\"blue\",\"blue\",\"blue\",\"blue\",\"blue\",\"blue\",\"blue\",\"blue\",\"blue\",\"blue\",\"blue\",\"blue\",\"blue\",\"blue\",\"blue\",\"blue\",\"blue\",\"blue\",\"blue\",\"blue\",\"blue\",\"blue\",\"blue\",\"blue\",\"blue\",\"blue\",\"blue\",\"blue\",\"blue\",\"blue\",\"blue\",\"blue\",\"blue\",\"blue\",\"blue\",\"blue\",\"blue\",\"blue\",\"blue\",\"blue\",\"blue\",\"blue\",\"blue\",\"blue\",\"blue\",\"blue\",\"blue\",\"blue\",\"blue\",\"blue\",\"blue\",\"blue\",\"blue\",\"blue\",\"blue\",\"blue\",\"blue\",\"blue\",\"blue\",\"blue\",\"blue\",\"blue\",\"blue\",\"blue\",\"blue\",\"blue\",\"blue\",\"blue\",\"blue\",\"blue\",\"blue\",\"blue\",\"blue\",\"blue\",\"blue\",\"blue\",\"blue\",\"blue\",\"blue\",\"blue\",\"blue\",\"blue\",\"blue\",\"blue\",\"blue\",\"blue\",\"blue\",\"blue\",\"blue\",\"blue\",\"blue\",\"blue\",\"blue\",\"blue\",\"blue\",\"blue\",\"blue\",\"blue\",\"blue\",\"blue\",\"blue\",\"blue\",\"blue\",\"blue\",\"blue\",\"blue\",\"blue\",\"blue\",\"blue\",\"blue\",\"blue\",\"blue\",\"blue\",\"blue\",\"blue\",\"blue\",\"blue\",\"blue\",\"blue\",\"blue\",\"blue\",\"blue\",\"blue\",\"blue\",\"blue\",\"blue\",\"blue\",\"blue\",\"blue\",\"blue\",\"blue\",\"blue\",\"blue\",\"blue\",\"blue\",\"blue\",\"blue\",\"blue\",\"blue\",\"blue\",\"blue\",\"blue\",\"blue\",\"blue\",\"blue\",\"blue\",\"blue\",\"blue\",\"blue\",\"blue\",\"blue\",\"blue\",\"blue\",\"blue\",\"blue\",\"blue\",\"blue\",\"blue\",\"blue\",\"blue\",\"blue\",\"blue\",\"blue\",\"blue\",\"blue\",\"blue\",\"blue\",\"blue\",\"blue\",\"blue\",\"blue\",\"blue\",\"blue\",\"blue\",\"blue\",\"blue\",\"blue\",\"blue\",\"blue\",\"blue\",\"blue\",\"blue\",\"blue\",\"blue\",\"blue\",\"blue\",\"blue\",\"blue\",\"blue\",\"blue\",\"blue\",\"blue\",\"blue\",\"blue\",\"blue\",\"blue\",\"blue\",\"blue\",\"blue\",\"blue\",\"blue\",\"blue\",\"blue\",\"blue\",\"blue\",\"blue\",\"blue\",\"blue\",\"blue\",\"blue\",\"blue\",\"blue\",\"blue\",\"blue\",\"blue\",\"blue\",\"blue\",\"blue\",\"blue\",\"blue\",\"blue\",\"blue\",\"blue\",\"blue\",\"blue\",\"blue\",\"blue\",\"blue\",\"blue\",\"blue\",\"blue\",\"blue\",\"blue\",\"blue\",\"blue\",\"blue\",\"blue\",\"blue\",\"blue\",\"blue\",\"blue\",\"blue\",\"blue\",\"blue\",\"blue\",\"blue\",\"blue\",\"blue\",\"blue\",\"blue\",\"blue\",\"blue\",\"blue\",\"blue\",\"blue\",\"blue\",\"blue\",\"blue\",\"blue\",\"blue\",\"blue\",\"blue\",\"blue\",\"blue\",\"blue\",\"blue\",\"blue\",\"blue\",\"blue\",\"blue\",\"blue\",\"blue\",\"blue\",\"blue\",\"blue\",\"blue\",\"blue\",\"blue\",\"blue\",\"blue\",\"blue\",\"blue\",\"blue\",\"blue\",\"blue\",\"blue\",\"blue\",\"blue\",\"blue\",\"blue\",\"blue\",\"blue\",\"blue\",\"blue\",\"blue\",\"blue\",\"blue\",\"blue\",\"blue\",\"blue\",\"blue\",\"blue\",\"blue\",\"blue\",\"blue\",\"blue\",\"blue\",\"blue\",\"blue\",\"blue\",\"blue\",\"blue\",\"blue\",\"blue\",\"blue\",\"blue\",\"blue\",\"blue\",\"blue\",\"blue\",\"blue\",\"blue\",\"blue\",\"blue\",\"blue\",\"blue\",\"blue\",\"blue\",\"blue\",\"blue\",\"blue\",\"blue\",\"blue\",\"blue\",\"blue\",\"blue\",\"blue\",\"blue\",\"blue\",\"blue\",\"blue\",\"blue\",\"blue\",\"blue\",\"blue\",\"blue\",\"blue\",\"blue\",\"blue\",\"blue\",\"blue\",\"blue\",\"blue\",\"blue\",\"blue\",\"blue\",\"blue\",\"blue\",\"blue\",\"blue\",\"blue\",\"blue\",\"blue\",\"blue\",\"blue\",\"blue\",\"blue\",\"blue\",\"blue\",\"blue\",\"blue\",\"blue\",\"blue\",\"blue\",\"blue\",\"blue\",\"blue\",\"blue\",\"blue\",\"blue\",\"blue\",\"blue\",\"blue\",\"blue\",\"blue\",\"blue\",\"blue\",\"blue\",\"blue\",\"blue\",\"blue\",\"blue\",\"blue\",\"blue\",\"blue\",\"blue\",\"blue\",\"blue\",\"blue\",\"blue\",\"blue\",\"blue\",\"blue\",\"blue\",\"blue\",\"blue\",\"blue\",\"blue\",\"blue\",\"blue\",\"blue\",\"blue\",\"blue\",\"blue\",\"blue\",\"blue\",\"blue\",\"blue\",\"blue\",\"blue\",\"blue\",\"blue\",\"blue\",\"blue\",\"blue\",\"blue\",\"blue\",\"blue\",\"blue\",\"blue\",\"blue\",\"blue\",\"blue\",\"blue\",\"blue\",\"blue\",\"blue\",\"blue\",\"blue\",\"blue\",\"blue\",\"blue\",\"blue\",\"blue\",\"blue\",\"blue\",\"blue\",\"blue\",\"blue\",\"blue\",\"blue\",\"blue\",\"blue\",\"blue\",\"blue\",\"blue\",\"blue\",\"blue\",\"blue\",\"blue\",\"blue\",\"blue\",\"blue\",\"blue\",\"blue\",\"blue\",\"blue\",\"blue\",\"blue\",\"blue\",\"blue\",\"blue\",\"blue\",\"blue\",\"blue\",\"blue\",\"blue\",\"blue\",\"blue\",\"blue\",\"blue\",\"blue\",\"blue\",\"blue\",\"blue\",\"blue\",\"blue\",\"blue\",\"blue\",\"blue\",\"blue\",\"blue\",\"blue\",\"blue\",\"blue\",\"blue\",\"blue\",\"blue\",\"blue\",\"blue\",\"blue\",\"blue\",\"blue\",\"blue\",\"blue\",\"blue\",\"blue\",\"blue\",\"blue\",\"blue\",\"blue\",\"blue\",\"blue\",\"blue\",\"blue\",\"blue\",\"blue\",\"blue\",\"blue\",\"blue\",\"blue\",\"blue\",\"blue\",\"blue\",\"blue\",\"blue\",\"blue\",\"blue\",\"blue\",\"blue\",\"blue\",\"blue\",\"blue\",\"blue\",\"blue\",\"blue\",\"blue\",\"blue\",\"blue\",\"blue\",\"blue\",\"blue\",\"blue\",\"blue\",\"blue\",\"blue\",\"blue\",\"blue\",\"blue\",\"blue\",\"blue\",\"blue\",\"blue\",\"blue\",\"blue\",\"blue\",\"blue\",\"blue\",\"blue\",\"blue\",\"blue\",\"blue\",\"blue\",\"blue\",\"blue\",\"blue\",\"blue\",\"blue\",\"blue\",\"blue\",\"blue\",\"blue\",\"blue\",\"blue\",\"blue\",\"blue\",\"blue\",\"blue\",\"blue\",\"blue\",\"blue\",\"blue\",\"blue\",\"blue\",\"blue\",\"blue\",\"blue\",\"blue\",\"blue\",\"blue\",\"blue\",\"blue\",\"blue\",\"blue\",\"blue\",\"blue\",\"blue\",\"blue\",\"blue\",\"blue\",\"blue\",\"blue\",\"blue\",\"blue\",\"blue\",\"blue\",\"blue\",\"blue\",\"blue\",\"blue\",\"blue\",\"blue\",\"blue\",\"blue\",\"blue\",\"blue\",\"blue\",\"blue\",\"blue\",\"blue\",\"blue\",\"blue\",\"blue\",\"blue\",\"blue\",\"blue\",\"blue\",\"blue\",\"blue\",\"blue\",\"blue\",\"blue\",\"blue\",\"blue\",\"blue\",\"blue\",\"blue\",\"blue\",\"blue\",\"blue\",\"blue\",\"blue\",\"blue\",\"blue\",\"blue\",\"blue\",\"blue\",\"blue\",\"blue\",\"blue\",\"blue\",\"blue\",\"blue\",\"blue\",\"blue\",\"blue\",\"blue\",\"blue\",\"blue\",\"blue\",\"blue\",\"blue\",\"blue\",\"blue\",\"blue\",\"blue\",\"blue\",\"blue\",\"blue\",\"blue\",\"blue\",\"blue\",\"blue\",\"blue\",\"blue\",\"blue\",\"blue\",\"blue\",\"blue\",\"blue\",\"blue\",\"blue\",\"blue\",\"blue\",\"blue\",\"blue\",\"blue\",\"blue\",\"blue\",\"blue\",\"blue\",\"blue\",\"blue\",\"blue\",\"blue\",\"blue\",\"blue\",\"blue\",\"blue\",\"blue\",\"blue\",\"blue\",\"blue\",\"blue\",\"blue\",\"blue\",\"blue\",\"blue\",\"blue\",\"blue\",\"blue\",\"blue\",\"blue\",\"blue\",\"blue\",\"blue\",\"blue\",\"blue\",\"blue\",\"blue\",\"blue\",\"blue\",\"blue\",\"blue\",\"blue\",\"blue\",\"blue\",\"blue\",\"blue\",\"blue\",\"blue\",\"blue\",\"blue\",\"blue\",\"blue\",\"blue\",\"blue\",\"blue\",\"blue\",\"blue\",\"blue\",\"blue\",\"blue\",\"blue\",\"blue\",\"blue\",\"blue\",\"blue\",\"blue\",\"blue\",\"blue\",\"blue\",\"blue\",\"blue\",\"blue\",\"blue\",\"blue\",\"blue\",\"blue\",\"blue\",\"blue\",\"blue\",\"blue\",\"blue\",\"blue\",\"blue\",\"blue\",\"blue\",\"blue\",\"blue\",\"blue\",\"blue\",\"blue\",\"blue\",\"blue\",\"blue\",\"blue\",\"blue\",\"blue\",\"blue\",\"blue\",\"blue\",\"blue\",\"blue\",\"blue\",\"blue\",\"blue\",\"blue\",\"blue\",\"blue\",\"blue\",\"blue\",\"blue\",\"blue\",\"blue\",\"blue\",\"blue\",\"blue\",\"blue\",\"blue\",\"blue\",\"blue\",\"blue\",\"blue\",\"blue\",\"blue\",\"blue\",\"blue\",\"blue\",\"blue\",\"blue\",\"blue\",\"blue\",\"blue\",\"blue\",\"blue\",\"blue\",\"blue\",\"blue\",\"blue\",\"blue\",\"blue\",\"blue\",\"blue\",\"blue\",\"blue\",\"blue\",\"blue\",\"blue\",\"blue\",\"blue\",\"blue\",\"blue\",\"blue\",\"blue\",\"blue\",\"blue\",\"blue\",\"blue\",\"blue\",\"blue\",\"blue\",\"blue\",\"blue\",\"blue\",\"blue\",\"blue\",\"blue\",\"blue\",\"blue\",\"blue\",\"blue\",\"blue\",\"blue\",\"blue\",\"blue\",\"blue\",\"blue\",\"blue\",\"blue\",\"blue\",\"blue\",\"blue\",\"blue\",\"blue\",\"blue\",\"blue\",\"blue\",\"blue\",\"blue\",\"blue\",\"blue\",\"blue\",\"blue\",\"blue\",\"blue\",\"blue\",\"blue\",\"blue\",\"blue\",\"blue\",\"blue\",\"blue\",\"blue\",\"blue\",\"blue\",\"blue\",\"blue\",\"blue\",\"blue\",\"blue\",\"blue\",\"blue\",\"blue\",\"blue\",\"blue\",\"blue\",\"blue\",\"blue\",\"blue\",\"blue\",\"blue\",\"blue\",\"blue\",\"blue\",\"blue\",\"blue\",\"blue\",\"blue\",\"blue\",\"blue\",\"blue\",\"blue\",\"blue\",\"blue\",\"blue\",\"blue\",\"blue\",\"blue\",\"blue\",\"blue\",\"blue\",\"blue\",\"blue\",\"blue\",\"blue\",\"blue\",\"blue\",\"blue\",\"blue\",\"blue\",\"blue\",\"blue\",\"blue\",\"blue\",\"blue\",\"blue\",\"blue\",\"blue\",\"blue\",\"blue\",\"blue\",\"blue\",\"blue\",\"blue\",\"blue\",\"blue\",\"blue\",\"blue\",\"blue\",\"blue\",\"blue\",\"blue\",\"blue\",\"blue\",\"blue\",\"blue\",\"blue\",\"blue\",\"blue\",\"blue\",\"blue\",\"blue\",\"blue\",\"blue\",\"blue\",\"blue\",\"blue\",\"blue\",\"blue\",\"blue\",\"blue\",\"blue\",\"blue\",\"blue\",\"blue\",\"blue\",\"blue\",\"blue\",\"blue\",\"blue\",\"blue\",\"blue\",\"blue\",\"blue\",\"blue\",\"blue\",\"blue\",\"blue\",\"blue\",\"blue\",\"blue\",\"blue\",\"blue\",\"blue\",\"blue\",\"blue\",\"blue\",\"blue\",\"blue\",\"blue\",\"blue\",\"blue\",\"blue\",\"blue\",\"blue\",\"blue\",\"blue\",\"blue\",\"blue\",\"blue\",\"blue\",\"blue\",\"blue\",\"blue\",\"blue\",\"blue\",\"blue\",\"blue\",\"blue\",\"blue\",\"blue\",\"blue\",\"blue\",\"blue\",\"blue\",\"blue\",\"blue\",\"blue\",\"blue\",\"blue\",\"blue\",\"blue\",\"blue\",\"blue\",\"blue\",\"blue\",\"blue\",\"blue\",\"blue\",\"blue\",\"blue\",\"blue\",\"blue\",\"blue\",\"blue\",\"blue\",\"blue\",\"blue\",\"blue\",\"blue\",\"blue\",\"blue\",\"blue\",\"blue\",\"blue\",\"blue\",\"blue\",\"blue\",\"blue\",\"blue\",\"blue\",\"blue\",\"blue\",\"blue\",\"blue\",\"blue\",\"blue\",\"blue\",\"blue\",\"blue\",\"blue\",\"blue\",\"blue\",\"blue\",\"blue\",\"blue\",\"blue\",\"blue\",\"blue\",\"blue\",\"blue\",\"blue\",\"blue\",\"blue\",\"blue\",\"blue\",\"blue\",\"blue\",\"blue\",\"blue\",\"blue\",\"blue\",\"blue\",\"blue\",\"blue\",\"blue\",\"blue\",\"blue\",\"blue\",\"blue\",\"blue\",\"blue\",\"blue\",\"blue\",\"blue\",\"blue\",\"blue\",\"blue\",\"blue\",\"blue\",\"blue\",\"blue\",\"blue\",\"blue\",\"blue\",\"blue\",\"blue\",\"blue\",\"blue\",\"blue\",\"blue\",\"blue\",\"blue\",\"blue\",\"blue\",\"blue\",\"blue\",\"blue\",\"blue\",\"blue\",\"blue\",\"blue\",\"blue\",\"blue\",\"blue\",\"blue\",\"blue\",\"blue\",\"blue\",\"blue\",\"blue\",\"blue\",\"blue\",\"blue\",\"blue\",\"blue\",\"blue\",\"blue\",\"blue\",\"blue\",\"blue\",\"blue\",\"blue\",\"blue\",\"blue\",\"blue\",\"blue\",\"blue\",\"blue\",\"blue\",\"blue\",\"blue\",\"blue\",\"blue\",\"blue\",\"blue\",\"blue\",\"blue\",\"blue\",\"blue\",\"blue\",\"blue\",\"blue\",\"blue\",\"blue\",\"blue\",\"blue\",\"blue\",\"blue\",\"blue\",\"blue\",\"blue\",\"blue\",\"blue\",\"blue\",\"blue\",\"blue\",\"blue\",\"blue\",\"blue\",\"blue\",\"blue\",\"blue\",\"blue\",\"blue\",\"blue\",\"blue\",\"blue\",\"blue\",\"blue\",\"blue\",\"blue\",\"blue\",\"blue\",\"blue\",\"blue\",\"blue\",\"blue\",\"blue\",\"blue\",\"blue\",\"blue\",\"blue\",\"blue\",\"blue\",\"blue\",\"blue\",\"blue\",\"blue\",\"blue\",\"blue\",\"blue\",\"blue\",\"blue\",\"blue\",\"blue\",\"blue\",\"blue\",\"blue\",\"blue\",\"blue\",\"blue\",\"blue\",\"blue\",\"blue\",\"blue\",\"blue\",\"blue\",\"blue\",\"blue\",\"blue\",\"blue\",\"blue\",\"blue\",\"blue\",\"blue\",\"blue\",\"blue\",\"blue\",\"blue\",\"blue\",\"blue\",\"blue\",\"blue\",\"blue\",\"blue\",\"blue\",\"blue\",\"blue\",\"blue\",\"blue\",\"blue\",\"blue\",\"blue\",\"blue\",\"blue\",\"blue\",\"blue\",\"blue\",\"blue\",\"blue\",\"blue\",\"blue\",\"blue\",\"blue\",\"blue\",\"blue\",\"blue\",\"blue\",\"blue\",\"blue\",\"blue\",\"blue\",\"blue\",\"blue\",\"blue\",\"blue\",\"blue\",\"blue\",\"blue\",\"blue\",\"blue\",\"blue\",\"blue\",\"blue\",\"blue\",\"blue\",\"blue\",\"blue\",\"blue\",\"blue\",\"blue\",\"blue\",\"blue\",\"blue\",\"blue\",\"blue\",\"blue\",\"blue\",\"blue\",\"blue\",\"blue\",\"blue\",\"blue\",\"blue\",\"blue\",\"blue\",\"blue\",\"blue\",\"blue\",\"blue\",\"blue\",\"blue\",\"blue\",\"blue\",\"blue\",\"blue\",\"blue\",\"blue\",\"blue\",\"blue\",\"blue\",\"blue\",\"blue\",\"blue\",\"blue\",\"blue\",\"blue\",\"blue\",\"blue\",\"blue\",\"blue\",\"blue\",\"blue\",\"blue\",\"blue\",\"blue\",\"blue\",\"blue\",\"blue\",\"blue\",\"blue\",\"blue\",\"blue\",\"blue\",\"blue\",\"blue\",\"blue\",\"blue\",\"blue\",\"blue\",\"blue\",\"blue\",\"blue\",\"blue\",\"blue\",\"blue\",\"blue\",\"blue\",\"blue\",\"blue\",\"blue\",\"blue\",\"blue\",\"blue\",\"blue\",\"blue\",\"blue\",\"blue\",\"blue\",\"blue\",\"blue\",\"blue\",\"blue\",\"blue\",\"blue\",\"blue\",\"blue\",\"blue\",\"blue\",\"blue\",\"blue\",\"blue\",\"blue\",\"blue\",\"blue\",\"blue\",\"blue\",\"blue\",\"blue\",\"blue\",\"blue\",\"blue\",\"blue\",\"blue\",\"blue\",\"blue\",\"blue\",\"blue\",\"blue\",\"blue\",\"blue\",\"blue\",\"blue\",\"blue\",\"blue\",\"blue\",\"blue\",\"blue\",\"blue\",\"blue\",\"blue\",\"blue\",\"blue\",\"blue\",\"blue\",\"blue\",\"blue\",\"blue\",\"blue\",\"blue\",\"blue\",\"blue\",\"blue\",\"blue\",\"blue\",\"blue\",\"blue\",\"blue\",\"blue\",\"blue\",\"blue\",\"blue\",\"blue\",\"blue\",\"blue\",\"blue\",\"blue\",\"blue\",\"blue\",\"blue\",\"blue\",\"blue\",\"blue\",\"blue\",\"blue\",\"blue\",\"blue\",\"blue\",\"blue\",\"blue\",\"blue\",\"blue\",\"blue\",\"blue\",\"blue\",\"blue\",\"blue\",\"blue\",\"blue\",\"blue\",\"blue\",\"blue\",\"blue\",\"blue\",\"blue\",\"blue\",\"blue\",\"blue\",\"blue\",\"blue\",\"blue\",\"blue\",\"blue\",\"blue\",\"blue\",\"blue\",\"blue\",\"blue\",\"blue\",\"blue\",\"blue\",\"blue\",\"blue\",\"blue\",\"blue\",\"blue\",\"blue\",\"blue\",\"blue\",\"blue\",\"blue\",\"blue\",\"blue\",\"blue\",\"blue\",\"blue\",\"blue\",\"blue\",\"blue\",\"blue\",\"blue\",\"blue\",\"blue\",\"blue\",\"blue\",\"blue\",\"blue\",\"blue\",\"blue\",\"blue\",\"blue\",\"blue\",\"blue\",\"blue\",\"blue\",\"blue\",\"blue\",\"blue\",\"blue\",\"blue\",\"blue\",\"blue\",\"blue\",\"blue\",\"blue\",\"blue\",\"blue\",\"blue\",\"blue\",\"blue\",\"blue\",\"blue\",\"blue\",\"blue\",\"blue\",\"blue\",\"blue\",\"blue\",\"blue\",\"blue\",\"blue\",\"blue\",\"blue\",\"blue\",\"blue\",\"blue\",\"blue\",\"blue\",\"blue\",\"blue\",\"blue\",\"blue\",\"blue\",\"blue\",\"blue\",\"blue\",\"blue\",\"blue\",\"blue\",\"blue\",\"blue\",\"blue\",\"blue\",\"blue\",\"blue\",\"blue\",\"blue\",\"blue\",\"blue\",\"blue\",\"blue\",\"blue\",\"blue\",\"blue\",\"blue\",\"blue\",\"blue\",\"blue\",\"blue\",\"blue\",\"blue\",\"blue\",\"blue\",\"blue\",\"blue\",\"blue\",\"blue\",\"blue\",\"blue\",\"blue\",\"blue\",\"blue\",\"blue\",\"blue\",\"blue\",\"blue\",\"blue\",\"blue\",\"blue\",\"blue\",\"blue\",\"blue\",\"blue\",\"blue\",\"blue\",\"blue\",\"blue\",\"blue\",\"blue\",\"blue\",\"blue\",\"blue\",\"blue\",\"blue\",\"blue\",\"blue\",\"blue\",\"blue\",\"blue\",\"blue\",\"blue\",\"blue\",\"blue\",\"blue\",\"blue\",\"blue\",\"blue\",\"blue\",\"blue\",\"blue\",\"blue\",\"blue\",\"blue\",\"blue\",\"blue\",\"blue\",\"blue\",\"blue\",\"blue\",\"blue\",\"blue\",\"blue\",\"blue\",\"blue\",\"blue\",\"blue\",\"blue\",\"blue\",\"blue\",\"blue\",\"blue\",\"blue\",\"blue\",\"blue\",\"blue\",\"blue\",\"blue\",\"blue\",\"blue\",\"blue\",\"blue\",\"blue\",\"blue\",\"blue\",\"blue\",\"blue\",\"blue\",\"blue\",\"blue\",\"blue\",\"blue\",\"blue\",\"blue\",\"blue\",\"blue\",\"blue\",\"blue\",\"blue\",\"blue\",\"blue\",\"blue\",\"blue\",\"blue\",\"blue\",\"blue\",\"blue\",\"blue\",\"blue\",\"blue\",\"blue\",\"blue\",\"blue\",\"blue\",\"blue\",\"blue\",\"blue\",\"blue\",\"blue\",\"blue\",\"blue\",\"blue\",\"blue\",\"blue\",\"blue\",\"blue\",\"blue\",\"blue\",\"blue\",\"blue\",\"blue\",\"blue\",\"blue\",\"blue\",\"blue\",\"blue\",\"blue\",\"blue\",\"blue\",\"blue\",\"blue\",\"blue\",\"blue\",\"blue\",\"blue\",\"blue\",\"blue\",\"blue\",\"blue\",\"blue\",\"blue\",\"blue\",\"blue\",\"blue\",\"blue\",\"blue\",\"blue\",\"blue\",\"blue\",\"blue\",\"blue\",\"blue\",\"blue\",\"blue\",\"blue\",\"blue\",\"blue\",\"blue\",\"blue\",\"blue\",\"blue\",\"blue\",\"blue\",\"blue\",\"blue\",\"blue\",\"blue\",\"blue\",\"blue\",\"blue\",\"blue\",\"blue\",\"blue\",\"blue\",\"blue\",\"blue\",\"blue\",\"blue\",\"blue\",\"blue\",\"blue\",\"blue\",\"blue\",\"blue\",\"blue\",\"blue\",\"blue\",\"blue\",\"blue\",\"blue\",\"blue\",\"blue\",\"blue\",\"blue\",\"blue\",\"blue\",\"blue\",\"blue\",\"blue\",\"blue\",\"blue\",\"blue\",\"blue\",\"blue\",\"blue\",\"blue\",\"blue\",\"blue\",\"blue\",\"blue\",\"blue\",\"blue\",\"blue\",\"blue\",\"blue\",\"blue\",\"blue\",\"blue\",\"blue\",\"blue\",\"blue\",\"blue\",\"blue\",\"blue\",\"blue\",\"blue\",\"blue\",\"blue\",\"blue\",\"blue\",\"blue\",\"blue\",\"blue\",\"blue\",\"blue\",\"blue\",\"blue\",\"blue\",\"blue\",\"blue\",\"blue\",\"blue\",\"blue\",\"blue\",\"blue\",\"blue\",\"blue\",\"blue\",\"blue\",\"blue\",\"blue\",\"blue\",\"blue\",\"blue\",\"blue\",\"blue\",\"blue\",\"blue\",\"blue\",\"blue\",\"blue\",\"blue\",\"blue\",\"blue\",\"blue\",\"blue\",\"blue\",\"blue\",\"blue\",\"blue\",\"blue\",\"blue\",\"blue\",\"blue\",\"blue\",\"blue\",\"blue\",\"blue\",\"blue\",\"blue\",\"blue\",\"blue\",\"blue\",\"blue\",\"blue\",\"blue\",\"blue\",\"blue\",\"blue\",\"blue\",\"blue\",\"blue\",\"blue\",\"blue\",\"blue\",\"blue\",\"blue\",\"blue\",\"blue\",\"blue\",\"blue\",\"blue\",\"blue\",\"blue\",\"blue\",\"blue\",\"blue\",\"blue\",\"blue\",\"blue\",\"blue\",\"blue\",\"blue\",\"blue\",\"blue\",\"blue\",\"blue\",\"blue\",\"blue\",\"blue\",\"blue\",\"blue\",\"blue\",\"blue\",\"blue\",\"blue\",\"blue\",\"blue\",\"blue\",\"blue\",\"blue\",\"blue\",\"blue\",\"blue\",\"blue\",\"blue\",\"blue\",\"blue\",\"blue\",\"blue\",\"blue\",\"blue\",\"blue\",\"blue\",\"blue\",\"blue\",\"blue\",\"blue\",\"blue\",\"blue\",\"blue\",\"blue\",\"blue\",\"blue\",\"blue\",\"blue\",\"blue\",\"blue\",\"blue\",\"blue\",\"blue\",\"blue\",\"blue\",\"blue\",\"blue\",\"blue\",\"blue\",\"blue\",\"blue\",\"blue\",\"blue\",\"blue\",\"blue\",\"blue\",\"blue\",\"blue\",\"blue\",\"blue\",\"blue\",\"blue\",\"blue\",\"blue\",\"blue\",\"blue\",\"blue\",\"blue\",\"blue\",\"blue\",\"blue\",\"blue\",\"blue\",\"blue\",\"blue\",\"blue\",\"blue\",\"blue\",\"blue\",\"blue\",\"blue\",\"blue\",\"blue\",\"blue\",\"blue\",\"blue\",\"blue\",\"blue\",\"blue\",\"blue\",\"blue\",\"blue\",\"blue\",\"blue\",\"blue\",\"blue\",\"blue\",\"blue\",\"blue\",\"blue\",\"blue\",\"blue\",\"blue\",\"blue\",\"blue\",\"blue\",\"blue\",\"blue\",\"blue\",\"blue\",\"blue\",\"blue\",\"blue\",\"blue\",\"blue\",\"blue\",\"blue\",\"blue\",\"blue\",\"blue\",\"blue\",\"blue\",\"blue\",\"blue\",\"blue\",\"blue\",\"blue\",\"blue\",\"blue\",\"blue\",\"blue\",\"blue\",\"blue\",\"blue\",\"blue\",\"blue\",\"blue\",\"blue\",\"blue\",\"blue\",\"blue\",\"blue\",\"blue\",\"blue\",\"blue\",\"blue\",\"blue\",\"blue\",\"blue\",\"blue\",\"blue\",\"blue\",\"blue\",\"blue\",\"blue\",\"blue\",\"blue\",\"blue\",\"blue\",\"blue\",\"blue\",\"blue\",\"blue\",\"blue\",\"blue\",\"blue\",\"blue\",\"blue\",\"blue\",\"blue\",\"blue\",\"blue\",\"blue\",\"blue\",\"blue\",\"blue\",\"blue\",\"blue\",\"blue\",\"blue\",\"blue\",\"blue\",\"blue\",\"blue\",\"blue\",\"blue\",\"blue\",\"blue\",\"blue\",\"blue\",\"blue\",\"blue\",\"blue\",\"blue\",\"blue\",\"blue\",\"blue\",\"blue\",\"blue\",\"blue\",\"blue\",\"blue\",\"blue\",\"blue\",\"blue\",\"blue\",\"blue\",\"blue\",\"blue\",\"blue\",\"blue\",\"blue\",\"blue\",\"blue\",\"blue\",\"blue\",\"blue\",\"blue\",\"blue\",\"blue\",\"blue\",\"blue\",\"blue\",\"blue\",\"blue\",\"blue\",\"blue\",\"blue\",\"blue\",\"blue\",\"blue\",\"blue\",\"blue\",\"blue\",\"blue\",\"blue\",\"blue\",\"blue\",\"blue\",\"blue\",\"blue\",\"blue\",\"blue\",\"blue\",\"blue\",\"blue\",\"blue\",\"blue\",\"blue\",\"blue\",\"blue\",\"blue\",\"blue\",\"blue\",\"blue\",\"blue\",\"blue\",\"blue\",\"blue\",\"blue\",\"blue\",\"blue\",\"blue\",\"blue\",\"blue\",\"blue\",\"blue\",\"blue\",\"blue\",\"blue\",\"blue\",\"blue\",\"blue\",\"blue\",\"blue\",\"blue\",\"blue\",\"blue\",\"blue\",\"blue\",\"blue\",\"blue\",\"blue\",\"blue\",\"blue\",\"blue\",\"blue\",\"blue\",\"blue\",\"blue\",\"blue\",\"blue\",\"blue\",\"blue\",\"blue\",\"blue\",\"blue\",\"blue\",\"blue\",\"blue\",\"blue\",\"blue\",\"blue\",\"blue\"]],[\"token\",[\"verified\",\"2gb\",\"illinois\",\"jazz\",\"checking\",\"telescope\",\"seasons\",\"astrologer\",\"contribution\",\"homemade\",\"heroes\",\"warcraft\",\"kumar\",\"tester\",\"politically\",\"conquer\",\"columbia\",\"quiet\",\"repeat\",\"kapil\",\"involve\",\"mckinsey\",\"switched\",\"att\",\"instance\",\"innocent\",\"portuguese\",\"subscribers\",\"cabinet\",\"terror\",\"85\",\"rotation\",\"shirts\",\"drawn\",\"bi\",\"aspergers\",\"inspiration\",\"beats\",\"\\u00a3\",\"approximately\",\"asset\",\"empathy\",\"rooting\",\"ia\",\"dandruff\",\"slab\",\"operator\",\"horrible\",\"dominant\",\"ocd\",\"spacetime\",\"blow\",\"installing\",\"learnt\",\"separation\",\"institution\",\"temples\",\"hons\",\"pound\",\"removing\",\"unemployment\",\"greenlit\",\"audit\",\"supplement\",\"roller\",\"dota\",\"tiny\",\"equally\",\"braces\",\"aggressive\",\"corn\",\"camps\",\"additional\",\"consent\",\"granted\",\"welfare\",\"myths\",\"stations\",\"timeline\",\"psychologist\",\"nagpur\",\"herself\",\"cooper\",\"exgirlfriend\",\"intercourse\",\"flip\",\"hurts\",\"lpa\",\"nerve\",\"tvs\",\"halloween\",\"screenshot\",\"biomedical\",\"covered\",\"milky\",\"onsite\",\"aside\",\"meaningful\",\"stretch\",\"joker\",\"encounter\",\"tone\",\"founders\",\"talked\",\"respectively\",\"downloads\",\"cocaine\",\"toxic\",\"sword\",\"fuck\",\"trainer\",\"partition\",\"boxing\",\"grid\",\"practicing\",\"menu\",\"cms\",\"indore\",\"ate\",\"volunteer\",\"misconceptions\",\"pics\",\"flies\",\"instantly\",\"trans\",\"friday\",\"sociopaths\",\"ctc\",\"hoax\",\"detailed\",\"sizes\",\"rejection\",\"limitations\",\"bharat\",\"kissing\",\"renewable\",\"oriented\",\"countrys\",\"dumps\",\"spiders\",\"technological\",\"advertisement\",\"headache\",\"zodiac\",\"accommodation\",\"venus\",\"calcium\",\"passenger\",\"falls\",\"overnight\",\"pickup\",\"gary\",\"transportation\",\"odds\",\"jupiter\",\"purchasing\",\"fluently\",\"flu\",\"photons\",\"conductor\",\"ohio\",\"balaji\",\"mcdonalds\",\"betting\",\"irrational\",\"sachin\",\"deactivate\",\"estimate\",\"hairs\",\"fluent\",\"errors\",\"remaining\",\"marriages\",\"medieval\",\"charles\",\"spider\",\"oxford\",\"gita\",\"races\",\"liquor\",\"poland\",\"lease\",\"co2\",\"selenium\",\"attempts\",\"crystal\",\"manaphy\",\"knight\",\"collapsed\",\"wheels\",\"behaviour\",\"bitcoins\",\"parliament\",\"himher\",\"handsome\",\"thousands\",\"caring\",\"kings\",\"lucky\",\"workplace\",\"condom\",\"intuitive\",\"chronic\",\"eyesight\",\"simulation\",\"prank\",\"quickest\",\"concert\",\"popularity\",\"connections\",\"disorders\",\"scripting\",\"appearance\",\"js\",\"depth\",\"cheque\",\"longterm\",\"documentaries\",\"dioxide\",\"bright\",\"info\",\"diseases\",\"appeal\",\"snap\",\"smoked\",\"singers\",\"boil\",\"probably\",\"temperatures\",\"appearing\",\"olive\",\"ntse\",\"telecom\",\"brief\",\"discrimination\",\"ethnic\",\"cache\",\"passionate\",\"shoulder\",\"assault\",\"marshmallow\",\"momentum\",\"yr\",\"migrate\",\"retire\",\"cet\",\"canvas\",\"vietnamese\",\"institutions\",\"meter\",\"roots\",\"integer\",\"imported\",\"ants\",\"lyft\",\"piercing\",\"il\",\"poop\",\"organisms\",\"ve\",\"entropy\",\"calm\",\"saddest\",\"toward\",\"myth\",\"sight\",\"filling\",\"hdmi\",\"satisfied\",\"transactions\",\"pharmacy\",\"nursing\",\"correlation\",\"regression\",\"awake\",\"md\",\"nri\",\"recommendations\",\"bin\",\"finland\",\"multi\",\"voted\",\"discovery\",\"edward\",\"touching\",\"immigrant\",\"geometry\",\"indicate\",\"ourselves\",\"texting\",\"seek\",\"expecting\",\"dj\",\"brake\",\"helicopter\",\"blonde\",\"triple\",\"ladies\",\"vivekananda\",\"switching\",\"prostitution\",\"banana\",\"magazines\",\"shippuden\",\"lucknow\",\"2019\",\"failing\",\"elizabeth\",\"irish\",\"ebook\",\"temporary\",\"governor\",\"wasting\",\"weekends\",\"cpt\",\"wax\",\"labor\",\"instruments\",\"instrumentation\",\"hates\",\"hip\",\"arnab\",\"bubble\",\"employers\",\"aadhaar\",\"boyfriends\",\"jake\",\"explained\",\"yesterday\",\"beta\",\"extrovert\",\"andhra\",\"micromax\",\"vertical\",\"lay\",\"nonprofit\",\"dubbed\",\"typing\",\"automotive\",\"thomas\",\"procedures\",\"priority\",\"funded\",\"arabs\",\"siblings\",\"guinea\",\"missile\",\"luck\",\"strategic\",\"defend\",\"module\",\"tuition\",\"acids\",\"controller\",\"committee\",\"housing\",\"integral\",\"peaceful\",\"refugees\",\"prescription\",\"interns\",\"supported\",\"womans\",\"dentist\",\"wives\",\"village\",\"affecting\",\"lte\",\"beaches\",\"austin\",\"substance\",\"engagement\",\"trainee\",\"measures\",\"trailer\",\"purchased\",\"15000\",\"uttar\",\"glue\",\"dtu\",\"medal\",\"photon\",\"engg\",\"violin\",\"column\",\"somehow\",\"rotate\",\"3000\",\"virat\",\"forgotten\",\"fingers\",\"slim\",\"arrest\",\"covalent\",\"ncert\",\"kernel\",\"da\",\"alarm\",\"ngo\",\"4gb\",\"productivity\",\"planned\",\"district\",\"berlin\",\"lists\",\"leads\",\"slang\",\"defence\",\"aspiring\",\"56\",\"enemy\",\"farming\",\"muller\",\"pays\",\"liver\",\"membrane\",\"secretly\",\"plug\",\"gum\",\"eclipse\",\"chewing\",\"labs\",\"zombie\",\"authority\",\"males\",\"argentina\",\"tasks\",\"fell\",\"nails\",\"palestine\",\"tanks\",\"identical\",\"deck\",\"qualification\",\"leadership\",\"kohli\",\"pronunciation\",\"hello\",\"violent\",\"sabha\",\"respiration\",\"transform\",\"warranty\",\"faculty\",\"adolf\",\"expenses\",\"jersey\",\"mercury\",\"whiskey\",\"tackle\",\"tweet\",\"blame\",\"cruise\",\"mahindra\",\"discharge\",\"reduced\",\"vodka\",\"mahatma\",\"bass\",\"compete\",\"stains\",\"pill\",\"swim\",\"ali\",\"gf\",\"ford\",\"prince\",\"sweat\",\"performing\",\"limits\",\"leonardo\",\"cow\",\"resolve\",\"matters\",\"pharmaceutical\",\"ray\",\"remotely\",\"pf\",\"clinical\",\"bpo\",\"homeless\",\"husbands\",\"rising\",\"newtons\",\"outcome\",\"derivative\",\"alpha\",\"grown\",\"capitalism\",\"astronaut\",\"hybrid\",\"palm\",\"teens\",\"hits\",\"airplanes\",\"none\",\"admin\",\"applicable\",\"amcat\",\"spam\",\"neutrality\",\"pixel\",\"festival\",\"faces\",\"molar\",\"snakes\",\"sip\",\"kik\",\"farm\",\"ltd\",\"votes\",\"publishing\",\"comfort\",\"frontend\",\"spin\",\"diagnosed\",\"buildings\",\"\\u00b0\",\"cashless\",\"addictive\",\"extinct\",\"ugc\",\"coke\",\"llb\",\"phrases\",\"struggle\",\"drives\",\"fiber\",\"grocery\",\"achieved\",\"penny\",\"bath\",\"allies\",\"uninstall\",\"ny\",\"appears\",\"effort\",\"satellites\",\"confirmed\",\"loneliness\",\"illuminati\",\"uri\",\"lucid\",\"preferably\",\"neither\",\"\\u221a\",\"pacific\",\"americas\",\"bs\",\"graduated\",\"bills\",\"tube\",\"germans\",\"assume\",\"cleared\",\"mate\",\"divide\",\"versions\",\"fallen\",\"journey\",\"anthem\",\"certificates\",\"looked\",\"sponsor\",\"useless\",\"dependent\",\"invite\",\"guru\",\"keyword\",\"aipmt\",\"clone\",\"kgs\",\"chip\",\"origins\",\"wide\",\"motivational\",\"elite\",\"wanna\",\"unity\",\"cough\",\"connecting\",\"mystery\",\"kim\",\"syrian\",\"voldemort\",\"responsibilities\",\"molecules\",\"boobs\",\"holidays\",\"tutorial\",\"circumstances\",\"fiitjee\",\"islands\",\"bypass\",\"slowly\",\"mixture\",\"aluminum\",\"salesforce\",\"twin\",\"iot\",\"remedy\",\"sheets\",\"pole\",\"hated\",\"females\",\"protected\",\"irs\",\"insecure\",\"entering\",\"neuroscience\",\"offices\",\"delta\",\"suggestion\",\"snapdeal\",\"backstory\",\"periodic\",\"cancelled\",\"mans\",\"complicated\",\"bitsat\",\"pleasure\",\"loop\",\"dropbox\",\"selfish\",\"nude\",\"20000\",\"voter\",\"variables\",\"victory\",\"closest\",\"compensation\",\"extended\",\"locations\",\"cracked\",\"perks\",\"ended\",\"exit\",\"awareness\",\"pakistanis\",\"ebooks\",\"bull\",\"unblock\",\"100000\",\"entrepreneurship\",\"infrastructure\",\"scotland\",\"guest\",\"attacked\",\"hurting\",\"lion\",\"reject\",\"purposes\",\"knife\",\"thai\",\"ipl\",\"knee\",\"accepting\",\"spent\",\"punjabi\",\"tab\",\"quoras\",\"caffeine\",\"athletes\",\"ink\",\"cooked\",\"improving\",\"invaded\",\"allah\",\"thermodynamics\",\"mortgage\",\"firsttime\",\"achievements\",\"issued\",\"breath\",\"award\",\"llc\",\"legends\",\"mood\",\"influenced\",\"proteins\",\"holy\",\"performed\",\"pee\",\"blocks\",\"molecule\",\"interests\",\"imei\",\"requires\",\"cisco\",\"moves\",\"marrying\",\"mca\",\"perfectly\",\"iisc\",\"corporation\",\"shiva\",\"viruses\",\"difficulty\",\"50000\",\"volte\",\"shampoo\",\"secular\",\"transplant\",\"ghz\",\"ahead\",\"crew\",\"interact\",\"depend\",\"hawaii\",\"hiv\",\"evening\",\"vegetable\",\"revenge\",\"suppose\",\"busy\",\"label\",\"rogue\",\"rational\",\"hillstation\",\"brains\",\"urdu\",\"imagine\",\"salaries\",\"survey\",\"g4\",\"butt\",\"manufacturers\",\"saas\",\"residency\",\"recommendation\",\"purple\",\"fault\",\"aadhar\",\"aging\",\"bhopal\",\"conducted\",\"loses\",\"infection\",\"forest\",\"impacts\",\"collection\",\"fridge\",\"diamond\",\"mis\",\"recorded\",\"march\",\"conditioner\",\"signature\",\"listed\",\"branches\",\"manchester\",\"wanting\",\"perception\",\"absolutely\",\"servers\",\"soluble\",\"swami\",\"lumia\",\"directors\",\"52\",\"2008\",\"gaining\",\"stereotypes\",\"homes\",\"vegas\",\"jam\",\"behave\",\"relatively\",\"forum\",\"ib\",\"earphones\",\"facilities\",\"april\",\"finally\",\"tail\",\"capacitor\",\"tiger\",\"deaf\",\"deliver\",\"django\",\"expand\",\"skip\",\"nearly\",\"maybe\",\"task\",\"gateway\",\"strangest\",\"abstract\",\"adding\",\"suck\",\"tim\",\"printed\",\"sigma\",\"immigrate\",\"decline\",\"arrested\",\"95\",\"narcissistic\",\"freelancing\",\"patterns\",\"expired\",\"casual\",\"tablets\",\"patients\",\"lean\",\"pieces\",\"laymans\",\"whatever\",\"polish\",\"lemon\",\"abortion\",\"i3\",\"theorem\",\"h\",\"compulsory\",\"helped\",\"sons\",\"feminism\",\"compiler\",\"tested\",\"enhance\",\"adhd\",\"manhattan\",\"iii\",\"nail\",\"eee\",\"deals\",\"excellent\",\"ipo\",\"folder\",\"sand\",\"continuous\",\"capable\",\"libraries\",\"aggregate\",\"64\",\"bsnl\",\"profiles\",\"spirit\",\"pulled\",\"owns\",\"deloitte\",\"therapist\",\"acts\",\"millions\",\"authors\",\"marathi\",\"dvd\",\"coconut\",\"swiss\",\"interaction\",\"ncr\",\"kannada\",\"smallest\",\"advisable\",\"smartest\",\"sorry\",\"normally\",\"ends\",\"rome\",\"spectrum\",\"cousin\",\"75\",\"suzuki\",\"nights\",\"cap\",\"enable\",\"counselling\",\"proxy\",\"margin\",\"shops\",\"hackers\",\"tatkal\",\"opened\",\"cinema\",\"consumption\",\"coal\",\"silent\",\"choosing\",\"introduction\",\"electromagnetic\",\"hcl\",\"complaint\",\"puppies\",\"vc\",\"symbols\",\"lenses\",\"username\",\"arrow\",\"adopted\",\"affects\",\"sudden\",\"pcm\",\"gel\",\"affair\",\"pinterest\",\"statements\",\"supplements\",\"justified\",\"turns\",\"santa\",\"shoe\",\"trek\",\"headphone\",\"girlfriends\",\"verizon\",\"rocket\",\"conference\",\"ego\",\"srm\",\"afghanistan\",\"nucleus\",\"generated\",\"chinas\",\"ww1\",\"consultancy\",\"socially\",\"allen\",\"berkeley\",\"missed\",\"crying\",\"introduced\",\"ps3\",\"flour\",\"brought\",\"elder\",\"minecraft\",\"9th\",\"freelancer\",\"circles\",\"scars\",\"entertainment\",\"turbine\",\"deeply\",\"rom\",\"evolved\",\"nato\",\"strengths\",\"ide\",\"tweets\",\"scholarships\",\"mentor\",\"collect\",\"hdfc\",\"mandarin\",\"solo\",\"terrible\",\"influential\",\"professionals\",\"65\",\"recognition\",\"nvidia\",\"cia\",\"designs\",\"10k\",\"creation\",\"tom\",\"rated\",\"introverts\",\"boiling\",\"communism\",\"treaty\",\"whereas\",\"thanks\",\"cigarette\",\"bengaluru\",\"oneplus\",\"reserve\",\"advertise\",\"nits\",\"helping\",\"bruce\",\"mp3\",\"severe\",\"proposal\",\"cultures\",\"tap\",\"animated\",\"planes\",\"hall\",\"cognitive\",\"supports\",\"keys\",\"gotten\",\"feedback\",\"recording\",\"proceed\",\"membership\",\"console\",\"overseas\",\"hows\",\"william\",\"billionaires\",\"updated\",\"pre\",\"organizations\",\"messi\",\"unexpected\",\"nitrogen\",\"hungry\",\"nigeria\",\"sync\",\"arduino\",\"gross\",\"outer\",\"searching\",\"workers\",\"outlook\",\"europeans\",\"founder\",\"lectures\",\"legitimate\",\"camp\",\"ordinary\",\"investments\",\"bone\",\"raising\",\"quite\",\"ages\",\"joint\",\"johnson\",\"destination\",\"concerned\",\"belief\",\"refrigerator\",\"implications\",\"manga\",\"mandatory\",\"obamas\",\"lawyers\",\"bedroom\",\"icon\",\"qualifications\",\"qa\",\"bikes\",\"boston\",\"holding\",\"session\",\"appointment\",\"weaknesses\",\"iphones\",\"motorcycle\",\"schizophrenia\",\"5th\",\"intellectual\",\"eaten\",\"attending\",\"medals\",\"adsense\",\"nda\",\"6th\",\"kali\",\"georgia\",\"wechat\",\"earlier\",\"drone\",\"truck\",\"horse\",\"merchant\",\"torque\",\"seed\",\"backend\",\"holmes\",\"graduating\",\"400\",\"bones\",\"sufficient\",\"participate\",\"rifle\",\"shock\",\"downloaded\",\"earthquake\",\"breasts\",\"secretary\",\"insert\",\"damaged\",\"massive\",\"standing\",\"remainder\",\"programme\",\"holocaust\",\"totally\",\"belt\",\"affairs\",\"nokia\",\"mechanism\",\"pin\",\"scan\",\"fought\",\"superpower\",\"poetry\",\"signals\",\"educated\",\"scariest\",\"trains\",\"closer\",\"weapon\",\"icici\",\"serial\",\"bicycle\",\"terminal\",\"finished\",\"stolen\",\"inspiring\",\"cuisine\",\"spark\",\"sounds\",\"pricing\",\"click\",\"underwear\",\"kidney\",\"bengal\",\"invention\",\"discount\",\"chase\",\"evaluate\",\"distributed\",\"themes\",\"amd\",\"stem\",\"st\",\"genre\",\"vegetables\",\"council\",\"bihar\",\"thick\",\"mouse\",\"worry\",\"newly\",\"updates\",\"candy\",\"prepaid\",\"wet\",\"rap\",\"motors\",\"implemented\",\"theoretical\",\"fabric\",\"mexican\",\"portfolio\",\"technique\",\"icse\",\"expansion\",\"evolutionary\",\"justify\",\"trick\",\"attached\",\"lightning\",\"pitch\",\"armed\",\"einstein\",\"conversion\",\"iitjee\",\"declared\",\"admit\",\"acquisition\",\"innovation\",\"runs\",\"wwe\",\"trial\",\"memories\",\"refuse\",\"netherlands\",\"committed\",\"fraud\",\"jailbreak\",\"settle\",\"badly\",\"approved\",\"eligibility\",\"trend\",\"increases\",\"comic\",\"quorans\",\"cellular\",\"matches\",\"receiving\",\"bmw\",\"vlsi\",\"signed\",\"lakes\",\"350\",\"communications\",\"pork\",\"joined\",\"anyway\",\"differentiate\",\"actresses\",\"29\",\"ethics\",\"premier\",\"hearing\",\"vehicles\",\"drama\",\"instant\",\"lips\",\"dates\",\"july\",\"holiday\",\"coach\",\"malayalam\",\"superior\",\"soviet\",\"plate\",\"throw\",\"worship\",\"bars\",\"sharma\",\"mothers\",\"integrated\",\"clubs\",\"bug\",\"melbourne\",\"co\",\"bisexual\",\"regions\",\"lesson\",\"heads\",\"reader\",\"snake\",\"qualify\",\"paul\",\"causing\",\"disappear\",\"era\",\"lets\",\"qualified\",\"spiritual\",\"wolf\",\"requirement\",\"journalism\",\"studied\",\"lowest\",\"vader\",\"coursera\",\"stark\",\"configuration\",\"verbal\",\"undergrad\",\"dimensions\",\"transition\",\"efficiently\",\"interstellar\",\"locked\",\"summary\",\"chandigarh\",\"ghosts\",\"included\",\"operate\",\"dimension\",\"mount\",\"noticed\",\"rating\",\"somewhere\",\"martin\",\"bra\",\"bird\",\"zuckerberg\",\"sensor\",\"audience\",\"dirty\",\"starbucks\",\"permission\",\"residential\",\"wholesale\",\"assets\",\"clearly\",\"km\",\"invade\",\"ipcc\",\"fb\",\"shell\",\"shave\",\"loud\",\"tip\",\"seeds\",\"sets\",\"polar\",\"although\",\"june\",\"judaism\",\"anti\",\"instrument\",\"seven\",\"shooting\",\"j\",\"portal\",\"tower\",\"github\",\"linked\",\"admitted\",\"punishment\",\"mid\",\"micro\",\"cured\",\"lifestyle\",\"nor\",\"upset\",\"challenge\",\"soap\",\"standards\",\"integration\",\"lottery\",\"lab\",\"williams\",\"odd\",\"soil\",\"sensitive\",\"route\",\"tattoos\",\"coin\",\"declare\",\"frame\",\"differential\",\"bowl\",\"softwares\",\"notifications\",\"maintenance\",\"inner\",\"apples\",\"converted\",\"recruiter\",\"bombay\",\"command\",\"posting\",\"controlled\",\"balls\",\"personally\",\"poker\",\"extract\",\"hired\",\"bugs\",\"providers\",\"loans\",\"calculator\",\"attractions\",\"torrents\",\"keywords\",\"profession\",\"blogging\",\"transport\",\"sue\",\"anonymously\",\"compounds\",\"robot\",\"buddhism\",\"sweet\",\"defense\",\"nobody\",\"uc\",\"defined\",\"division\",\"bags\",\"epic\",\"unhealthy\",\"craziest\",\"urban\",\"combination\",\"pair\",\"laugh\",\"cv\",\"usd\",\"launched\",\"usps\",\"visited\",\"nexus\",\"regularly\",\"brothers\",\"broker\",\"concentrate\",\"agreement\",\"nervous\",\"frozen\",\"detail\",\"sir\",\"situations\",\"borderline\",\"angularjs\",\"abusive\",\"tourism\",\"relate\",\"august\",\"communist\",\"accountant\",\"dumb\",\"arab\",\"b2b\",\"du\",\"thermal\",\"asians\",\"threat\",\"karma\",\"passive\",\"homosexuality\",\"putting\",\"quantitative\",\"relativity\",\"sanskrit\",\"opinions\",\"verify\",\"bear\",\"roll\",\"expanding\",\"teenage\",\"jeans\",\"providing\",\"shared\",\"extreme\",\"mi\",\"vr\",\"progress\",\"greece\",\"cpu\",\"ips\",\"merge\",\"reputation\",\"loving\",\"salman\",\"iss\",\"warm\",\"dental\",\"extension\",\"attraction\",\"fictional\",\"journal\",\"login\",\"secondary\",\"recognize\",\"southern\",\"ph\",\"lunch\",\"wallet\",\"ronaldo\",\"larger\",\"actions\",\"fathers\",\"adopt\",\"claims\",\"bottom\",\"therapy\",\"patient\",\"described\",\"virginity\",\"functional\",\"ionic\",\"chartered\",\"discover\",\"55\",\"21st\",\"biased\",\"mad\",\"northern\",\"onto\",\"liberals\",\"premium\",\"neutral\",\"detect\",\"diagram\",\"sperm\",\"ga\",\"bleach\",\"spread\",\"contributions\",\"activate\",\"prior\",\"safest\",\"holder\",\"360\",\"aim\",\"rental\",\"families\",\"everybody\",\"shut\",\"payments\",\"150\",\"cube\",\"vegan\",\"newspaper\",\"beef\",\"houses\",\"preferred\",\"simultaneously\",\"marked\",\"reactions\",\"emergency\",\"protection\",\"cab\",\"forex\",\"norway\",\"immigrants\",\"googles\",\"ssb\",\"wing\",\"yrs\",\"ensure\",\"spy\",\"reasoning\",\"strange\",\"forgive\",\"turkish\",\"tag\",\"ranking\",\"platforms\",\"fox\",\"existed\",\"walmart\",\"lazy\",\"ears\",\"clock\",\"beam\",\"rare\",\"bush\",\"2011\",\"stops\",\"batteries\",\"certified\",\"naked\",\"worldwide\",\"staying\",\"lifetime\",\"ted\",\"lake\",\"wealthy\",\"transit\",\"stephen\",\"rural\",\"versa\",\"pets\",\"commonly\",\"adults\",\"ultimate\",\"genius\",\"vinegar\",\"allows\",\"aid\",\"retirement\",\"airtel\",\"sciences\",\"mountain\",\"drinks\",\"tour\",\"wind\",\"seattle\",\"disabled\",\"bodies\",\"lesbian\",\"governments\",\"kinetic\",\"tumblr\",\"absolute\",\"author\",\"toilet\",\"whey\",\"sleepy\",\"molecular\",\"watches\",\"inventions\",\"rain\",\"34\",\"angular\",\"o\",\"dish\",\"however\",\"agents\",\"abs\",\"switzerland\",\"transformer\",\"clearing\",\"consciousness\",\"broadband\",\"uae\",\"automatic\",\"opposed\",\"geography\",\"astronauts\",\"decisions\",\"cement\",\"induction\",\"luxury\",\"upvotes\",\"politicians\",\"posted\",\"toefl\",\"kitchen\",\"noise\",\"radius\",\"dye\",\"miles\",\"risks\",\"scientifically\",\"mnc\",\"propose\",\"prepared\",\"iiit\",\"mention\",\"equipment\",\"darth\",\"january\",\"surname\",\"raised\",\"attitude\",\"gta\",\"david\",\"hike\",\"awkward\",\"proven\",\"productive\",\"lg\",\"filled\",\"atmosphere\",\"lee\",\"irctc\",\"addicted\",\"dynamic\",\"employment\",\"weekend\",\"replacement\",\"singing\",\"owners\",\"bipolar\",\"tomorrow\",\"poems\",\"default\",\"kvpy\",\"sauce\",\"competitors\",\"russians\",\"sample\",\"crimes\",\"hang\",\"inspired\",\"furniture\",\"throughout\",\"presence\",\"efficiency\",\"leg\",\"biological\",\"pilani\",\"conversations\",\"inspirational\",\"bachelor\",\"centers\",\"withdraw\",\"fundamental\",\"comparison\",\"november\",\"fifa\",\"penalty\",\"algebra\",\"joke\",\"htc\",\"pilots\",\"collapse\",\"texts\",\"vocabulary\",\"moved\",\"sc\",\"smile\",\"october\",\"dot\",\"genetic\",\"architect\",\"url\",\"51\",\"sore\",\"uniform\",\"re\",\"rails\",\"smaller\",\"marine\",\"terrorists\",\"nazi\",\"breast\",\"politician\",\"subtitles\",\"chosen\",\"egypt\",\"thin\",\"packages\",\"editor\",\"bands\",\"mythology\",\"reasonable\",\"permit\",\"acceptable\",\"seriously\",\"iraq\",\"fever\",\"visitor\",\"honest\",\"friction\",\"offering\",\"smarter\",\"ahmedabad\",\"replaced\",\"resolution\",\"burning\",\"bridge\",\"catholic\",\"calendar\",\"resident\",\"policies\",\"forced\",\"leading\",\"arm\",\"deserve\",\"context\",\"coolest\",\"arranged\",\"arizona\",\"comics\",\"harm\",\"democrats\",\"jail\",\"breed\",\"anywhere\",\"psu\",\"christ\",\"violence\",\"agriculture\",\"objective\",\"moments\",\"infinity\",\"supporting\",\"critical\",\"trees\",\"beyond\",\"bag\",\"vitamin\",\"assembly\",\"solved\",\"array\",\"perspective\",\"pas\",\"wwii\",\"skinny\",\"contains\",\"lift\",\"cleaning\",\"peter\",\"aap\",\"pimples\",\"initial\",\"lesserknown\",\"sights\",\"principles\",\"realize\",\"millionaire\",\"faux\",\"orbit\",\"desire\",\"hi\",\"prophet\",\"suits\",\"careers\",\"thinks\",\"quantity\",\"spots\",\"wage\",\"asleep\",\"sociology\",\"guard\",\"units\",\"structural\",\"operation\",\"pants\",\"w\",\"bulk\",\"possibly\",\"drunk\",\"fired\",\"accident\",\"inch\",\"bottle\",\"aerospace\",\"narcissist\",\"ux\",\"angeles\",\"wood\",\"index\",\"safely\",\"robotics\",\"edition\",\"metals\",\"practices\",\"scheme\",\"interior\",\"diabetes\",\"nobel\",\"youth\",\"lived\",\"september\",\"chief\",\"proposed\",\"assuming\",\"sin\",\"counter\",\"disable\",\"introduce\",\"restore\",\"swimming\",\"intern\",\"answering\",\"mentioned\",\"crash\",\"laser\",\"teenagers\",\"presentation\",\"quran\",\"classified\",\"demonetisation\",\"communicate\",\"cotton\",\"autism\",\"anger\",\"environmental\",\"stable\",\"7th\",\"bread\",\"invited\",\"wisdom\",\"wrote\",\"widely\",\"minor\",\"formal\",\"dreaming\",\"managers\",\"escape\",\"pollution\",\"taiwan\",\"verification\",\"los\",\"figures\",\"26\",\"illness\",\"sides\",\"compatible\",\"pack\",\"conspiracy\",\"hedge\",\"flights\",\"dropped\",\"former\",\"suffer\",\"aware\",\"designers\",\"mahabharata\",\"evolve\",\"weigh\",\"dies\",\"fruits\",\"cc\",\"butter\",\"sharing\",\"atoms\",\"tongue\",\"transaction\",\"poverty\",\"suffering\",\"presidents\",\"resistance\",\"adam\",\"civilization\",\"mining\",\"toronto\",\"stick\",\"increased\",\"wild\",\"freelance\",\"removal\",\"aws\",\"rio\",\"principle\",\"asus\",\"cute\",\"consumer\",\"pool\",\"variable\",\"tutorials\",\"advance\",\"keeping\",\"visible\",\"cognizant\",\"equations\",\"rooms\",\"krishna\",\"printer\",\"tooth\",\"mentally\",\"realistic\",\"automobile\",\"cake\",\"tie\",\"beach\",\"ghost\",\"comfortable\",\"mysql\",\"oral\",\"closed\",\"helps\",\"maharashtra\",\"admissions\",\"i5\",\"partners\",\"axis\",\"beliefs\",\"neck\",\"clans\",\"hidden\",\"cyber\",\"voting\",\"bacteria\",\"layer\",\"chhattisgarh\",\"5000\",\"sitting\",\"murder\",\"argument\",\"f\",\"privacy\",\"syndrome\",\"2010\",\"bite\",\"vacation\",\"isro\",\"trouble\",\"records\",\"answered\",\"digit\",\"defeat\",\"childhood\",\"5s\",\"gates\",\"f1\",\"town\",\"anal\",\"copper\",\"talks\",\"affiliate\",\"sociopath\",\"installed\",\"static\",\"copyright\",\"animation\",\"donate\",\"stranger\",\"bcom\",\"destroyed\",\"gujarat\",\"foundation\",\"prize\",\"components\",\"foreigner\",\"arms\",\"unlimited\",\"needing\",\"settings\",\"item\",\"eve\",\"competition\",\"landing\",\"beard\",\"patent\",\"ending\",\"2020\",\"incident\",\"petroleum\",\"florida\",\"particularly\",\"ups\",\"generator\",\"leather\",\"heal\",\"experiment\",\"28\",\"passing\",\"talent\",\"remote\",\"300\",\"published\",\"impossible\",\"steam\",\"80\",\"washing\",\"guilty\",\"punjab\",\"70\",\"album\",\"bullet\",\"paris\",\"interface\",\"agencies\",\"mission\",\"digits\",\"modis\",\"recruitment\",\"manipal\",\"telling\",\"meal\",\"orange\",\"stone\",\"links\",\"ab\",\"upper\",\"cameras\",\"p\",\"combat\",\"passion\",\"shower\",\"thailand\",\"beings\",\"grad\",\"27\",\"finger\",\"jump\",\"lights\",\"ui\",\"bba\",\"sweden\",\"arrive\",\"4th\",\"amendment\",\"window\",\"satellite\",\"al\",\"matlab\",\"jokes\",\"muhammad\",\"expression\",\"booking\",\"dinner\",\"skype\",\"lots\",\"2018\",\"teen\",\"finish\",\"dslr\",\"mens\",\"proud\",\"entrepreneurs\",\"ukraine\",\"coins\",\"scenario\",\"transmission\",\"ignore\",\"pride\",\"contribute\",\"grand\",\"curve\",\"false\",\"operations\",\"breakup\",\"eventually\",\"acquire\",\"commission\",\"lies\",\"spoken\",\"pills\",\"masturbating\",\"jackson\",\"airbnb\",\"delivered\",\"disk\",\"radiation\",\"plays\",\"marvel\",\"particle\",\"breakfast\",\"smartphones\",\"relevant\",\"quota\",\"refund\",\"inches\",\"telugu\",\"angel\",\"eastern\",\"inflation\",\"predict\",\"annoying\",\"obc\",\"tough\",\"conduct\",\"originate\",\"notification\",\"backup\",\"harder\",\"richest\",\"pronounce\",\"sri\",\"wheel\",\"wasnt\",\"oldest\",\"sheet\",\"soda\",\"20s\",\"wipro\",\"awesome\",\"facial\",\"z\",\"noida\",\"confident\",\"fbi\",\"corrupt\",\"succeed\",\"reddit\",\"associate\",\"input\",\"guns\",\"rahul\",\"baking\",\"description\",\"musical\",\"apache\",\"nowadays\",\"fluid\",\"capacity\",\"loose\",\"freshman\",\"cfa\",\"optional\",\"theres\",\"ps4\",\"trends\",\"jon\",\"richard\",\"legit\",\"nodejs\",\"document\",\"sexually\",\"particles\",\"singer\",\"printing\",\"captain\",\"valuable\",\"several\",\"aiims\",\"boot\",\"sit\",\"zone\",\"billionaire\",\"floor\",\"gravitational\",\"export\",\"motivation\",\"golden\",\"transgender\",\"healthcare\",\"heaven\",\"81\",\"leaves\",\"listening\",\"overall\",\"press\",\"dishes\",\"railways\",\"warming\",\"enfield\",\"extent\",\"acceleration\",\"afford\",\"bonds\",\"border\",\"registration\",\"cast\",\"hope\",\"shipping\",\"karnataka\",\"specifically\",\"opportunity\",\"arabia\",\"pump\",\"pg\",\"carrier\",\"plot\",\"kingdom\",\"contract\",\"painful\",\"kindle\",\"boring\",\"essential\",\"disney\",\"charger\",\"seconds\",\"measured\",\"honda\",\"ba\",\"makeup\",\"\\u2013\",\"mini\",\"annual\",\"traits\",\"retrieve\",\"willing\",\"swift\",\"consume\",\"hindus\",\"psychopath\",\"tells\",\"solving\",\"conditions\",\"artists\",\"spotify\",\"bomb\",\"integrate\",\"stuck\",\"nikon\",\"gadgets\",\"womens\",\"judge\",\"republicans\",\"vacuum\",\"felt\",\"putin\",\"tennis\",\"concentration\",\"fans\",\"constantly\",\"matrix\",\"secrets\",\"spot\",\"soft\",\"stored\",\"neural\",\"submit\",\"scores\",\"ola\",\"wire\",\"gdp\",\"jaipur\",\"typically\",\"airline\",\"roles\",\"cheaper\",\"machines\",\"shift\",\"impress\",\"basics\",\"32\",\"conservative\",\"birds\",\"tend\",\"duty\",\"setup\",\"rude\",\"pink\",\"church\",\"mine\",\"jack\",\"sending\",\"cooking\",\"versus\",\"expert\",\"olympic\",\"biotechnology\",\"gurgaon\",\"worked\",\"codes\",\"successfully\",\"hardware\",\"faith\",\"pr\",\"television\",\"compound\",\"vit\",\"universal\",\"thank\",\"grammatically\",\"chicago\",\"ivy\",\"worried\",\"enterprise\",\"sodium\",\"railway\",\"remedies\",\"racism\",\"tracking\",\"psychological\",\"apartment\",\"magazine\",\"martial\",\"beauty\",\"waiting\",\"attacks\",\"horror\",\"fantasy\",\"ma\",\"select\",\"increasing\",\"metro\",\"opt\",\"map\",\"watched\",\"gear\",\"icloud\",\"james\",\"comedy\",\"lollipop\",\"ireland\",\"upcoming\",\"italian\",\"oven\",\"emotionally\",\"decided\",\"lakh\",\"grey\",\"kept\",\"produced\",\"mouth\",\"manual\",\"dhoni\",\"fill\",\"throat\",\"shoot\",\"liked\",\"innovative\",\"immediately\",\"lonely\",\"fighting\",\"max\",\"accidentally\",\"schedule\",\"orgasm\",\"rape\",\"ride\",\"muscles\",\"graduates\",\"taller\",\"boost\",\"lakhs\",\"microwave\",\"electrons\",\"upon\",\"attract\",\"ap\",\"abuse\",\"earths\",\"forever\",\"underrated\",\"facing\",\"terrorist\",\"alien\",\"celebrity\",\"frequently\",\"vpn\",\"wales\",\"powder\",\"superman\",\"mixed\",\"caught\",\"goods\",\"beginning\",\"starts\",\"atomic\",\"associated\",\"triangle\",\"parties\",\"banning\",\"k\",\"honey\",\"monitor\",\"graph\",\"leaders\",\"embedded\",\"juice\",\"split\",\"lady\",\"sequence\",\"911\",\"harassment\",\"nepal\",\"pop\",\"habit\",\"setting\",\"edge\",\"ww2\",\"gps\",\"federal\",\"charged\",\"lying\",\"empty\",\"whenever\",\"airplane\",\"jet\",\"destroy\",\"ies\",\"wouldnt\",\"quick\",\"decrease\",\"robert\",\"pradesh\",\"professors\",\"massage\",\"held\",\"spending\",\"markets\",\"objects\",\"chart\",\"mechanics\",\"silver\",\"usage\",\"basketball\",\"gen\",\"periods\",\"identity\",\"individuals\",\"css\",\"soul\",\"ipod\",\"chest\",\"understanding\",\"coast\",\"classic\",\"spain\",\"babies\",\"sd\",\"hostel\",\"shirt\",\"further\",\"logical\",\"franchise\",\"obtain\",\"foreigners\",\"fully\",\"region\",\"designed\",\"cheated\",\"beneficial\",\"shes\",\"accent\",\"couldnt\",\"queen\",\"sick\",\"blowing\",\"properly\",\"stronger\",\"returns\",\"condition\",\"musk\",\"ugly\",\"teams\",\"filter\",\"snow\",\"glasses\",\"employer\",\"solid\",\"followed\",\"embarrassing\",\"auto\",\"meeting\",\"belong\",\"strike\",\"internships\",\"bachelors\",\"administration\",\"temple\",\"wealth\",\"retail\",\"speakers\",\"electoral\",\"headphones\",\"streaming\",\"mirror\",\"diesel\",\"republic\",\"antivirus\",\"customers\",\"atm\",\"vagina\",\"cigarettes\",\"aptitude\",\"lewis\",\"saudi\",\"puppy\",\"recovery\",\"jimmy\",\"obsessed\",\"domestic\",\"pen\",\"batch\",\"de\",\"drawing\",\"ai\",\"medium\",\"simply\",\"photoshop\",\"sms\",\"turning\",\"nadu\",\"appropriate\",\"adobe\",\"substitute\",\"fruit\",\"recipes\",\"fighter\",\"saving\",\"greater\",\"cheat\",\"routine\",\"push\",\"sherlock\",\"arguments\",\"sony\",\"import\",\"soldiers\",\"charges\",\"emotions\",\"ibm\",\"un\",\"innovations\",\"itunes\",\"consultant\",\"iims\",\"relations\",\"psychopaths\",\"existing\",\"angle\",\"clash\",\"bus\",\"australian\",\"crazy\",\"pull\",\"theories\",\"savings\",\"suit\",\"contrast\",\"calculus\",\"pi\",\"credits\",\"bluetooth\",\"himself\",\"traveling\",\"criminal\",\"xiaomi\",\"zealand\",\"seats\",\"electron\",\"script\",\"11th\",\"lessons\",\"programmers\",\"december\",\"flag\",\"singh\",\"arabic\",\"sale\",\"nfl\",\"grammar\",\"killing\",\"virgin\",\"differently\",\"poem\",\"provided\",\"automation\",\"shy\",\"translation\",\"mathematical\",\"45\",\"celebrities\",\"spring\",\"downloading\",\"dr\",\"organization\",\"majority\",\"clients\",\"hd\",\"motivate\",\"thats\",\"thesis\",\"door\",\"weakest\",\"saw\",\"canon\",\"younger\",\"costs\",\"river\",\"rings\",\"factory\",\"decent\",\"clintons\",\"holes\",\"desert\",\"divorce\",\"sold\",\"cheese\",\"atom\",\"taught\",\"minute\",\"ocean\",\"crisis\",\"represent\",\"surgical\",\"parent\",\"brexit\",\"possibility\",\"longest\",\"edit\",\"scholarship\",\"motivated\",\"chocolate\",\"faced\",\"90\",\"parallel\",\"foot\",\"examination\",\"friendly\",\"kinds\",\"wins\",\"islamic\",\"degrees\",\"registered\",\"distribution\",\"junior\",\"gave\",\"sing\",\"articles\",\"hadoop\",\"saved\",\"hero\",\"ear\",\"asks\",\"improved\",\"teenager\",\"forms\",\"wash\",\"provides\",\"washington\",\"strikes\",\"binary\",\"syria\",\"indonesia\",\"powers\",\"highly\",\"heshe\",\"happiness\",\"director\",\"citizenship\",\"knew\",\"humanity\",\"translate\",\"nba\",\"permanently\",\"soccer\",\"todays\",\"challenges\",\"barack\",\"title\",\"latin\",\"fitness\",\"genuine\",\"investor\",\"dislike\",\"scenes\",\"hacker\",\"bangladesh\",\"ebay\",\"earning\",\"dell\",\"paytm\",\"spouse\",\"bored\",\"roman\",\"official\",\"dragon\",\"park\",\"except\",\"habits\",\"quote\",\"astrology\",\"congress\",\"automatically\",\"island\",\"religions\",\"christianity\",\"supreme\",\"owner\",\"hell\",\"wikipedia\",\"cancel\",\"industries\",\"actress\",\"client\",\"visual\",\"michael\",\"remain\",\"ability\",\"concrete\",\"conflict\",\"string\",\"linear\",\"supposed\",\"engines\",\"2012\",\"\\u2018\",\"lesser\",\"traditional\",\"episodes\",\"goals\",\"tata\",\"opening\",\"target\",\"weak\",\"anonymous\",\"bjp\",\"resource\",\"concepts\",\"ruby\",\"friendship\",\"nyc\",\"pretty\",\"implement\",\"painting\",\"ill\",\"agency\",\"reverse\",\"confused\",\"italy\",\"response\",\"yellow\",\"dance\",\"contain\",\"vice\",\"editing\",\"acting\",\"weirdest\",\"feels\",\"govt\",\"accounting\",\"rise\",\"wise\",\"leaving\",\"lens\",\"artist\",\"arvind\",\"pattern\",\"scared\",\"attention\",\"airlines\",\"sky\",\"malaysia\",\"port\",\"attempt\",\"element\",\"classical\",\"shown\",\"safety\",\"including\",\"tablet\",\"la\",\"terrorism\",\"commit\",\"maps\",\"african\",\"viewed\",\"calling\",\"6s\",\"agent\",\"output\",\"justice\",\"don\",\"addiction\",\"lock\",\"vegetarian\",\"britain\",\"percent\",\"meditation\",\"ibps\",\"monthly\",\"writers\",\"forward\",\"stuff\",\"mr\",\"ready\",\"forgot\",\"flying\",\"recommended\",\"fields\",\"blind\",\"l\",\"hinduism\",\"desktop\",\"host\",\"tattoo\",\"maintain\",\"boards\",\"helpful\",\"semester\",\"load\",\"tier\",\"agree\",\"factor\",\"elon\",\"freshers\",\"sql\",\"cases\",\"exact\",\"confidence\",\"behavior\",\"hacked\",\"quotes\",\"hydrogen\",\"pakistani\",\"masturbate\",\"divided\",\"skill\",\"fine\",\"falling\",\"chess\",\"charging\",\"pages\",\"vector\",\"supporters\",\"waste\",\"sanders\",\"affordable\",\"unlock\",\"techniques\",\"wine\",\"keyboard\",\"cm\",\"wireless\",\"lawyer\",\"egg\",\"cope\",\"mindblowing\",\"recipe\",\"corruption\",\"scored\",\"secure\",\"teaching\",\"opposite\",\"educational\",\"bernie\",\"y\",\"library\",\"models\",\"kid\",\"stack\",\"separate\",\"19\",\"extremely\",\"properties\",\"cable\",\"magic\",\"removed\",\"computing\",\"hospital\",\"beer\",\"christians\",\"twice\",\"kg\",\"consulting\",\"whose\",\"serious\",\"petrol\",\"travelling\",\"revolution\",\"custom\",\"structures\",\"guide\",\"celebrate\",\"lenovo\",\"turned\",\"ielts\",\"grades\",\"fuel\",\"relative\",\"oracle\",\"academy\",\"lack\",\"passed\",\"relation\",\"values\",\"movement\",\"strategies\",\"eu\",\"emotional\",\"legs\",\"pokemon\",\"3g\",\"iran\",\"mostly\",\"jewish\",\"offered\",\"log\",\"hasnt\",\"explanation\",\"signal\",\"stores\",\"syllabus\",\"bits\",\"yoga\",\"weapons\",\"gods\",\"10000\",\"delivery\",\"gb\",\"sum\",\"letters\",\"venture\",\"selection\",\"winning\",\"35\",\"comment\",\"consequences\",\"sport\",\"items\",\"seems\",\"ring\",\"jealous\",\"laptops\",\"criteria\",\"fresh\",\"reference\",\"bitcoin\",\"infinite\",\"perform\",\"brazil\",\"density\",\"plans\",\"hosting\",\"clothing\",\"hong\",\"dying\",\"heavy\",\"steve\",\"gone\",\"damage\",\"missing\",\"ethical\",\"republican\",\"contacts\",\"activity\",\"electronic\",\"qualities\",\"piano\",\"hisher\",\"repair\",\"posts\",\"disease\",\"winter\",\"ten\",\"publish\",\"paint\",\"physically\",\"executive\",\"deposit\",\"elements\",\"xbox\",\"ceo\",\"visitors\",\"discovered\",\"tickets\",\"literature\",\"primary\",\"naturally\",\"senior\",\"u\",\"hardest\",\"debate\",\"frequency\",\"vietnam\",\"cry\",\"assistant\",\"gifts\",\"practical\",\"funny\",\"valid\",\"liberal\",\"refer\",\"beat\",\"shape\",\"institutes\",\"msc\",\"internal\",\"located\",\"significant\",\"scientists\",\"g\",\"ship\",\"proper\",\"independence\",\"added\",\"hes\",\"catch\",\"urine\",\"effectively\",\"named\",\"responsible\",\"strength\",\"whos\",\"immigration\",\"vehicle\",\"tesla\",\"kong\",\"meth\",\"england\",\"huge\",\"pizza\",\"rejected\",\"george\",\"fan\",\"salt\",\"browser\",\"sat\",\"loved\",\"fees\",\"walking\",\"symbol\",\"equity\",\"ubuntu\",\"alternatives\",\"theme\",\"virus\",\"manufacturing\",\"cutoff\",\"pure\",\"22\",\"introvert\",\"unable\",\"greek\",\"rice\",\"gst\",\"happening\",\"centre\",\"kiss\",\"prison\",\"bigger\",\"font\",\"construction\",\"exercises\",\"keeps\",\"gmat\",\"offers\",\"cross\",\"nasa\",\"unit\",\"advertising\",\"cup\",\"fixed\",\"limited\",\"billion\",\"subjects\",\"arts\",\"worlds\",\"stupid\",\"breaking\",\"funding\",\"tank\",\"generate\",\"efficient\",\"exists\",\"atheist\",\"entrepreneur\",\"direction\",\"broken\",\"offline\",\"firms\",\"station\",\"magnetic\",\"include\",\"aliens\",\"tinder\",\"logo\",\"photography\",\"worse\",\"besides\",\"path\",\"somebody\",\"interviews\",\"persons\",\"figure\",\"placed\",\"nation\",\"knows\",\"unmarried\",\"hp\",\"profitable\",\"tricks\",\"boss\",\"reply\",\"scam\",\"circle\",\"processor\",\"debt\",\"growing\",\"royal\",\"fiction\",\"department\",\"mistake\",\"weird\",\"graphics\",\"external\",\"article\",\"volume\",\"scratch\",\"chain\",\"protect\",\"storage\",\"texas\",\"liquid\",\"circuit\",\"graphic\",\"tired\",\"weather\",\"oxygen\",\"velocity\",\"dad\",\"band\",\"teachers\",\"drugs\",\"complex\",\"studio\",\"accenture\",\"leader\",\"levels\",\"goal\",\"logic\",\"acne\",\"plastic\",\"motion\",\"button\",\"peoples\",\"vision\",\"gap\",\"dollar\",\"computers\",\"stomach\",\"sources\",\"constant\",\"draw\",\"dress\",\"calculated\",\"sort\",\"3rd\",\"club\",\"channels\",\"creating\",\"candidates\",\"kejriwal\",\"broke\",\"sentences\",\"format\",\"emails\",\"raw\",\"stanford\",\"completed\",\"documents\",\"pan\",\"showing\",\"enter\",\"unknown\",\"bought\",\"router\",\"claim\",\"six\",\"technologies\",\"\\u20b9\",\"flipkart\",\"infosys\",\"mutual\",\"angry\",\"iits\",\"affected\",\"prices\",\"shares\",\"naruto\",\"processing\",\"finding\",\"democratic\",\"evolution\",\"harmful\",\"dual\",\"virtual\",\"member\",\"wave\",\"actual\",\"extra\",\"radio\",\"citizens\",\"e\",\"hr\",\"previous\",\"stopped\",\"walk\",\"redmi\",\"speaker\",\"torrent\",\"smoke\",\"mistakes\",\"flash\",\"iron\",\"entire\",\"individual\",\"express\",\"flow\",\"mode\",\"aircraft\",\"section\",\"planets\",\"10th\",\"respond\",\"easier\",\"evil\",\"percentile\",\"seeing\",\"calories\",\"upgrade\",\"professor\",\"v\",\"launch\",\"staff\",\"till\",\"silicon\",\"entry\",\"constitution\",\"century\",\"notice\",\"ie\",\"atheists\",\"tests\",\"21\",\"became\",\"kerala\",\"truly\",\"count\",\"essay\",\"papers\",\"accurate\",\"colors\",\"respect\",\"ideal\",\"rock\",\"reliance\",\"peace\",\"masturbation\",\"audio\",\"random\",\"independent\",\"colour\",\"hotels\",\"presidency\",\"generation\",\"paypal\",\"shot\",\"central\",\"released\",\"occur\",\"display\",\"industrial\",\"particular\",\"risk\",\"eg\",\"belly\",\"pet\",\"similarities\",\"organic\",\"marijuana\",\"networks\",\"aspects\",\"flat\",\"d\",\"comments\",\"nose\",\"identify\",\"rbi\",\"improvement\",\"directly\",\"framework\",\"suggestions\",\"designing\",\"brands\",\"religious\",\"influence\",\"novels\",\"statistics\",\"historical\",\"ground\",\"commerce\",\"pregnancy\",\"romantic\",\"failure\",\"wearing\",\"john\",\"apart\",\"bay\",\"symptoms\",\"200\",\"couple\",\"60\",\"canadian\",\"lie\",\"print\",\"carry\",\"gender\",\"experienced\",\"pounds\",\"reservation\",\"either\",\"stage\",\"artificial\",\"fit\",\"blogs\",\"developing\",\"environment\",\"learned\",\"copy\",\"phase\",\"bond\",\"democracy\",\"cgpa\",\"operating\",\"surface\",\"officers\",\"h1b\",\"ip\",\"workout\",\"fee\",\"elected\",\"hands\",\"largest\",\"sad\",\"shouldnt\",\"seat\",\"sister\",\"developers\",\"despite\",\"scene\",\"po\",\"diploma\",\"request\",\"empire\",\"ratio\",\"considering\",\"academic\",\"tree\",\"register\",\"advantage\",\"eligible\",\"nit\",\"shop\",\"intel\",\"funniest\",\"alternative\",\"fail\",\"ads\",\"nature\",\"miss\",\"involved\",\"overrated\",\"attend\",\"freedom\",\"dna\",\"beginners\",\"raise\",\"dry\",\"failed\",\"legally\",\"batman\",\"upload\",\"carbon\",\"regret\",\"applied\",\"points\",\"investors\",\"pick\",\"equivalent\",\"connected\",\"christmas\",\"lyrics\",\"nations\",\"caused\",\"bsc\",\"1st\",\"action\",\"activities\",\"biology\",\"hide\",\"asia\",\"takes\",\"require\",\"alive\",\"mom\",\"cycle\",\"generally\",\"campaign\",\"fair\",\"wake\",\"bit\",\"rules\",\"olympics\",\"racist\",\"areas\",\"eggs\",\"feature\",\"sap\",\"taxes\",\"ad\",\"shall\",\"theyre\",\"species\",\"pilot\",\"firm\",\"fish\",\"define\",\"doctors\",\"piece\",\"itself\",\"bang\",\"solutions\",\"iim\",\"2013\",\"wanted\",\"length\",\"burn\",\"waves\",\"bar\",\"gives\",\"forces\",\"christian\",\"anybody\",\"relationships\",\"nice\",\"wedding\",\"various\",\"brother\",\"films\",\"cream\",\"suddenly\",\"philippines\",\"fashion\",\"truth\",\"gpa\",\"cgl\",\"tall\",\"goa\",\"hacking\",\"statement\",\"reset\",\"materials\",\"played\",\"match\",\"usb\",\"novel\",\"unusual\",\"knowing\",\"selected\",\"valley\",\"chrome\",\"couples\",\"becomes\",\"died\",\"cheating\",\"community\",\"groups\",\"category\",\"pursuing\",\"writer\",\"mexico\",\"anymore\",\"sugar\",\"climate\",\"brown\",\"players\",\"ii\",\"reviews\",\"took\",\"led\",\"connection\",\"begin\",\"html\",\"changing\",\"received\",\"plants\",\"debit\",\"record\",\"revenue\",\"mars\",\"strongest\",\"members\",\"formed\",\"union\",\"thought\",\"existence\",\"kashmir\",\"gandhi\",\"pdf\",\"banned\",\"0\",\"plane\",\"treated\",\"electricity\",\"scale\",\"basis\",\"moral\",\"images\",\"methods\",\"certification\",\"voltage\",\"style\",\"base\",\"excel\",\"amazing\",\"regarding\",\"result\",\"rates\",\"hold\",\"indias\",\"airport\",\"businesses\",\"feet\",\"built\",\"linkedin\",\"signs\",\"above\",\"networking\",\"r\",\"shopping\",\"looks\",\"went\",\"placements\",\"bed\",\"experiences\",\"daughter\",\"tourist\",\"employee\",\"caste\",\"wait\",\"direct\",\"especially\",\"feed\",\"continue\",\"expected\",\"algorithm\",\"depressed\",\"shoes\",\"soon\",\"supply\",\"stress\",\"24\",\"inr\",\"foods\",\"rent\",\"architecture\",\"ban\",\"entrance\",\"actors\",\"messenger\",\"unique\",\"kolkata\",\"funds\",\"rupee\",\"promote\",\"rupees\",\"jews\",\"23\",\"cook\",\"cultural\",\"accepted\",\"hear\",\"glass\",\"road\",\"joining\",\"measure\",\"havent\",\"metal\",\"resume\",\"afraid\",\"turkey\",\"meat\",\"goes\",\"installation\",\"netflix\",\"benefit\",\"demand\",\"release\",\"produce\",\"report\",\"cover\",\"changes\",\"double\",\"2nd\",\"reaction\",\"killed\",\"steel\",\"requirements\",\"france\",\"exchange\",\"ac\",\"quantum\",\"reliable\",\"box\",\"results\",\"lives\",\"treatment\",\"4g\",\"ece\",\"probability\",\"sleeping\",\"philosophy\",\"handle\",\"forget\",\"driver\",\"demonetization\",\"algorithms\",\"trade\",\"rule\",\"muscle\",\"calls\",\"tried\",\"mental\",\"sure\",\"quit\",\"navy\",\"achieve\",\"francisco\",\"location\",\"until\",\"sense\",\"anxiety\",\"wordpress\",\"focus\",\"fact\",\"production\",\"conversation\",\"motor\",\"five\",\"attracted\",\"hit\",\"analyst\",\"moto\",\"isis\",\"chicken\",\"sector\",\"permanent\",\"along\",\"king\",\"slow\",\"candidate\",\"minutes\",\"purchase\",\"gun\",\"selling\",\"usually\",\"\\u2026\",\"fly\",\"round\",\"panel\",\"error\",\"stocks\",\"api\",\"remember\",\"africa\",\"paying\",\"hitler\",\"3d\",\"regular\",\"losing\",\"mail\",\"yahoo\",\"cheapest\",\"older\",\"concept\",\"characters\",\"definition\",\"lines\",\"pm\",\"cloud\",\"cats\",\"russian\",\"ipad\",\"korean\",\"proof\",\"battle\",\"stars\",\"stream\",\"recent\",\"typical\",\"performance\",\"harvard\",\"restaurant\",\"origin\",\"listen\",\"smell\",\"decide\",\"serve\",\"undergraduate\",\"profit\",\"situation\",\"surgery\",\"asking\",\"plant\",\"link\",\"square\",\"completing\",\"four\",\"trust\",\"payment\",\"gym\",\"andor\",\"worklife\",\"guitar\",\"elections\",\"half\",\"investing\",\"scientist\",\"street\",\"needs\",\"native\",\"thoughts\",\"reality\",\"40\",\"medicine\",\"race\",\"choice\",\"longer\",\"came\",\"applying\",\"hiring\",\"west\",\"weed\",\"hacks\",\"step\",\"sea\",\"crime\",\"devices\",\"event\",\"citizen\",\"14\",\"17\",\"ticket\",\"fund\",\"equation\",\"suicide\",\"whom\",\"met\",\"almost\",\"designer\",\"local\",\"departments\",\"khan\",\"customer\",\"banking\",\"javascript\",\"trip\",\"issue\",\"react\",\"cannot\",\"dubai\",\"wall\",\"touch\",\"parts\",\"loves\",\"clothes\",\"straight\",\"sexual\",\"active\",\"inpatient\",\"dreams\",\"protein\",\"table\",\"exercise\",\"lord\",\"mtech\",\"creative\",\"ball\",\"speaking\",\"son\",\"receive\",\"dollars\",\"domain\",\"prospects\",\"hour\",\"graduation\",\"commercial\",\"themselves\",\"factors\",\"jesus\",\"programmer\",\"recommend\",\"replace\",\"chat\",\"placement\",\"episode\",\"fastest\",\"restaurants\",\"object\",\"drivers\",\"gaming\",\"mark\",\"taste\",\"seem\",\"perfect\",\"potential\",\"trumps\",\"appear\",\"rights\",\"equal\",\"rest\",\"package\",\"meant\",\"drop\",\"cool\",\"material\",\"potter\",\"events\",\"convince\",\"completely\",\"n\",\"zero\",\"significance\",\"lower\",\"feelings\",\"followers\",\"evidence\",\"certain\",\"later\",\"original\",\"bible\",\"disorder\",\"testing\",\"via\",\"stand\",\"actor\",\"characteristics\",\"cities\",\"reach\",\"ago\",\"mbbs\",\"speech\",\"electric\",\"approach\",\"scientific\",\"root\",\"analytics\",\"below\",\"grade\",\"mains\",\"topic\",\"fun\",\"ancient\",\"adult\",\"standard\",\"ice\",\"everyday\",\"population\",\"invented\",\"european\",\"intelligent\",\"11\",\"subject\",\"rehab\",\"background\",\"giving\",\"platform\",\"flight\",\"thrones\",\"maths\",\"dc\",\"teeth\",\"mit\",\"weeks\",\"east\",\"means\",\"programs\",\"beginner\",\"heat\",\"third\",\"tea\",\"range\",\"london\",\"maximum\",\"enjoy\",\"2000\",\"cells\",\"quickly\",\"here\",\"expensive\",\"phrase\",\"partner\",\"league\",\"anime\",\"latest\",\"specific\",\"whether\",\"functions\",\"os\",\"fire\",\"saying\",\"secret\",\"13\",\"planet\",\"hole\",\"super\",\"teacher\",\"strong\",\"accounts\",\"minister\",\"database\",\"economic\",\"channel\",\"estate\",\"ram\",\"switch\",\"asian\",\"smoking\",\"branch\",\"israel\",\"18\",\"features\",\"success\",\"lead\",\"total\",\"key\",\"master\",\"ok\",\"favourite\",\"psychology\",\"pok\\u00e9mon\",\"nothing\",\"clean\",\"25\",\"politics\",\"drinking\",\"sometimes\",\"recently\",\"korea\",\"sent\",\"poor\",\"hindu\",\"hollywood\",\"survive\",\"cure\",\"property\",\"return\",\"narendra\",\"budget\",\"sports\",\"limit\",\"arent\",\"boys\",\"driving\",\"whole\",\"cash\",\"smartphone\",\"php\",\"developed\",\"ssc\",\"hot\",\"attractive\",\"tool\",\"physical\",\"ecommerce\",\"sbi\",\"morning\",\"animal\",\"multiple\",\"loan\",\"acid\",\"fresher\",\"spanish\",\"moving\",\"decision\",\"county\",\"determined\",\"becoming\",\"seo\",\"summer\",\"manage\",\"server\",\"competitive\",\"milk\",\"importance\",\"banks\",\"cheap\",\"powerful\",\"issues\",\"penis\",\"according\",\"analysis\",\"bike\",\"position\",\"western\",\"advanced\",\"campus\",\"highest\",\"front\",\"court\",\"status\",\"gravity\",\"positions\",\"comes\",\"steps\",\"complete\",\"electronics\",\"won\",\"hurt\",\"certificate\",\"temperature\",\"player\",\"someones\",\"communication\",\"million\",\"talking\",\"preparing\",\"finance\",\"cancer\",\"9\",\"harry\",\"accept\",\"2014\",\"plus\",\"born\",\"tcs\",\"license\",\"bring\",\"teach\",\"practice\",\"trading\",\"m\",\"might\",\"opportunities\",\"global\",\"wish\",\"outside\",\"attack\",\"procedure\",\"needed\",\"update\",\"coffee\",\"provider\",\"rather\",\"16\",\"allow\",\"tamil\",\"mix\",\"connect\",\"room\",\"watching\",\"deep\",\"york\",\"image\",\"birth\",\"sign\",\"birthday\",\"playing\",\"wars\",\"grads\",\"hire\",\"phones\",\"cbse\",\"details\",\"clear\",\"cricket\",\"dangerous\",\"track\",\"corporate\",\"voice\",\"upsc\",\"content\",\"okay\",\"san\",\"heart\",\"far\",\"heard\",\"prove\",\"positive\",\"moment\",\"sales\",\"opinion\",\"engineers\",\"block\",\"diet\",\"coding\",\"core\",\"baby\",\"father\",\"little\",\"large\",\"blocked\",\"distance\",\"land\",\"simple\",\"husband\",\"told\",\"traffic\",\"prevent\",\"pictures\",\"planning\",\"fear\",\"classes\",\"towards\",\"technical\",\"building\",\"trying\",\"photo\",\"early\",\"uses\",\"sydney\",\"startups\",\"act\",\"id\",\"describe\",\"12th\",\"may\",\"formula\",\"gets\",\"present\",\"wont\",\"cut\",\"treat\",\"mathematics\",\"visiting\",\"eye\",\"policy\",\"close\",\"cse\",\"suitable\",\"version\",\"tools\",\"head\",\"minimum\",\"chennai\",\"easily\",\"method\",\"intelligence\",\"gre\",\"mother\",\"doctor\",\"macbook\",\"deleted\",\"gas\",\"suggest\",\"cards\",\"files\",\"loss\",\"art\",\"easiest\",\"late\",\"among\",\"together\",\"depression\",\"higher\",\"alone\",\"economics\",\"dead\",\"growth\",\"insurance\",\"gold\",\"necessary\",\"neet\",\"blog\",\"example\",\"memory\",\"crack\",\"consider\",\"works\",\"currency\",\"recruit\",\"pursue\",\"strategy\",\"young\",\"cs\",\"projects\",\"50\",\"manager\",\"abroad\",\"schools\",\"illegal\",\"inside\",\"stories\",\"hand\",\"t\",\"greatest\",\"personality\",\"galaxy\",\"device\",\"views\",\"user\",\"chemistry\",\"cars\",\"iq\",\"prefer\",\"picture\",\"nuclear\",\"middle\",\"applications\",\"gmail\",\"laws\",\"final\",\"capital\",\"kids\",\"society\",\"fake\",\"bill\",\"save\",\"though\",\"likely\",\"determine\",\"shows\",\"character\",\"snapchat\",\"youre\",\"eyes\",\"islam\",\"marry\",\"brand\",\"yet\",\"impact\",\"speak\",\"within\",\"rich\",\"resources\",\"net\",\"non\",\"pressure\",\"changed\",\"allowed\",\"obama\",\"cold\",\"running\",\"feeling\",\"jio\",\"football\",\"gift\",\"written\",\"buying\",\"mac\",\"spend\",\"prime\",\"blue\",\"train\",\"studies\",\"negative\",\"thinking\",\"solution\",\"sun\",\"least\",\"following\",\"install\",\"else\",\"muslims\",\"camera\",\"vote\",\"linux\",\"expect\",\"german\",\"recover\",\"starting\",\"crush\",\"coming\",\"muslim\",\"modern\",\"battery\",\"provide\",\"access\",\"presidential\",\"interest\",\"dating\",\"pro\",\"likes\",\"french\",\"singapore\",\"useful\",\"already\",\"professional\",\"percentage\",\"drink\",\"created\",\"board\",\"passport\",\"structure\",\"case\",\"height\",\"microsoft\",\"break\",\"screen\",\"names\",\"chance\",\"special\",\"30\",\"skin\",\"natural\",\"color\",\"interested\",\"amount\",\"pain\",\"healthy\",\"hack\",\"messages\",\"ias\",\"gay\",\"disadvantages\",\"pass\",\"moon\",\"systems\",\"hindi\",\"financial\",\"taken\",\"yes\",\"sim\",\"pregnant\",\"faster\",\"animals\",\"internship\",\"let\",\"photos\",\"balance\",\"sound\",\"due\",\"knowledge\",\"charge\",\"message\",\"officer\",\"solar\",\"military\",\"meet\",\"option\",\"reading\",\"across\",\"overcome\",\"everyone\",\"everything\",\"wife\",\"reduce\",\"chances\",\"samsung\",\"income\",\"bollywood\",\"season\",\"europe\",\"boy\",\"currently\",\"ex\",\"smart\",\"california\",\"engine\",\"paid\",\"army\",\"contact\",\"address\",\"wants\",\"ones\",\"gain\",\"reasons\",\"avoid\",\"please\",\"note\",\"known\",\"pune\",\"film\",\"national\",\"once\",\"users\",\"porn\",\"scope\",\"twitter\",\"drug\",\"rank\",\"japan\",\"fight\",\"transfer\",\"political\",\"green\",\"news\",\"self\",\"uber\",\"basic\",\"british\",\"religion\",\"hyderabad\",\"topics\",\"explain\",\"phd\",\"eating\",\"letter\",\"calculate\",\"ive\",\"tech\",\"personal\",\"japanese\",\"check\",\"hotel\",\"wifi\",\"beautiful\",\"difficult\",\"paper\",\"languages\",\"investment\",\"develop\",\"north\",\"electrical\",\"ios\",\"alcohol\",\"exactly\",\"profile\",\"past\",\"exams\",\"ca\",\"convert\",\"vs\",\"understand\",\"care\",\"dream\",\"try\",\"americans\",\"lost\",\"chemical\",\"source\",\"b\",\"admission\",\"easy\",\"must\",\"three\",\"effect\",\"view\",\"options\",\"page\",\"away\",\"red\",\"said\",\"line\",\"short\",\"happy\",\"security\",\"dark\",\"preparation\",\"second\",\"fat\",\"matter\",\"few\",\"since\",\"role\",\"pc\",\"office\",\"team\",\"delete\",\"cell\",\"election\",\"economy\",\"term\",\"dogs\",\"text\",\"female\",\"effective\",\"brain\",\"share\",\"digital\",\"btech\",\"russia\",\"\\u201c\",\"party\",\"numbers\",\"20\",\"store\",\"male\",\"mass\",\"turn\",\"left\",\"married\",\"rs\",\"taking\",\"those\",\"password\",\"follow\",\"advice\",\"isnt\",\"15\",\"types\",\"network\",\"\\u201d\",\"week\",\"purpose\",\"related\",\"fix\",\"started\",\"courses\",\"masters\",\"grow\",\"8\",\"fast\",\"leave\",\"100\",\"often\",\"found\",\"pros\",\"marriage\",\"cons\",\"quality\",\"words\",\"kill\",\"price\",\"near\",\"modi\",\"enough\",\"search\",\"python\",\"x\",\"blood\",\"math\",\"yourself\",\"drive\",\"size\",\"star\",\"graduate\",\"majors\",\"500\",\"model\",\"studying\",\"general\",\"oil\",\"colleges\",\"area\",\"developer\",\"germany\",\"industry\",\"full\",\"training\",\"says\",\"period\",\"videos\",\"universe\",\"fall\",\"daily\",\"information\",\"foreign\",\"credit\",\"force\",\"12\",\"youve\",\"south\",\"offer\",\"set\",\"add\",\"send\",\"australia\",\"center\",\"1000\",\"famous\",\"2015\",\"lot\",\"function\",\"tax\",\"correct\",\"solve\",\"advantages\",\"coaching\",\"institute\",\"effects\",\"guys\",\"again\",\"group\",\"hours\",\"side\",\"sentence\",\"low\",\"similar\",\"plan\",\"children\",\"answers\",\"talk\",\"marks\",\"ideas\",\"theory\",\"death\",\"compared\",\"night\",\"remove\",\"dog\",\"anything\",\"single\",\"successful\",\"gate\",\"indians\",\"put\",\"problems\",\"move\",\"writing\",\"point\",\"invest\",\"asked\",\"biggest\",\"others\",\"stock\",\"notes\",\"story\",\"machine\",\"private\",\"sell\",\"seen\",\"required\",\"field\",\"file\",\"rate\",\"humans\",\"application\",\"face\",\"sites\",\"mind\",\"facts\",\"mumbai\",\"post\",\"stay\",\"child\",\"terms\",\"products\",\"control\",\"legal\",\"police\",\"didnt\",\"level\",\"worst\",\"hate\",\"visit\",\"called\",\"amazon\",\"causes\",\"health\",\"form\",\"physics\",\"iit\",\"skills\",\"times\",\"medical\",\"based\",\"list\",\"websites\",\"die\",\"part\",\"less\",\"benefits\",\"apple\",\"instead\",\"these\",\"boyfriend\",\"sleep\",\"canada\",\"reason\",\"education\",\"cause\",\"jee\",\"value\",\"today\",\"media\",\"public\",\"happened\",\"product\",\"research\",\"main\",\"behind\",\"international\",\"project\",\"uk\",\"differ\",\"7\",\"places\",\"wear\",\"order\",\"date\",\"etc\",\"small\",\"songs\",\"apps\",\"email\",\"given\",\"wrong\",\"site\",\"normal\",\"culture\",\"also\",\"civil\",\"city\",\"available\",\"house\",\"exist\",\"startup\",\"services\",\"ms\",\"both\",\"down\",\"2017\",\"run\",\"cat\",\"well\",\"space\",\"join\",\"deal\",\"games\",\"visa\",\"rid\",\"air\",\"speed\",\"popular\",\"problem\",\"support\",\"current\",\"pakistan\",\"choose\",\"build\",\"idea\",\"america\",\"whatsapp\",\"affect\",\"law\",\"technology\",\"call\",\"6\",\"universities\",\"family\",\"marketing\",\"major\",\"actually\",\"favorite\",\"light\",\"bangalore\",\"woman\",\"because\",\"type\",\"program\",\"looking\",\"living\",\"open\",\"believe\",\"month\",\"able\",\"management\",\"travel\",\"degree\",\"show\",\"interesting\",\"score\",\"months\",\"series\",\"chinese\",\"development\",\"end\",\"code\",\"design\",\"per\",\"employees\",\"review\",\"clinton\",\"common\",\"kind\",\"internet\",\"song\",\"download\",\"course\",\"parents\",\"jobs\",\"such\",\"increase\",\"java\",\"god\",\"another\",\"united\",\"girlfriend\",\"mechanical\",\"always\",\"next\",\"never\",\"around\",\"tips\",\"mba\",\"myself\",\"hillary\",\"apply\",\"answer\",\"something\",\"considered\",\"making\",\"differences\",\"market\",\"compare\",\"great\",\"keep\",\"test\",\"s\",\"win\",\"against\",\"states\",\"earn\",\"youtube\",\"worth\",\"delhi\",\"energy\",\"laptop\",\"american\",\"lose\",\"each\",\"hard\",\"makes\",\"age\",\"ask\",\"safe\",\"body\",\"power\",\"salary\",\"4\",\"watch\",\"white\",\"windows\",\"instagram\",\"history\",\"pay\",\"every\",\"last\",\"create\",\"relationship\",\"music\",\"too\",\"meaning\",\"state\",\"average\",\"earth\",\"got\",\"process\",\"class\",\"tv\",\"eat\",\"done\",\"happens\",\"days\",\"big\",\"off\",\"improve\",\"future\",\"place\",\"man\",\"human\",\"government\",\"play\",\"countries\",\"food\",\"service\",\"students\",\"weight\",\"game\",\"engineer\",\"write\",\"very\",\"interview\",\"web\",\"tell\",\"social\",\"girls\",\"video\",\"look\",\"having\",\"guy\",\"home\",\"hair\",\"usa\",\"doesnt\",\"word\",\"bank\",\"friend\",\"true\",\"experience\",\"career\",\"president\",\"question\",\"own\",\"china\",\"come\",\"under\",\"working\",\"him\",\"doing\",\"donald\",\"friends\",\"right\",\"5\",\"cost\",\"mobile\",\"even\",\"movies\",\"then\",\"c\",\"\\u2019\",\"exam\",\"men\",\"learning\",\"card\",\"war\",\"read\",\"programming\",\"black\",\"anyone\",\"high\",\"10\",\"companies\",\"car\",\"getting\",\"give\",\"important\",\"questions\",\"cant\",\"iphone\",\"website\",\"top\",\"water\",\"prepare\",\"during\",\"real\",\"say\",\"system\",\"name\",\"through\",\"two\",\"1\",\"our\",\"study\",\"3\",\"university\",\"made\",\"back\",\"happen\",\"stop\",\"student\",\"sex\",\"bad\",\"language\",\"going\",\"same\",\"before\",\"software\",\"school\",\"live\",\"country\",\"android\",\"science\",\"help\",\"she\",\"see\",\"thing\",\"women\",\"over\",\"data\",\"examples\",\"computer\",\"had\",\"ways\",\"change\",\"while\",\"book\",\"english\",\"account\",\"still\",\"movie\",\"books\",\"2016\",\"facebook\",\"free\",\"number\",\"college\",\"app\",\"2\",\"just\",\"now\",\"no\",\"trump\",\"company\",\"only\",\"old\",\"been\",\"google\",\"phone\",\"long\",\"different\",\"girl\",\"his\",\"her\",\"years\",\"really\",\"them\",\"using\",\"business\",\"need\",\"being\",\"buy\",\"day\",\"person\",\"things\",\"possible\",\"could\",\"were\",\"its\",\"love\",\"engineering\",\"im\",\"used\",\"online\",\"go\",\"year\",\"he\",\"into\",\"feel\",\"dont\",\"first\",\"up\"]]]}}},\"view\":{\"type\":\"object\",\"name\":\"CDSView\",\"id\":\"p1045\",\"attributes\":{\"filter\":{\"type\":\"object\",\"name\":\"AllIndices\",\"id\":\"p1046\"}}},\"glyph\":{\"type\":\"object\",\"name\":\"Scatter\",\"id\":\"p1041\",\"attributes\":{\"x\":{\"type\":\"field\",\"field\":\"x\"},\"y\":{\"type\":\"field\",\"field\":\"y\"},\"size\":{\"type\":\"value\",\"value\":10},\"line_color\":{\"type\":\"field\",\"field\":\"color\"},\"line_alpha\":{\"type\":\"value\",\"value\":0.25},\"fill_color\":{\"type\":\"field\",\"field\":\"color\"},\"fill_alpha\":{\"type\":\"value\",\"value\":0.25},\"hatch_color\":{\"type\":\"field\",\"field\":\"color\"},\"hatch_alpha\":{\"type\":\"value\",\"value\":0.25}}},\"nonselection_glyph\":{\"type\":\"object\",\"name\":\"Scatter\",\"id\":\"p1042\",\"attributes\":{\"x\":{\"type\":\"field\",\"field\":\"x\"},\"y\":{\"type\":\"field\",\"field\":\"y\"},\"size\":{\"type\":\"value\",\"value\":10},\"line_color\":{\"type\":\"field\",\"field\":\"color\"},\"line_alpha\":{\"type\":\"value\",\"value\":0.1},\"fill_color\":{\"type\":\"field\",\"field\":\"color\"},\"fill_alpha\":{\"type\":\"value\",\"value\":0.1},\"hatch_color\":{\"type\":\"field\",\"field\":\"color\"},\"hatch_alpha\":{\"type\":\"value\",\"value\":0.1}}},\"muted_glyph\":{\"type\":\"object\",\"name\":\"Scatter\",\"id\":\"p1043\",\"attributes\":{\"x\":{\"type\":\"field\",\"field\":\"x\"},\"y\":{\"type\":\"field\",\"field\":\"y\"},\"size\":{\"type\":\"value\",\"value\":10},\"line_color\":{\"type\":\"field\",\"field\":\"color\"},\"line_alpha\":{\"type\":\"value\",\"value\":0.2},\"fill_color\":{\"type\":\"field\",\"field\":\"color\"},\"fill_alpha\":{\"type\":\"value\",\"value\":0.2},\"hatch_color\":{\"type\":\"field\",\"field\":\"color\"},\"hatch_alpha\":{\"type\":\"value\",\"value\":0.2}}}}}],\"toolbar\":{\"type\":\"object\",\"name\":\"Toolbar\",\"id\":\"p1012\",\"attributes\":{\"tools\":[{\"type\":\"object\",\"name\":\"PanTool\",\"id\":\"p1025\"},{\"type\":\"object\",\"name\":\"WheelZoomTool\",\"id\":\"p1026\",\"attributes\":{\"renderers\":\"auto\"}},{\"type\":\"object\",\"name\":\"BoxZoomTool\",\"id\":\"p1027\",\"attributes\":{\"dimensions\":\"both\",\"overlay\":{\"type\":\"object\",\"name\":\"BoxAnnotation\",\"id\":\"p1028\",\"attributes\":{\"syncable\":false,\"line_color\":\"black\",\"line_alpha\":1.0,\"line_width\":2,\"line_dash\":[4,4],\"fill_color\":\"lightgrey\",\"fill_alpha\":0.5,\"level\":\"overlay\",\"visible\":false,\"left\":{\"type\":\"number\",\"value\":\"nan\"},\"right\":{\"type\":\"number\",\"value\":\"nan\"},\"top\":{\"type\":\"number\",\"value\":\"nan\"},\"bottom\":{\"type\":\"number\",\"value\":\"nan\"},\"left_units\":\"canvas\",\"right_units\":\"canvas\",\"top_units\":\"canvas\",\"bottom_units\":\"canvas\",\"handles\":{\"type\":\"object\",\"name\":\"BoxInteractionHandles\",\"id\":\"p1034\",\"attributes\":{\"all\":{\"type\":\"object\",\"name\":\"AreaVisuals\",\"id\":\"p1033\",\"attributes\":{\"fill_color\":\"white\",\"hover_fill_color\":\"lightgray\"}}}}}}}},{\"type\":\"object\",\"name\":\"SaveTool\",\"id\":\"p1035\"},{\"type\":\"object\",\"name\":\"ResetTool\",\"id\":\"p1036\"},{\"type\":\"object\",\"name\":\"HelpTool\",\"id\":\"p1037\"},{\"type\":\"object\",\"name\":\"HoverTool\",\"id\":\"p1047\",\"attributes\":{\"renderers\":\"auto\",\"tooltips\":[[\"token\",\"@token\"]]}}],\"active_scroll\":{\"id\":\"p1026\"}}},\"left\":[{\"type\":\"object\",\"name\":\"LinearAxis\",\"id\":\"p1020\",\"attributes\":{\"ticker\":{\"type\":\"object\",\"name\":\"BasicTicker\",\"id\":\"p1021\",\"attributes\":{\"mantissas\":[1,2,5]}},\"formatter\":{\"type\":\"object\",\"name\":\"BasicTickFormatter\",\"id\":\"p1022\"},\"major_label_policy\":{\"type\":\"object\",\"name\":\"AllLabels\",\"id\":\"p1023\"}}}],\"below\":[{\"type\":\"object\",\"name\":\"LinearAxis\",\"id\":\"p1015\",\"attributes\":{\"ticker\":{\"type\":\"object\",\"name\":\"BasicTicker\",\"id\":\"p1016\",\"attributes\":{\"mantissas\":[1,2,5]}},\"formatter\":{\"type\":\"object\",\"name\":\"BasicTickFormatter\",\"id\":\"p1017\"},\"major_label_policy\":{\"type\":\"object\",\"name\":\"AllLabels\",\"id\":\"p1018\"}}}],\"center\":[{\"type\":\"object\",\"name\":\"Grid\",\"id\":\"p1019\",\"attributes\":{\"axis\":{\"id\":\"p1015\"}}},{\"type\":\"object\",\"name\":\"Grid\",\"id\":\"p1024\",\"attributes\":{\"dimension\":1,\"axis\":{\"id\":\"p1020\"}}}]}}]}};\n",
              "  const render_items = [{\"docid\":\"58076626-6564-431c-8583-20c5c4c1dafd\",\"roots\":{\"p1004\":\"f65a3282-a13d-4ec7-8146-dade2035387c\"},\"root_ids\":[\"p1004\"]}];\n",
              "  void root.Bokeh.embed.embed_items_notebook(docs_json, render_items);\n",
              "  }\n",
              "  if (root.Bokeh !== undefined) {\n",
              "    embed_document(root);\n",
              "  } else {\n",
              "    let attempts = 0;\n",
              "    const timer = setInterval(function(root) {\n",
              "      if (root.Bokeh !== undefined) {\n",
              "        clearInterval(timer);\n",
              "        embed_document(root);\n",
              "      } else {\n",
              "        attempts++;\n",
              "        if (attempts > 100) {\n",
              "          clearInterval(timer);\n",
              "          console.log(\"Bokeh: ERROR: Unable to run BokehJS code because BokehJS library is missing\");\n",
              "        }\n",
              "      }\n",
              "    }, 10, root)\n",
              "  }\n",
              "})(window);"
            ],
            "application/vnd.bokehjs_exec.v0+json": ""
          },
          "metadata": {
            "application/vnd.bokehjs_exec.v0+json": {
              "id": "p1004"
            }
          }
        },
        {
          "output_type": "execute_result",
          "data": {
            "text/plain": [
              "figure(id='p1004', ...)"
            ],
            "text/html": [
              "<div style=\"display: table;\"><div style=\"display: table-row;\"><div style=\"display: table-cell;\"><b title=\"bokeh.plotting._figure.figure\">figure</b>(</div><div style=\"display: table-cell;\">id&nbsp;=&nbsp;'p1004', <span id=\"p1051\" style=\"cursor: pointer;\">&hellip;)</span></div></div><div class=\"p1050\" style=\"display: none;\"><div style=\"display: table-cell;\"></div><div style=\"display: table-cell;\">above&nbsp;=&nbsp;[],</div></div><div class=\"p1050\" style=\"display: none;\"><div style=\"display: table-cell;\"></div><div style=\"display: table-cell;\">align&nbsp;=&nbsp;'auto',</div></div><div class=\"p1050\" style=\"display: none;\"><div style=\"display: table-cell;\"></div><div style=\"display: table-cell;\">aspect_ratio&nbsp;=&nbsp;None,</div></div><div class=\"p1050\" style=\"display: none;\"><div style=\"display: table-cell;\"></div><div style=\"display: table-cell;\">aspect_scale&nbsp;=&nbsp;1,</div></div><div class=\"p1050\" style=\"display: none;\"><div style=\"display: table-cell;\"></div><div style=\"display: table-cell;\">attribution&nbsp;=&nbsp;[],</div></div><div class=\"p1050\" style=\"display: none;\"><div style=\"display: table-cell;\"></div><div style=\"display: table-cell;\">background_fill_alpha&nbsp;=&nbsp;1.0,</div></div><div class=\"p1050\" style=\"display: none;\"><div style=\"display: table-cell;\"></div><div style=\"display: table-cell;\">background_fill_color&nbsp;=&nbsp;'#ffffff',</div></div><div class=\"p1050\" style=\"display: none;\"><div style=\"display: table-cell;\"></div><div style=\"display: table-cell;\">background_hatch_alpha&nbsp;=&nbsp;1.0,</div></div><div class=\"p1050\" style=\"display: none;\"><div style=\"display: table-cell;\"></div><div style=\"display: table-cell;\">background_hatch_color&nbsp;=&nbsp;'black',</div></div><div class=\"p1050\" style=\"display: none;\"><div style=\"display: table-cell;\"></div><div style=\"display: table-cell;\">background_hatch_extra&nbsp;=&nbsp;{},</div></div><div class=\"p1050\" style=\"display: none;\"><div style=\"display: table-cell;\"></div><div style=\"display: table-cell;\">background_hatch_pattern&nbsp;=&nbsp;None,</div></div><div class=\"p1050\" style=\"display: none;\"><div style=\"display: table-cell;\"></div><div style=\"display: table-cell;\">background_hatch_scale&nbsp;=&nbsp;12.0,</div></div><div class=\"p1050\" style=\"display: none;\"><div style=\"display: table-cell;\"></div><div style=\"display: table-cell;\">background_hatch_weight&nbsp;=&nbsp;1.0,</div></div><div class=\"p1050\" style=\"display: none;\"><div style=\"display: table-cell;\"></div><div style=\"display: table-cell;\">below&nbsp;=&nbsp;[LinearAxis(id='p1015', ...)],</div></div><div class=\"p1050\" style=\"display: none;\"><div style=\"display: table-cell;\"></div><div style=\"display: table-cell;\">border_fill_alpha&nbsp;=&nbsp;1.0,</div></div><div class=\"p1050\" style=\"display: none;\"><div style=\"display: table-cell;\"></div><div style=\"display: table-cell;\">border_fill_color&nbsp;=&nbsp;'#ffffff',</div></div><div class=\"p1050\" style=\"display: none;\"><div style=\"display: table-cell;\"></div><div style=\"display: table-cell;\">border_hatch_alpha&nbsp;=&nbsp;1.0,</div></div><div class=\"p1050\" style=\"display: none;\"><div style=\"display: table-cell;\"></div><div style=\"display: table-cell;\">border_hatch_color&nbsp;=&nbsp;'black',</div></div><div class=\"p1050\" style=\"display: none;\"><div style=\"display: table-cell;\"></div><div style=\"display: table-cell;\">border_hatch_extra&nbsp;=&nbsp;{},</div></div><div class=\"p1050\" style=\"display: none;\"><div style=\"display: table-cell;\"></div><div style=\"display: table-cell;\">border_hatch_pattern&nbsp;=&nbsp;None,</div></div><div class=\"p1050\" style=\"display: none;\"><div style=\"display: table-cell;\"></div><div style=\"display: table-cell;\">border_hatch_scale&nbsp;=&nbsp;12.0,</div></div><div class=\"p1050\" style=\"display: none;\"><div style=\"display: table-cell;\"></div><div style=\"display: table-cell;\">border_hatch_weight&nbsp;=&nbsp;1.0,</div></div><div class=\"p1050\" style=\"display: none;\"><div style=\"display: table-cell;\"></div><div style=\"display: table-cell;\">center&nbsp;=&nbsp;[Grid(id='p1019', ...), Grid(id='p1024', ...)],</div></div><div class=\"p1050\" style=\"display: none;\"><div style=\"display: table-cell;\"></div><div style=\"display: table-cell;\">context_menu&nbsp;=&nbsp;'auto',</div></div><div class=\"p1050\" style=\"display: none;\"><div style=\"display: table-cell;\"></div><div style=\"display: table-cell;\">css_classes&nbsp;=&nbsp;[],</div></div><div class=\"p1050\" style=\"display: none;\"><div style=\"display: table-cell;\"></div><div style=\"display: table-cell;\">css_variables&nbsp;=&nbsp;{},</div></div><div class=\"p1050\" style=\"display: none;\"><div style=\"display: table-cell;\"></div><div style=\"display: table-cell;\">disabled&nbsp;=&nbsp;False,</div></div><div class=\"p1050\" style=\"display: none;\"><div style=\"display: table-cell;\"></div><div style=\"display: table-cell;\">elements&nbsp;=&nbsp;[],</div></div><div class=\"p1050\" style=\"display: none;\"><div style=\"display: table-cell;\"></div><div style=\"display: table-cell;\">extra_x_ranges&nbsp;=&nbsp;{},</div></div><div class=\"p1050\" style=\"display: none;\"><div style=\"display: table-cell;\"></div><div style=\"display: table-cell;\">extra_x_scales&nbsp;=&nbsp;{},</div></div><div class=\"p1050\" style=\"display: none;\"><div style=\"display: table-cell;\"></div><div style=\"display: table-cell;\">extra_y_ranges&nbsp;=&nbsp;{},</div></div><div class=\"p1050\" style=\"display: none;\"><div style=\"display: table-cell;\"></div><div style=\"display: table-cell;\">extra_y_scales&nbsp;=&nbsp;{},</div></div><div class=\"p1050\" style=\"display: none;\"><div style=\"display: table-cell;\"></div><div style=\"display: table-cell;\">flow_mode&nbsp;=&nbsp;'block',</div></div><div class=\"p1050\" style=\"display: none;\"><div style=\"display: table-cell;\"></div><div style=\"display: table-cell;\">frame_align&nbsp;=&nbsp;True,</div></div><div class=\"p1050\" style=\"display: none;\"><div style=\"display: table-cell;\"></div><div style=\"display: table-cell;\">frame_height&nbsp;=&nbsp;None,</div></div><div class=\"p1050\" style=\"display: none;\"><div style=\"display: table-cell;\"></div><div style=\"display: table-cell;\">frame_width&nbsp;=&nbsp;None,</div></div><div class=\"p1050\" style=\"display: none;\"><div style=\"display: table-cell;\"></div><div style=\"display: table-cell;\">height&nbsp;=&nbsp;400,</div></div><div class=\"p1050\" style=\"display: none;\"><div style=\"display: table-cell;\"></div><div style=\"display: table-cell;\">height_policy&nbsp;=&nbsp;'auto',</div></div><div class=\"p1050\" style=\"display: none;\"><div style=\"display: table-cell;\"></div><div style=\"display: table-cell;\">hidpi&nbsp;=&nbsp;True,</div></div><div class=\"p1050\" style=\"display: none;\"><div style=\"display: table-cell;\"></div><div style=\"display: table-cell;\">hold_render&nbsp;=&nbsp;False,</div></div><div class=\"p1050\" style=\"display: none;\"><div style=\"display: table-cell;\"></div><div style=\"display: table-cell;\">html_attributes&nbsp;=&nbsp;{},</div></div><div class=\"p1050\" style=\"display: none;\"><div style=\"display: table-cell;\"></div><div style=\"display: table-cell;\">html_id&nbsp;=&nbsp;None,</div></div><div class=\"p1050\" style=\"display: none;\"><div style=\"display: table-cell;\"></div><div style=\"display: table-cell;\">js_event_callbacks&nbsp;=&nbsp;{},</div></div><div class=\"p1050\" style=\"display: none;\"><div style=\"display: table-cell;\"></div><div style=\"display: table-cell;\">js_property_callbacks&nbsp;=&nbsp;{},</div></div><div class=\"p1050\" style=\"display: none;\"><div style=\"display: table-cell;\"></div><div style=\"display: table-cell;\">left&nbsp;=&nbsp;[LinearAxis(id='p1020', ...)],</div></div><div class=\"p1050\" style=\"display: none;\"><div style=\"display: table-cell;\"></div><div style=\"display: table-cell;\">lod_factor&nbsp;=&nbsp;10,</div></div><div class=\"p1050\" style=\"display: none;\"><div style=\"display: table-cell;\"></div><div style=\"display: table-cell;\">lod_interval&nbsp;=&nbsp;300,</div></div><div class=\"p1050\" style=\"display: none;\"><div style=\"display: table-cell;\"></div><div style=\"display: table-cell;\">lod_threshold&nbsp;=&nbsp;2000,</div></div><div class=\"p1050\" style=\"display: none;\"><div style=\"display: table-cell;\"></div><div style=\"display: table-cell;\">lod_timeout&nbsp;=&nbsp;500,</div></div><div class=\"p1050\" style=\"display: none;\"><div style=\"display: table-cell;\"></div><div style=\"display: table-cell;\">margin&nbsp;=&nbsp;None,</div></div><div class=\"p1050\" style=\"display: none;\"><div style=\"display: table-cell;\"></div><div style=\"display: table-cell;\">match_aspect&nbsp;=&nbsp;False,</div></div><div class=\"p1050\" style=\"display: none;\"><div style=\"display: table-cell;\"></div><div style=\"display: table-cell;\">max_height&nbsp;=&nbsp;None,</div></div><div class=\"p1050\" style=\"display: none;\"><div style=\"display: table-cell;\"></div><div style=\"display: table-cell;\">max_width&nbsp;=&nbsp;None,</div></div><div class=\"p1050\" style=\"display: none;\"><div style=\"display: table-cell;\"></div><div style=\"display: table-cell;\">min_border&nbsp;=&nbsp;5,</div></div><div class=\"p1050\" style=\"display: none;\"><div style=\"display: table-cell;\"></div><div style=\"display: table-cell;\">min_border_bottom&nbsp;=&nbsp;None,</div></div><div class=\"p1050\" style=\"display: none;\"><div style=\"display: table-cell;\"></div><div style=\"display: table-cell;\">min_border_left&nbsp;=&nbsp;None,</div></div><div class=\"p1050\" style=\"display: none;\"><div style=\"display: table-cell;\"></div><div style=\"display: table-cell;\">min_border_right&nbsp;=&nbsp;None,</div></div><div class=\"p1050\" style=\"display: none;\"><div style=\"display: table-cell;\"></div><div style=\"display: table-cell;\">min_border_top&nbsp;=&nbsp;None,</div></div><div class=\"p1050\" style=\"display: none;\"><div style=\"display: table-cell;\"></div><div style=\"display: table-cell;\">min_height&nbsp;=&nbsp;None,</div></div><div class=\"p1050\" style=\"display: none;\"><div style=\"display: table-cell;\"></div><div style=\"display: table-cell;\">min_width&nbsp;=&nbsp;None,</div></div><div class=\"p1050\" style=\"display: none;\"><div style=\"display: table-cell;\"></div><div style=\"display: table-cell;\">name&nbsp;=&nbsp;None,</div></div><div class=\"p1050\" style=\"display: none;\"><div style=\"display: table-cell;\"></div><div style=\"display: table-cell;\">outline_line_alpha&nbsp;=&nbsp;1.0,</div></div><div class=\"p1050\" style=\"display: none;\"><div style=\"display: table-cell;\"></div><div style=\"display: table-cell;\">outline_line_cap&nbsp;=&nbsp;'butt',</div></div><div class=\"p1050\" style=\"display: none;\"><div style=\"display: table-cell;\"></div><div style=\"display: table-cell;\">outline_line_color&nbsp;=&nbsp;'#e5e5e5',</div></div><div class=\"p1050\" style=\"display: none;\"><div style=\"display: table-cell;\"></div><div style=\"display: table-cell;\">outline_line_dash&nbsp;=&nbsp;[],</div></div><div class=\"p1050\" style=\"display: none;\"><div style=\"display: table-cell;\"></div><div style=\"display: table-cell;\">outline_line_dash_offset&nbsp;=&nbsp;0,</div></div><div class=\"p1050\" style=\"display: none;\"><div style=\"display: table-cell;\"></div><div style=\"display: table-cell;\">outline_line_join&nbsp;=&nbsp;'bevel',</div></div><div class=\"p1050\" style=\"display: none;\"><div style=\"display: table-cell;\"></div><div style=\"display: table-cell;\">outline_line_width&nbsp;=&nbsp;1,</div></div><div class=\"p1050\" style=\"display: none;\"><div style=\"display: table-cell;\"></div><div style=\"display: table-cell;\">output_backend&nbsp;=&nbsp;'canvas',</div></div><div class=\"p1050\" style=\"display: none;\"><div style=\"display: table-cell;\"></div><div style=\"display: table-cell;\">renderers&nbsp;=&nbsp;[GlyphRenderer(id='p1044', ...)],</div></div><div class=\"p1050\" style=\"display: none;\"><div style=\"display: table-cell;\"></div><div style=\"display: table-cell;\">reset_policy&nbsp;=&nbsp;'standard',</div></div><div class=\"p1050\" style=\"display: none;\"><div style=\"display: table-cell;\"></div><div style=\"display: table-cell;\">resizable&nbsp;=&nbsp;False,</div></div><div class=\"p1050\" style=\"display: none;\"><div style=\"display: table-cell;\"></div><div style=\"display: table-cell;\">right&nbsp;=&nbsp;[],</div></div><div class=\"p1050\" style=\"display: none;\"><div style=\"display: table-cell;\"></div><div style=\"display: table-cell;\">sizing_mode&nbsp;=&nbsp;None,</div></div><div class=\"p1050\" style=\"display: none;\"><div style=\"display: table-cell;\"></div><div style=\"display: table-cell;\">styles&nbsp;=&nbsp;{},</div></div><div class=\"p1050\" style=\"display: none;\"><div style=\"display: table-cell;\"></div><div style=\"display: table-cell;\">stylesheets&nbsp;=&nbsp;[],</div></div><div class=\"p1050\" style=\"display: none;\"><div style=\"display: table-cell;\"></div><div style=\"display: table-cell;\">subscribed_events&nbsp;=&nbsp;PropertyValueSet(),</div></div><div class=\"p1050\" style=\"display: none;\"><div style=\"display: table-cell;\"></div><div style=\"display: table-cell;\">syncable&nbsp;=&nbsp;True,</div></div><div class=\"p1050\" style=\"display: none;\"><div style=\"display: table-cell;\"></div><div style=\"display: table-cell;\">tags&nbsp;=&nbsp;[],</div></div><div class=\"p1050\" style=\"display: none;\"><div style=\"display: table-cell;\"></div><div style=\"display: table-cell;\">title&nbsp;=&nbsp;Title(id='p1011', ...),</div></div><div class=\"p1050\" style=\"display: none;\"><div style=\"display: table-cell;\"></div><div style=\"display: table-cell;\">title_location&nbsp;=&nbsp;'above',</div></div><div class=\"p1050\" style=\"display: none;\"><div style=\"display: table-cell;\"></div><div style=\"display: table-cell;\">toolbar&nbsp;=&nbsp;Toolbar(id='p1012', ...),</div></div><div class=\"p1050\" style=\"display: none;\"><div style=\"display: table-cell;\"></div><div style=\"display: table-cell;\">toolbar_inner&nbsp;=&nbsp;False,</div></div><div class=\"p1050\" style=\"display: none;\"><div style=\"display: table-cell;\"></div><div style=\"display: table-cell;\">toolbar_location&nbsp;=&nbsp;'right',</div></div><div class=\"p1050\" style=\"display: none;\"><div style=\"display: table-cell;\"></div><div style=\"display: table-cell;\">toolbar_sticky&nbsp;=&nbsp;True,</div></div><div class=\"p1050\" style=\"display: none;\"><div style=\"display: table-cell;\"></div><div style=\"display: table-cell;\">visible&nbsp;=&nbsp;True,</div></div><div class=\"p1050\" style=\"display: none;\"><div style=\"display: table-cell;\"></div><div style=\"display: table-cell;\">width&nbsp;=&nbsp;600,</div></div><div class=\"p1050\" style=\"display: none;\"><div style=\"display: table-cell;\"></div><div style=\"display: table-cell;\">width_policy&nbsp;=&nbsp;'auto',</div></div><div class=\"p1050\" style=\"display: none;\"><div style=\"display: table-cell;\"></div><div style=\"display: table-cell;\">window_axis&nbsp;=&nbsp;'none',</div></div><div class=\"p1050\" style=\"display: none;\"><div style=\"display: table-cell;\"></div><div style=\"display: table-cell;\">x_range&nbsp;=&nbsp;DataRange1d(id='p1005', ...),</div></div><div class=\"p1050\" style=\"display: none;\"><div style=\"display: table-cell;\"></div><div style=\"display: table-cell;\">x_scale&nbsp;=&nbsp;LinearScale(id='p1013', ...),</div></div><div class=\"p1050\" style=\"display: none;\"><div style=\"display: table-cell;\"></div><div style=\"display: table-cell;\">y_range&nbsp;=&nbsp;DataRange1d(id='p1006', ...),</div></div><div class=\"p1050\" style=\"display: none;\"><div style=\"display: table-cell;\"></div><div style=\"display: table-cell;\">y_scale&nbsp;=&nbsp;LinearScale(id='p1014', ...))</div></div></div>\n",
              "<script>\n",
              "(function() {\n",
              "  let expanded = false;\n",
              "  const ellipsis = document.getElementById(\"p1051\");\n",
              "  ellipsis.addEventListener(\"click\", function() {\n",
              "    const rows = document.getElementsByClassName(\"p1050\");\n",
              "    for (let i = 0; i < rows.length; i++) {\n",
              "      const el = rows[i];\n",
              "      el.style.display = expanded ? \"none\" : \"table-row\";\n",
              "    }\n",
              "    ellipsis.innerHTML = expanded ? \"&hellip;)\" : \"&lsaquo;&lsaquo;&lsaquo;\";\n",
              "    expanded = !expanded;\n",
              "  });\n",
              "})();\n",
              "</script>\n"
            ]
          },
          "metadata": {},
          "execution_count": 41
        }
      ],
      "source": [
        "draw_vectors(embedding[:, 0], embedding[:, 1], token=top_words)"
      ]
    },
    {
      "cell_type": "markdown",
      "metadata": {
        "id": "M7u4QOSrKewn"
      },
      "source": [
        "Для сдачи задания необходимо загрузить функции `subsample_frequent_words` и `get_negative_sampling_prob`, а также сгенерировать файл для посылки ниже и приложить в соответствующую задачу. Успехов!"
      ]
    },
    {
      "cell_type": "code",
      "execution_count": 42,
      "metadata": {
        "id": "hwPiIMDqKewo",
        "outputId": "c9c9b524-0a4c-41c4-fa38-2b19558e1d12",
        "colab": {
          "base_uri": "https://localhost:8080/"
        }
      },
      "outputs": [
        {
          "output_type": "stream",
          "name": "stdout",
          "text": [
            "File saved to `submission_dict.json`\n"
          ]
        }
      ],
      "source": [
        "# do not change the code in the block below\n",
        "# __________start of block__________\n",
        "import os\n",
        "import json\n",
        "\n",
        "assert os.path.exists(\n",
        "    \"words_subset.txt\"\n",
        "), \"Please, download `words_subset.txt` and place it in the working directory\"\n",
        "\n",
        "with open(\"words_subset.txt\") as iofile:\n",
        "    selected_words = iofile.read().split(\"\\n\")\n",
        "\n",
        "\n",
        "def get_matrix_for_selected_words(selected_words, embedding_matrix, word_to_index):\n",
        "    word_vectors = []\n",
        "    for word in selected_words:\n",
        "        index = word_to_index.get(word, None)\n",
        "        vector = [0.0] * embedding_matrix.shape[1]\n",
        "        if index is not None:\n",
        "            vector = embedding_matrix[index].numpy().tolist()\n",
        "        word_vectors.append(vector)\n",
        "    return word_vectors\n",
        "\n",
        "\n",
        "word_vectors = get_matrix_for_selected_words(\n",
        "    selected_words, embedding_matrix_context, word_to_index\n",
        ")\n",
        "\n",
        "with open(\"submission_dict.json\", \"w\") as iofile:\n",
        "    json.dump(word_vectors, iofile)\n",
        "print(\"File saved to `submission_dict.json`\")\n",
        "# __________end of block__________"
      ]
    },
    {
      "cell_type": "code",
      "source": [],
      "metadata": {
        "id": "vcEAj7j3gZhW"
      },
      "execution_count": null,
      "outputs": []
    }
  ],
  "metadata": {
    "colab": {
      "provenance": []
    },
    "kernelspec": {
      "display_name": "py3_research",
      "language": "python",
      "name": "python3"
    },
    "language_info": {
      "codemirror_mode": {
        "name": "ipython",
        "version": 3
      },
      "file_extension": ".py",
      "mimetype": "text/x-python",
      "name": "python",
      "nbconvert_exporter": "python",
      "pygments_lexer": "ipython3",
      "version": "3.11.2"
    },
    "widgets": {
      "application/vnd.jupyter.widget-state+json": {
        "ded7189151264b67a182c258ea96e605": {
          "model_module": "@jupyter-widgets/controls",
          "model_name": "HBoxModel",
          "model_module_version": "1.5.0",
          "state": {
            "_dom_classes": [],
            "_model_module": "@jupyter-widgets/controls",
            "_model_module_version": "1.5.0",
            "_model_name": "HBoxModel",
            "_view_count": null,
            "_view_module": "@jupyter-widgets/controls",
            "_view_module_version": "1.5.0",
            "_view_name": "HBoxView",
            "box_style": "",
            "children": [
              "IPY_MODEL_34577c763e5b455e894757aaf4bede45",
              "IPY_MODEL_5dffb5d69cd04e4f93aab235a621e4a3",
              "IPY_MODEL_a5816b15a3924fad877d9ac182858aa5"
            ],
            "layout": "IPY_MODEL_ade7105e96bf4d9ead1e15aed7a1008b"
          }
        },
        "34577c763e5b455e894757aaf4bede45": {
          "model_module": "@jupyter-widgets/controls",
          "model_name": "HTMLModel",
          "model_module_version": "1.5.0",
          "state": {
            "_dom_classes": [],
            "_model_module": "@jupyter-widgets/controls",
            "_model_module_version": "1.5.0",
            "_model_name": "HTMLModel",
            "_view_count": null,
            "_view_module": "@jupyter-widgets/controls",
            "_view_module_version": "1.5.0",
            "_view_name": "HTMLView",
            "description": "",
            "description_tooltip": null,
            "layout": "IPY_MODEL_b248dcbb29fc4e318faa0aab26011f24",
            "placeholder": "​",
            "style": "IPY_MODEL_f2382d9999804cc78033fcf52e95cdc8",
            "value": "100%"
          }
        },
        "5dffb5d69cd04e4f93aab235a621e4a3": {
          "model_module": "@jupyter-widgets/controls",
          "model_name": "FloatProgressModel",
          "model_module_version": "1.5.0",
          "state": {
            "_dom_classes": [],
            "_model_module": "@jupyter-widgets/controls",
            "_model_module_version": "1.5.0",
            "_model_name": "FloatProgressModel",
            "_view_count": null,
            "_view_module": "@jupyter-widgets/controls",
            "_view_module_version": "1.5.0",
            "_view_name": "ProgressView",
            "bar_style": "success",
            "description": "",
            "description_tooltip": null,
            "layout": "IPY_MODEL_14ad936886a146ef9ea05e7b7f7fbe9a",
            "max": 2500,
            "min": 0,
            "orientation": "horizontal",
            "style": "IPY_MODEL_09af54b9959a461590ada7ee1000e74f",
            "value": 2500
          }
        },
        "a5816b15a3924fad877d9ac182858aa5": {
          "model_module": "@jupyter-widgets/controls",
          "model_name": "HTMLModel",
          "model_module_version": "1.5.0",
          "state": {
            "_dom_classes": [],
            "_model_module": "@jupyter-widgets/controls",
            "_model_module_version": "1.5.0",
            "_model_name": "HTMLModel",
            "_view_count": null,
            "_view_module": "@jupyter-widgets/controls",
            "_view_module_version": "1.5.0",
            "_view_name": "HTMLView",
            "description": "",
            "description_tooltip": null,
            "layout": "IPY_MODEL_70569c00ce7b4c5bac6f606dfb34a531",
            "placeholder": "​",
            "style": "IPY_MODEL_1abc44622d3d443983edff849274d652",
            "value": " 2500/2500 [1:00:05&lt;00:00,  1.41s/it]"
          }
        },
        "ade7105e96bf4d9ead1e15aed7a1008b": {
          "model_module": "@jupyter-widgets/base",
          "model_name": "LayoutModel",
          "model_module_version": "1.2.0",
          "state": {
            "_model_module": "@jupyter-widgets/base",
            "_model_module_version": "1.2.0",
            "_model_name": "LayoutModel",
            "_view_count": null,
            "_view_module": "@jupyter-widgets/base",
            "_view_module_version": "1.2.0",
            "_view_name": "LayoutView",
            "align_content": null,
            "align_items": null,
            "align_self": null,
            "border": null,
            "bottom": null,
            "display": null,
            "flex": null,
            "flex_flow": null,
            "grid_area": null,
            "grid_auto_columns": null,
            "grid_auto_flow": null,
            "grid_auto_rows": null,
            "grid_column": null,
            "grid_gap": null,
            "grid_row": null,
            "grid_template_areas": null,
            "grid_template_columns": null,
            "grid_template_rows": null,
            "height": null,
            "justify_content": null,
            "justify_items": null,
            "left": null,
            "margin": null,
            "max_height": null,
            "max_width": null,
            "min_height": null,
            "min_width": null,
            "object_fit": null,
            "object_position": null,
            "order": null,
            "overflow": null,
            "overflow_x": null,
            "overflow_y": null,
            "padding": null,
            "right": null,
            "top": null,
            "visibility": null,
            "width": null
          }
        },
        "b248dcbb29fc4e318faa0aab26011f24": {
          "model_module": "@jupyter-widgets/base",
          "model_name": "LayoutModel",
          "model_module_version": "1.2.0",
          "state": {
            "_model_module": "@jupyter-widgets/base",
            "_model_module_version": "1.2.0",
            "_model_name": "LayoutModel",
            "_view_count": null,
            "_view_module": "@jupyter-widgets/base",
            "_view_module_version": "1.2.0",
            "_view_name": "LayoutView",
            "align_content": null,
            "align_items": null,
            "align_self": null,
            "border": null,
            "bottom": null,
            "display": null,
            "flex": null,
            "flex_flow": null,
            "grid_area": null,
            "grid_auto_columns": null,
            "grid_auto_flow": null,
            "grid_auto_rows": null,
            "grid_column": null,
            "grid_gap": null,
            "grid_row": null,
            "grid_template_areas": null,
            "grid_template_columns": null,
            "grid_template_rows": null,
            "height": null,
            "justify_content": null,
            "justify_items": null,
            "left": null,
            "margin": null,
            "max_height": null,
            "max_width": null,
            "min_height": null,
            "min_width": null,
            "object_fit": null,
            "object_position": null,
            "order": null,
            "overflow": null,
            "overflow_x": null,
            "overflow_y": null,
            "padding": null,
            "right": null,
            "top": null,
            "visibility": null,
            "width": null
          }
        },
        "f2382d9999804cc78033fcf52e95cdc8": {
          "model_module": "@jupyter-widgets/controls",
          "model_name": "DescriptionStyleModel",
          "model_module_version": "1.5.0",
          "state": {
            "_model_module": "@jupyter-widgets/controls",
            "_model_module_version": "1.5.0",
            "_model_name": "DescriptionStyleModel",
            "_view_count": null,
            "_view_module": "@jupyter-widgets/base",
            "_view_module_version": "1.2.0",
            "_view_name": "StyleView",
            "description_width": ""
          }
        },
        "14ad936886a146ef9ea05e7b7f7fbe9a": {
          "model_module": "@jupyter-widgets/base",
          "model_name": "LayoutModel",
          "model_module_version": "1.2.0",
          "state": {
            "_model_module": "@jupyter-widgets/base",
            "_model_module_version": "1.2.0",
            "_model_name": "LayoutModel",
            "_view_count": null,
            "_view_module": "@jupyter-widgets/base",
            "_view_module_version": "1.2.0",
            "_view_name": "LayoutView",
            "align_content": null,
            "align_items": null,
            "align_self": null,
            "border": null,
            "bottom": null,
            "display": null,
            "flex": null,
            "flex_flow": null,
            "grid_area": null,
            "grid_auto_columns": null,
            "grid_auto_flow": null,
            "grid_auto_rows": null,
            "grid_column": null,
            "grid_gap": null,
            "grid_row": null,
            "grid_template_areas": null,
            "grid_template_columns": null,
            "grid_template_rows": null,
            "height": null,
            "justify_content": null,
            "justify_items": null,
            "left": null,
            "margin": null,
            "max_height": null,
            "max_width": null,
            "min_height": null,
            "min_width": null,
            "object_fit": null,
            "object_position": null,
            "order": null,
            "overflow": null,
            "overflow_x": null,
            "overflow_y": null,
            "padding": null,
            "right": null,
            "top": null,
            "visibility": null,
            "width": null
          }
        },
        "09af54b9959a461590ada7ee1000e74f": {
          "model_module": "@jupyter-widgets/controls",
          "model_name": "ProgressStyleModel",
          "model_module_version": "1.5.0",
          "state": {
            "_model_module": "@jupyter-widgets/controls",
            "_model_module_version": "1.5.0",
            "_model_name": "ProgressStyleModel",
            "_view_count": null,
            "_view_module": "@jupyter-widgets/base",
            "_view_module_version": "1.2.0",
            "_view_name": "StyleView",
            "bar_color": null,
            "description_width": ""
          }
        },
        "70569c00ce7b4c5bac6f606dfb34a531": {
          "model_module": "@jupyter-widgets/base",
          "model_name": "LayoutModel",
          "model_module_version": "1.2.0",
          "state": {
            "_model_module": "@jupyter-widgets/base",
            "_model_module_version": "1.2.0",
            "_model_name": "LayoutModel",
            "_view_count": null,
            "_view_module": "@jupyter-widgets/base",
            "_view_module_version": "1.2.0",
            "_view_name": "LayoutView",
            "align_content": null,
            "align_items": null,
            "align_self": null,
            "border": null,
            "bottom": null,
            "display": null,
            "flex": null,
            "flex_flow": null,
            "grid_area": null,
            "grid_auto_columns": null,
            "grid_auto_flow": null,
            "grid_auto_rows": null,
            "grid_column": null,
            "grid_gap": null,
            "grid_row": null,
            "grid_template_areas": null,
            "grid_template_columns": null,
            "grid_template_rows": null,
            "height": null,
            "justify_content": null,
            "justify_items": null,
            "left": null,
            "margin": null,
            "max_height": null,
            "max_width": null,
            "min_height": null,
            "min_width": null,
            "object_fit": null,
            "object_position": null,
            "order": null,
            "overflow": null,
            "overflow_x": null,
            "overflow_y": null,
            "padding": null,
            "right": null,
            "top": null,
            "visibility": null,
            "width": null
          }
        },
        "1abc44622d3d443983edff849274d652": {
          "model_module": "@jupyter-widgets/controls",
          "model_name": "DescriptionStyleModel",
          "model_module_version": "1.5.0",
          "state": {
            "_model_module": "@jupyter-widgets/controls",
            "_model_module_version": "1.5.0",
            "_model_name": "DescriptionStyleModel",
            "_view_count": null,
            "_view_module": "@jupyter-widgets/base",
            "_view_module_version": "1.2.0",
            "_view_name": "StyleView",
            "description_width": ""
          }
        }
      }
    }
  },
  "nbformat": 4,
  "nbformat_minor": 0
}